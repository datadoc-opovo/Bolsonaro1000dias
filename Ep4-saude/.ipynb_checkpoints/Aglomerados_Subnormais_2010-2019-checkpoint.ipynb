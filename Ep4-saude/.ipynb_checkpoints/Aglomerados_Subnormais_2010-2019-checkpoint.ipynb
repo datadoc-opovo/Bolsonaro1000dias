{
 "cells": [
  {
   "cell_type": "markdown",
   "metadata": {},
   "source": [
    "# Domicílios em aglomerados subnormais 2010 - 2019\n",
    "\n",
    "---\n",
    "\n",
    "Este notebook compara a quantidade de domicílios localizados em aglomerados subnormais em 2010 e em 2019, segundo dados do Instituto Brasileiro de Geografia e Estatística (IBGE). Os dados referentes a 2019 foram estimados pelo IBGE de forma preliminar para auxiliar no enfrentamento à pandemia de Covid-19 e podem ser confirmados ou revisados de acordo com o recenseamento, que deveria ter sido realizado em 2020, foi adiado para 2021 e está previsto para 2022.\n",
    "\n",
    "Inicialmente, foi feita uma limpeza no Google Sheets no arquivo `tab01` da base original de 2010 apenas para deixar apenas as linhas correspondente às Unidades Federativas (UF) - retirando grandes regiões, municípios etc. Após essa limpeza, o arquivo foi nomeado `tab01_uf_limpo` e salvo em `.csv`.\n",
    "\n",
    "#### Fontes\n",
    "\n",
    "Dados de 2010: \n",
    "https://www.ibge.gov.br/geociencias/organizacao-do-territorio/tipologias-do-territorio/15788-aglomerados-subnormais.html?edicao=15949&t=acesso-ao-produto\n",
    "\n",
    "Dados de 2019: \n",
    "https://www.ibge.gov.br/geociencias/organizacao-do-territorio/tipologias-do-territorio/15788-aglomerados-subnormais.html?=&t=acesso-ao-produto"
   ]
  },
  {
   "cell_type": "code",
   "execution_count": 1,
   "metadata": {},
   "outputs": [
    {
     "ename": "ImportError",
     "evalue": "No module named pandas",
     "output_type": "error",
     "traceback": [
      "\u001b[0;31m---------------------------------------------------------------------------\u001b[0m",
      "\u001b[0;31mImportError\u001b[0m                               Traceback (most recent call last)",
      "\u001b[0;32m<ipython-input-1-a5a06d625000>\u001b[0m in \u001b[0;36m<module>\u001b[0;34m()\u001b[0m\n\u001b[1;32m      1\u001b[0m \u001b[0;31m# importar bibliotecas pandas e numpy\u001b[0m\u001b[0;34m\u001b[0m\u001b[0;34m\u001b[0m\u001b[0m\n\u001b[1;32m      2\u001b[0m \u001b[0;34m\u001b[0m\u001b[0m\n\u001b[0;32m----> 3\u001b[0;31m \u001b[0;32mimport\u001b[0m \u001b[0mpandas\u001b[0m \u001b[0;32mas\u001b[0m \u001b[0mpd\u001b[0m\u001b[0;34m\u001b[0m\u001b[0m\n\u001b[0m\u001b[1;32m      4\u001b[0m \u001b[0;32mimport\u001b[0m \u001b[0mnumpy\u001b[0m \u001b[0;32mas\u001b[0m \u001b[0mnp\u001b[0m\u001b[0;34m\u001b[0m\u001b[0m\n",
      "\u001b[0;31mImportError\u001b[0m: No module named pandas"
     ]
    }
   ],
   "source": [
    "# importar bibliotecas pandas e numpy\n",
    "\n",
    "import pandas as pd\n",
    "import numpy as np"
   ]
  },
  {
   "cell_type": "markdown",
   "metadata": {},
   "source": [
    "## 2010"
   ]
  },
  {
   "cell_type": "code",
   "execution_count": null,
   "metadata": {},
   "outputs": [],
   "source": [
    "# leitura da tabela de 2010\n",
    "\n",
    "df_2010 = pd.read_csv('fontes/2010.csv')"
   ]
  },
  {
   "cell_type": "code",
   "execution_count": null,
   "metadata": {},
   "outputs": [],
   "source": [
    "# criação de nova coluna chamada 'CD_UF', igual à coluna\n",
    "# 'Código da Unidade Geográfica' já existente, para posteriormente unir os dois dataframes\n",
    "\n",
    "df_2010['CD_UF'] = df_2010['Código da Unidade Geográfica']"
   ]
  },
  {
   "cell_type": "code",
   "execution_count": null,
   "metadata": {},
   "outputs": [],
   "source": [
    "# visualização do dataframe de 2010\n",
    "\n",
    "df_2010"
   ]
  },
  {
   "cell_type": "markdown",
   "metadata": {},
   "source": [
    "## 2019"
   ]
  },
  {
   "cell_type": "code",
   "execution_count": null,
   "metadata": {},
   "outputs": [],
   "source": [
    "# leitura da tabela de 2019\n",
    "\n",
    "df_2019 = pd.read_csv('Estado_AGSN.csv')"
   ]
  },
  {
   "cell_type": "code",
   "execution_count": null,
   "metadata": {},
   "outputs": [],
   "source": [
    "# visualização do dataframe de 2019\n",
    "\n",
    "df_2019"
   ]
  },
  {
   "cell_type": "markdown",
   "metadata": {},
   "source": [
    "## Merge df_2010 e df_2019"
   ]
  },
  {
   "cell_type": "code",
   "execution_count": null,
   "metadata": {},
   "outputs": [],
   "source": [
    "# união das tabelas de 2010 e 2019 a partir da coluna 'CD_UF', igual em ambos os dataframes\n",
    "\n",
    "df_total = pd.merge(\n",
    "                df_2010,\n",
    "                df_2019,\n",
    "                how='inner',\n",
    "                on='CD_UF'\n",
    ")"
   ]
  },
  {
   "cell_type": "code",
   "execution_count": null,
   "metadata": {},
   "outputs": [],
   "source": [
    "# visualização do novo dataframe\n",
    "\n",
    "df_total"
   ]
  },
  {
   "cell_type": "code",
   "execution_count": null,
   "metadata": {},
   "outputs": [],
   "source": [
    "# criação de novas colunas para os dados de cada ano, para tornar o dataframe mais legível\n",
    "\n",
    "df_total['AG_2010'] = df_total['Número de domicílios particulares ocupados']\n",
    "df_total['AG_2019'] = df_total['EDOC_AGSN']"
   ]
  },
  {
   "cell_type": "code",
   "execution_count": null,
   "metadata": {},
   "outputs": [],
   "source": [
    "# visualização das colunas do dataframe 'df_total'\n",
    "\n",
    "df_total.columns"
   ]
  },
  {
   "cell_type": "code",
   "execution_count": null,
   "metadata": {},
   "outputs": [],
   "source": [
    "# criação de filtro 'colunas' para colunas desejadas\n",
    "\n",
    "colunas = ['NM_REGIAO', 'UF', 'AG_2010', 'AG_2019']"
   ]
  },
  {
   "cell_type": "code",
   "execution_count": null,
   "metadata": {
    "scrolled": false
   },
   "outputs": [],
   "source": [
    "# checar tipo de dado da coluna'AG_2019'\n",
    "\n",
    "df_total['AG_2019'].dtype"
   ]
  },
  {
   "cell_type": "code",
   "execution_count": null,
   "metadata": {},
   "outputs": [],
   "source": [
    "# checar tipo de dado da coluna'AG_2010'\n",
    "\n",
    "df_total['AG_2010'].dtype"
   ]
  },
  {
   "cell_type": "code",
   "execution_count": null,
   "metadata": {},
   "outputs": [],
   "source": [
    "# criação de novo dataframe a partir do filtro 'colunas' criado anteriormente\n",
    "\n",
    "df_comparacao = df_total[colunas]"
   ]
  },
  {
   "cell_type": "code",
   "execution_count": null,
   "metadata": {},
   "outputs": [],
   "source": [
    "# criação de nova coluna com o cálculo da variação entre os dados de cada ano para cada UF\n",
    "\n",
    "df_comparacao['Variação %'] = round(df_comparacao.apply(lambda x: x['AG_2019']/x['AG_2010']-1, axis=1)*100,1)"
   ]
  },
  {
   "cell_type": "code",
   "execution_count": null,
   "metadata": {},
   "outputs": [],
   "source": [
    "# ordenação do dataframe pela variação\n",
    "\n",
    "df_comparacao.sort_values(by=['Variação %'], ascending=False)"
   ]
  },
  {
   "cell_type": "code",
   "execution_count": null,
   "metadata": {},
   "outputs": [],
   "source": [
    "# criação de dicionário com as siglas de cada UF\n",
    "\n",
    "dict_siglas = {\n",
    "    'AC': 'Acre',\n",
    "    'AL': 'Alagoas',\n",
    "    'AP': 'Amapá',\n",
    "    'AM': 'Amazonas',\n",
    "    'BA': 'Bahia',\n",
    "    'CE': 'Ceará',\n",
    "    'DF': 'Distrito Federal',\n",
    "    'ES': 'Espírito Santo',\n",
    "    'GO': 'Goiás',\n",
    "    'MA': 'Maranhão',\n",
    "    'MT': 'Mato Grosso',\n",
    "    'MS': 'Mato Grosso do Sul',\n",
    "    'MG': 'Minas Gerais',\n",
    "    'PA': 'Pará',\n",
    "    'PB': 'Paraíba',\n",
    "    'PR': 'Paraná',\n",
    "    'PE': 'Pernambuco',\n",
    "    'PI': 'Piauí',\n",
    "    'RJ': 'Rio de Janeiro',\n",
    "    'RN': 'Rio Grande do Norte',\n",
    "    'RS': 'Rio Grande do Sul',\n",
    "    'RO': 'Rondônia',\n",
    "    'RR': 'Roraima',\n",
    "    'SC': 'Santa Catarina',\n",
    "    'SP': 'São Paulo',\n",
    "    'SE': 'Sergipe',\n",
    "    'TO': 'Tocantins'\n",
    "}\n",
    "\n",
    "inv_siglas = dict((v, k) for k, v in dict_siglas.items())"
   ]
  },
  {
   "cell_type": "code",
   "execution_count": null,
   "metadata": {},
   "outputs": [],
   "source": [
    "\n",
    "df_comparacao['Sigla_UF'] = df_comparacao['UF'].map(inv_siglas)\n",
    "df_comparacao"
   ]
  },
  {
   "cell_type": "code",
   "execution_count": null,
   "metadata": {},
   "outputs": [],
   "source": [
    "# criação de arquivo csv\n",
    "\n",
    "df_comparacao.sort_values(by=['Variação %'], ascending=False).to_csv('aglomerados_subnormais_2010a2019.csv', index=False)"
   ]
  },
  {
   "cell_type": "code",
   "execution_count": null,
   "metadata": {},
   "outputs": [],
   "source": [
    "# Versão 2: \n"
   ]
  },
  {
   "cell_type": "code",
   "execution_count": null,
   "metadata": {},
   "outputs": [],
   "source": [
    "# \n",
    "\n",
    "df_comparacao['Dif_2019'] = df_comparacao['AG_2019']-df_comparacao['AG_2010']"
   ]
  },
  {
   "cell_type": "code",
   "execution_count": null,
   "metadata": {},
   "outputs": [],
   "source": [
    "# visualização de dataframe 'df_comparacao'\n",
    "\n",
    "df_comparacao"
   ]
  },
  {
   "cell_type": "code",
   "execution_count": null,
   "metadata": {},
   "outputs": [],
   "source": [
    "# criação de arquivo .csv\n",
    "\n",
    "df_comparacao.sort_values(by=['AG_2019'], ascending=False).to_csv('aglomerados_subnormais_2010a2019v2.csv', index=False)"
   ]
  },
  {
   "cell_type": "code",
   "execution_count": null,
   "metadata": {},
   "outputs": [],
   "source": [
    "# soma dos valores referentes à quantidades de domicílios total em 2010\n",
    "\n",
    "df_comparacao['AG_2010'].sum()"
   ]
  },
  {
   "cell_type": "code",
   "execution_count": null,
   "metadata": {},
   "outputs": [],
   "source": [
    "# soma dos valores referentes à projeção da quantidades de domicílios total em 2019\n",
    "\n",
    "df_comparacao['AG_2019'].sum()"
   ]
  },
  {
   "cell_type": "code",
   "execution_count": null,
   "metadata": {},
   "outputs": [],
   "source": [
    "# visualização de dataframe \n",
    "\n",
    "df_comparacao.sort_values(by=['Variação %'], ascending=False)"
   ]
  },
  {
   "cell_type": "code",
   "execution_count": null,
   "metadata": {},
   "outputs": [],
   "source": []
  }
 ],
 "metadata": {
  "kernelspec": {
   "display_name": "Python 3",
   "language": "python",
   "name": "python3"
  },
  "language_info": {
   "codemirror_mode": {
    "name": "ipython",
    "version": 2
   },
   "file_extension": ".py",
   "mimetype": "text/x-python",
   "name": "python",
   "nbconvert_exporter": "python",
   "pygments_lexer": "ipython2",
   "version": "2.7.17"
  }
 },
 "nbformat": 4,
 "nbformat_minor": 5
}
