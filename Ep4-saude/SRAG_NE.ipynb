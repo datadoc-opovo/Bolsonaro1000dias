{
 "cells": [
  {
   "cell_type": "markdown",
   "id": "e4235e72",
   "metadata": {},
   "source": [
    "# Óbitos por SRAG não especificado entre 2015 e 2021\n",
    "\n",
    "Este notebook foi produzido para realizar análise da série histórica dos óbitos por Síndrome Respiratória Aguda Grave (SRAG) Não Especificada no Brasil e no estado do Ceará entre os anos 2015 e 2021. Esse quadro por ser causado por influenza ou outros vírus respiratórios. Desde 2020, com ele também passou a ser causado pelo Sars-Cov-2, vírus causador da Covid-19, doença que levou à pandemia. O aumento dos óbitos com a classificação `não especificada` nos anos da pandemia aponta para subnotificação de óbitos por Covid-19. \n",
    "\n",
    "Para a análise de dados que baseou a reportagem, foram utilizadas informações disponíveis no Open DataSUS e retiradas no dia 14/09/2021. As bases oficiais estão em constante atualização. Os arquivos utilizados estão em `.csv`.\n",
    "\n",
    "Links para as bases de dados:\n",
    "* 2021: https://opendatasus.saude.gov.br/dataset/bd-srag-2021 \n",
    "* 2020: https://opendatasus.saude.gov.br/dataset/bd-srag-2020 \n",
    "* 2019: https://opendatasus.saude.gov.br/dataset/bd-srag-2019 \n",
    "* 2013 a 2018: https://opendatasus.saude.gov.br/dataset/bd-srag-2012-a-2018"
   ]
  },
  {
   "cell_type": "code",
   "execution_count": 1,
   "id": "20e6043a",
   "metadata": {},
   "outputs": [],
   "source": [
    "import pandas as pd\n",
    "import numpy as np"
   ]
  },
  {
   "cell_type": "markdown",
   "id": "29e2cdf1",
   "metadata": {},
   "source": [
    "## **Passo 1:** Carregar e organizar dados de cada ano"
   ]
  },
  {
   "cell_type": "markdown",
   "id": "159eedf9",
   "metadata": {},
   "source": [
    "### Ano: 2015"
   ]
  },
  {
   "cell_type": "code",
   "execution_count": 2,
   "id": "37a27591",
   "metadata": {},
   "outputs": [
    {
     "name": "stderr",
     "output_type": "stream",
     "text": [
      "C:\\Users\\55859\\AppData\\Local\\Programs\\Python\\Python39\\lib\\site-packages\\IPython\\core\\interactiveshell.py:3441: DtypeWarning: Columns (74) have mixed types.Specify dtype option on import or set low_memory=False.\n",
      "  exec(code_obj, self.user_global_ns, self.user_ns)\n"
     ]
    }
   ],
   "source": [
    "# importar dados referentes a 2015\n",
    "\n",
    "srag2015 = pd.read_csv('influd15_limpo-final.csv', sep=';', encoding='latin-1')"
   ]
  },
  {
   "cell_type": "code",
   "execution_count": 3,
   "id": "750ab367",
   "metadata": {},
   "outputs": [],
   "source": [
    "# filtrar colunas desejadas da tabela de 2015\n",
    "\n",
    "dados_2015 = srag2015.loc[:,['DT_NOTIFIC', 'SG_UF_NOT', 'DT_SIN_PRI', 'SG_UF', 'ID_MN_RESI', 'CO_UF_INTE', 'CO_MU_INTE',  'HOSPITAL', 'DT_INTERNA', 'CLASSI_FIN', 'EVOLUCAO', 'DT_OBITO']]"
   ]
  },
  {
   "cell_type": "code",
   "execution_count": 4,
   "id": "fb1dc9b2",
   "metadata": {},
   "outputs": [],
   "source": [
    "# criar coluna 'DT_EVOLUCA' para poder concatenar posteriormente com os dados de 2019 a 2021\n",
    "\n",
    "dados_2015['DT_EVOLUCA'] = dados_2015['DT_OBITO']"
   ]
  },
  {
   "cell_type": "code",
   "execution_count": 5,
   "id": "cd848422",
   "metadata": {},
   "outputs": [],
   "source": [
    "# transformar colunas 'DT_NOTIFIC', 'DT_INTERNA' e 'DT_EVOLUCA' em datetime\n",
    "\n",
    "dados_2015['DATA_NOTIFICACAO'] = pd.to_datetime(dados_2015['DT_NOTIFIC'], format='%d/%m/%Y')\n",
    "dados_2015['DATA_SIN_PRI'] = pd.to_datetime(dados_2015['DT_SIN_PRI'], format='%d/%m/%Y')\n",
    "dados_2015['DATA_INTERNACAO'] = pd.to_datetime(dados_2015['DT_INTERNA'], format='%d/%m/%Y')\n",
    "dados_2015['DATA_EVOLUCAO'] = pd.to_datetime(dados_2015['DT_EVOLUCA'], format='%d/%m/%Y')"
   ]
  },
  {
   "cell_type": "code",
   "execution_count": 6,
   "id": "cffd30ad",
   "metadata": {},
   "outputs": [],
   "source": [
    "# criar colunas com respectivo ano, a partir das colunas de data de notificação, internação e evolução\n",
    "\n",
    "dados_2015['ANO_NOTIFICACAO'] = dados_2015['DATA_NOTIFICACAO'].dt.year\n",
    "dados_2015['ANO_SIN_PRI'] = dados_2015['DATA_SIN_PRI'].dt.year\n",
    "dados_2015['ANO_INTERNACAO'] = dados_2015['DATA_INTERNACAO'].dt.year\n",
    "dados_2015['ANO_EVOLUCAO'] = dados_2015['DATA_EVOLUCAO'].dt.year"
   ]
  },
  {
   "cell_type": "code",
   "execution_count": 7,
   "id": "7b56aba3",
   "metadata": {},
   "outputs": [],
   "source": [
    "# criar novo dataframe sem a coluna 'DT_OBITO' das tabelas referente a 2015\n",
    "dados_2015_02 = dados_2015.loc[:,['DT_NOTIFIC', 'SG_UF_NOT', 'DT_SIN_PRI', 'SG_UF', 'ID_MN_RESI', 'CO_UF_INTE', 'CO_MU_INTE', 'HOSPITAL', 'DT_INTERNA', 'CLASSI_FIN', 'EVOLUCAO', 'DT_EVOLUCA', 'DATA_NOTIFICACAO', 'DATA_SIN_PRI', 'DATA_INTERNACAO', 'DATA_EVOLUCAO', 'ANO_NOTIFICACAO', 'ANO_SIN_PRI', 'ANO_INTERNACAO', 'ANO_EVOLUCAO']]"
   ]
  },
  {
   "cell_type": "code",
   "execution_count": 8,
   "id": "41a010da",
   "metadata": {
    "scrolled": true
   },
   "outputs": [
    {
     "data": {
      "text/plain": [
       "count                            14818\n",
       "mean     2015-06-24 20:41:39.446618880\n",
       "min                2015-01-04 00:00:00\n",
       "25%                2015-04-28 00:00:00\n",
       "50%                2015-06-14 00:00:00\n",
       "75%                2015-08-17 00:00:00\n",
       "max                2018-06-26 00:00:00\n",
       "Name: DATA_NOTIFICACAO, dtype: object"
      ]
     },
     "execution_count": 8,
     "metadata": {},
     "output_type": "execute_result"
    }
   ],
   "source": [
    "dados_2015_02['DATA_NOTIFICACAO'].describe(datetime_is_numeric=True)"
   ]
  },
  {
   "cell_type": "code",
   "execution_count": 9,
   "id": "3b649106",
   "metadata": {},
   "outputs": [
    {
     "data": {
      "text/plain": [
       "count                            14818\n",
       "mean     2015-06-15 18:05:41.098663936\n",
       "min                2015-01-04 00:00:00\n",
       "25%                2015-04-20 00:00:00\n",
       "50%                2015-06-06 00:00:00\n",
       "75%                2015-08-08 00:00:00\n",
       "max                2015-12-28 00:00:00\n",
       "Name: DATA_SIN_PRI, dtype: object"
      ]
     },
     "execution_count": 9,
     "metadata": {},
     "output_type": "execute_result"
    }
   ],
   "source": [
    "dados_2015_02['DATA_SIN_PRI'].describe(datetime_is_numeric=True)"
   ]
  },
  {
   "cell_type": "markdown",
   "id": "a86e94f4",
   "metadata": {},
   "source": [
    "### Ano: 2016"
   ]
  },
  {
   "cell_type": "code",
   "execution_count": 10,
   "id": "35e2132e",
   "metadata": {},
   "outputs": [
    {
     "name": "stderr",
     "output_type": "stream",
     "text": [
      "C:\\Users\\55859\\AppData\\Local\\Programs\\Python\\Python39\\lib\\site-packages\\IPython\\core\\interactiveshell.py:3441: DtypeWarning: Columns (74) have mixed types.Specify dtype option on import or set low_memory=False.\n",
      "  exec(code_obj, self.user_global_ns, self.user_ns)\n"
     ]
    }
   ],
   "source": [
    "# importar dados referentes a 2016\n",
    "\n",
    "srag2016 = pd.read_csv('influd16_limpo-final.csv', sep=';', encoding='latin-1')"
   ]
  },
  {
   "cell_type": "code",
   "execution_count": 11,
   "id": "90f80f31",
   "metadata": {},
   "outputs": [],
   "source": [
    "# filtrar colunas desejadas da tabela de 2016\n",
    "\n",
    "dados_2016 = srag2016.loc[:,['DT_NOTIFIC', 'SG_UF_NOT', 'DT_SIN_PRI', 'SG_UF', 'ID_MN_RESI', 'CO_UF_INTE', 'CO_MU_INTE',  'HOSPITAL', 'DT_INTERNA', 'CLASSI_FIN', 'EVOLUCAO', 'DT_OBITO']]"
   ]
  },
  {
   "cell_type": "code",
   "execution_count": 12,
   "id": "3150fe5c",
   "metadata": {},
   "outputs": [],
   "source": [
    "# criar coluna 'DT_EVOLUCA' para poder concatenar posteriormente com os dados de 2019 a 2021\n",
    "\n",
    "dados_2016['DT_EVOLUCA'] = dados_2016['DT_OBITO']"
   ]
  },
  {
   "cell_type": "code",
   "execution_count": 13,
   "id": "38a63d7a",
   "metadata": {},
   "outputs": [],
   "source": [
    "# transformar colunas 'DT_NOTIFIC', 'DT_INTERNA' e 'DT_EVOLUCA' em datetime\n",
    "\n",
    "dados_2016['DATA_NOTIFICACAO'] = pd.to_datetime(dados_2016['DT_NOTIFIC'], format='%d/%m/%Y')\n",
    "dados_2016['DATA_SIN_PRI'] = pd.to_datetime(dados_2016['DT_SIN_PRI'], format='%d/%m/%Y')\n",
    "dados_2016['DATA_INTERNACAO'] = pd.to_datetime(dados_2016['DT_INTERNA'], format='%d/%m/%Y')\n",
    "dados_2016['DATA_EVOLUCAO'] = pd.to_datetime(dados_2016['DT_EVOLUCA'], format='%d/%m/%Y')"
   ]
  },
  {
   "cell_type": "code",
   "execution_count": 14,
   "id": "22c1cbf1",
   "metadata": {},
   "outputs": [],
   "source": [
    "# criar colunas com respectivo ano, a partir das colunas de data de notificação, internação e evolução\n",
    "\n",
    "dados_2016['ANO_NOTIFICACAO'] = dados_2016['DATA_NOTIFICACAO'].dt.year\n",
    "dados_2016['ANO_SIN_PRI'] = dados_2016['DATA_SIN_PRI'].dt.year\n",
    "dados_2016['ANO_INTERNACAO'] = dados_2016['DATA_INTERNACAO'].dt.year\n",
    "dados_2016['ANO_EVOLUCAO'] = dados_2016['DATA_EVOLUCAO'].dt.year"
   ]
  },
  {
   "cell_type": "code",
   "execution_count": 15,
   "id": "483245d4",
   "metadata": {},
   "outputs": [],
   "source": [
    "# criar novo dataframe sem a coluna 'DT_OBITO' das tabelas referente a 2016\n",
    "dados_2016_02 = dados_2016.loc[:,['DT_NOTIFIC', 'SG_UF_NOT', 'DT_SIN_PRI', 'SG_UF', 'ID_MN_RESI', 'CO_UF_INTE', 'CO_MU_INTE', 'HOSPITAL', 'DT_INTERNA', 'CLASSI_FIN', 'EVOLUCAO', 'DT_EVOLUCA', 'DATA_NOTIFICACAO', 'DATA_SIN_PRI', 'DATA_INTERNACAO', 'DATA_EVOLUCAO', 'ANO_NOTIFICACAO', 'ANO_SIN_PRI', 'ANO_INTERNACAO', 'ANO_EVOLUCAO']]"
   ]
  },
  {
   "cell_type": "code",
   "execution_count": 16,
   "id": "8ef3d326",
   "metadata": {
    "scrolled": true
   },
   "outputs": [
    {
     "data": {
      "text/plain": [
       "count                            55228\n",
       "mean     2016-06-01 15:15:30.049974528\n",
       "min                2016-01-04 00:00:00\n",
       "25%                2016-04-13 00:00:00\n",
       "50%                2016-05-13 00:00:00\n",
       "75%                2016-07-03 00:00:00\n",
       "max                2018-11-29 00:00:00\n",
       "Name: DATA_NOTIFICACAO, dtype: object"
      ]
     },
     "execution_count": 16,
     "metadata": {},
     "output_type": "execute_result"
    }
   ],
   "source": [
    "dados_2016_02['DATA_NOTIFICACAO'].describe(datetime_is_numeric=True)"
   ]
  },
  {
   "cell_type": "code",
   "execution_count": 17,
   "id": "460352b5",
   "metadata": {},
   "outputs": [
    {
     "data": {
      "text/plain": [
       "count                            55228\n",
       "mean     2016-05-26 06:04:36.903020544\n",
       "min                2016-01-03 00:00:00\n",
       "25%                2016-04-08 00:00:00\n",
       "50%                2016-05-08 00:00:00\n",
       "75%                2016-06-26 00:00:00\n",
       "max                2016-12-31 00:00:00\n",
       "Name: DATA_SIN_PRI, dtype: object"
      ]
     },
     "execution_count": 17,
     "metadata": {},
     "output_type": "execute_result"
    }
   ],
   "source": [
    "dados_2016_02['DATA_SIN_PRI'].describe(datetime_is_numeric=True)"
   ]
  },
  {
   "cell_type": "markdown",
   "id": "a1d0268e",
   "metadata": {},
   "source": [
    "### Ano: 2017"
   ]
  },
  {
   "cell_type": "code",
   "execution_count": 18,
   "id": "fca9a829",
   "metadata": {},
   "outputs": [
    {
     "name": "stderr",
     "output_type": "stream",
     "text": [
      "C:\\Users\\55859\\AppData\\Local\\Programs\\Python\\Python39\\lib\\site-packages\\IPython\\core\\interactiveshell.py:3441: DtypeWarning: Columns (75) have mixed types.Specify dtype option on import or set low_memory=False.\n",
      "  exec(code_obj, self.user_global_ns, self.user_ns)\n"
     ]
    }
   ],
   "source": [
    "# importar dados referentes a 2017\n",
    "\n",
    "srag2017 = pd.read_csv('influd17_limpo-final.csv', sep=';', encoding='latin-1')"
   ]
  },
  {
   "cell_type": "code",
   "execution_count": 19,
   "id": "16463fb3",
   "metadata": {},
   "outputs": [],
   "source": [
    "# filtrar colunas desejadas da tabela de 2017\n",
    "\n",
    "dados_2017 = srag2017.loc[:,['DT_NOTIFIC', 'SG_UF_NOT', 'DT_SIN_PRI', 'SG_UF', 'ID_MN_RESI', 'CO_UF_INTE', 'CO_MU_INTE',  'HOSPITAL', 'DT_INTERNA', 'CLASSI_FIN', 'EVOLUCAO', 'DT_OBITO']]"
   ]
  },
  {
   "cell_type": "code",
   "execution_count": 20,
   "id": "1ed8dbc7",
   "metadata": {},
   "outputs": [],
   "source": [
    "# criar coluna 'DT_EVOLUCA' para poder concatenar posteriormente com os dados de 2019 a 2021\n",
    "\n",
    "dados_2017['DT_EVOLUCA'] = dados_2017['DT_OBITO']"
   ]
  },
  {
   "cell_type": "code",
   "execution_count": 21,
   "id": "5867e3be",
   "metadata": {},
   "outputs": [],
   "source": [
    "# transformar colunas 'DT_NOTIFIC', 'DT_INTERNA' e 'DT_EVOLUCA' em datetime\n",
    "\n",
    "dados_2017['DATA_NOTIFICACAO'] = pd.to_datetime(dados_2017['DT_NOTIFIC'], format='%d/%m/%Y')\n",
    "dados_2017['DATA_SIN_PRI'] = pd.to_datetime(dados_2017['DT_SIN_PRI'], format='%d/%m/%Y')\n",
    "dados_2017['DATA_INTERNACAO'] = pd.to_datetime(dados_2017['DT_INTERNA'], format='%d/%m/%Y')\n",
    "dados_2017['DATA_EVOLUCAO'] = pd.to_datetime(dados_2017['DT_EVOLUCA'], format='%d/%m/%Y')"
   ]
  },
  {
   "cell_type": "code",
   "execution_count": 22,
   "id": "7001acf3",
   "metadata": {},
   "outputs": [],
   "source": [
    "# criar colunas com respectivo ano, a partir das colunas de data de notificação, internação e evolução\n",
    "\n",
    "dados_2017['ANO_NOTIFICACAO'] = dados_2017['DATA_NOTIFICACAO'].dt.year\n",
    "dados_2017['ANO_SIN_PRI'] = dados_2017['DATA_SIN_PRI'].dt.year\n",
    "dados_2017['ANO_INTERNACAO'] = dados_2017['DATA_INTERNACAO'].dt.year\n",
    "dados_2017['ANO_EVOLUCAO'] = dados_2017['DATA_EVOLUCAO'].dt.year"
   ]
  },
  {
   "cell_type": "code",
   "execution_count": 23,
   "id": "3a1b5999",
   "metadata": {},
   "outputs": [],
   "source": [
    "# criar novo dataframe sem a coluna 'DT_OBITO' das tabelas referente a 2017\n",
    "dados_2017_02 = dados_2017.loc[:,['DT_NOTIFIC', 'SG_UF_NOT', 'DT_SIN_PRI', 'SG_UF', 'ID_MN_RESI', 'CO_UF_INTE', 'CO_MU_INTE', 'HOSPITAL', 'DT_INTERNA', 'CLASSI_FIN', 'EVOLUCAO', 'DT_EVOLUCA', 'DATA_NOTIFICACAO', 'DATA_SIN_PRI', 'DATA_INTERNACAO', 'DATA_EVOLUCAO', 'ANO_NOTIFICACAO', 'ANO_SIN_PRI', 'ANO_INTERNACAO', 'ANO_EVOLUCAO']]"
   ]
  },
  {
   "cell_type": "code",
   "execution_count": 24,
   "id": "df13f5ac",
   "metadata": {},
   "outputs": [
    {
     "data": {
      "text/plain": [
       "count                            29921\n",
       "mean     2017-06-18 14:51:50.190167552\n",
       "min                2017-01-01 00:00:00\n",
       "25%                2017-04-20 00:00:00\n",
       "50%                2017-06-06 00:00:00\n",
       "75%                2017-08-13 00:00:00\n",
       "max                2017-12-31 00:00:00\n",
       "Name: DATA_SIN_PRI, dtype: object"
      ]
     },
     "execution_count": 24,
     "metadata": {},
     "output_type": "execute_result"
    }
   ],
   "source": [
    "dados_2017_02['DATA_SIN_PRI'].describe(datetime_is_numeric=True)"
   ]
  },
  {
   "cell_type": "markdown",
   "id": "27dcdd4b",
   "metadata": {},
   "source": [
    "### Ano: 2018"
   ]
  },
  {
   "cell_type": "code",
   "execution_count": 25,
   "id": "b67e9140",
   "metadata": {},
   "outputs": [
    {
     "name": "stderr",
     "output_type": "stream",
     "text": [
      "C:\\Users\\55859\\AppData\\Local\\Programs\\Python\\Python39\\lib\\site-packages\\IPython\\core\\interactiveshell.py:3441: DtypeWarning: Columns (74) have mixed types.Specify dtype option on import or set low_memory=False.\n",
      "  exec(code_obj, self.user_global_ns, self.user_ns)\n"
     ]
    }
   ],
   "source": [
    "# importar dados referentes a 2018\n",
    "\n",
    "srag2018 = pd.read_csv('influd18_limpo-final.csv', sep=';', encoding='latin-1')"
   ]
  },
  {
   "cell_type": "code",
   "execution_count": 26,
   "id": "4abb0ac6",
   "metadata": {},
   "outputs": [],
   "source": [
    "# filtrar colunas desejadas da tabela de 2018\n",
    "\n",
    "dados_2018 = srag2018.loc[:,['DT_NOTIFIC', 'SG_UF_NOT', 'DT_SIN_PRI', 'SG_UF', 'ID_MN_RESI', 'CO_UF_INTE', 'CO_MU_INTE',  'HOSPITAL', 'DT_INTERNA', 'CLASSI_FIN', 'EVOLUCAO', 'DT_OBITO']]"
   ]
  },
  {
   "cell_type": "code",
   "execution_count": 27,
   "id": "30901fb3",
   "metadata": {},
   "outputs": [],
   "source": [
    "# criar coluna 'DT_EVOLUCA' para poder concatenar posteriormente com os dados de 2019 a 2021\n",
    "\n",
    "dados_2018['DT_EVOLUCA'] = dados_2018['DT_OBITO']"
   ]
  },
  {
   "cell_type": "code",
   "execution_count": 28,
   "id": "1c7855a8",
   "metadata": {},
   "outputs": [],
   "source": [
    "# transformar colunas 'DT_NOTIFIC', 'DT_INTERNA' e 'DT_EVOLUCA' em datetime\n",
    "\n",
    "dados_2018['DATA_NOTIFICACAO'] = pd.to_datetime(dados_2018['DT_NOTIFIC'], format='%d/%m/%Y')\n",
    "dados_2018['DATA_SIN_PRI'] = pd.to_datetime(dados_2018['DT_SIN_PRI'], format='%d/%m/%Y')\n",
    "dados_2018['DATA_INTERNACAO'] = pd.to_datetime(dados_2018['DT_INTERNA'], format='%d/%m/%Y')\n",
    "dados_2018['DATA_EVOLUCAO'] = pd.to_datetime(dados_2018['DT_EVOLUCA'], format='%d/%m/%Y')"
   ]
  },
  {
   "cell_type": "code",
   "execution_count": 29,
   "id": "0b4106fa",
   "metadata": {},
   "outputs": [],
   "source": [
    "# criar colunas com respectivo ano, a partir das colunas de data de notificação, internação e evolução\n",
    "\n",
    "dados_2018['ANO_NOTIFICACAO'] = dados_2018['DATA_NOTIFICACAO'].dt.year\n",
    "dados_2018['ANO_SIN_PRI'] = dados_2018['DATA_SIN_PRI'].dt.year\n",
    "dados_2018['ANO_INTERNACAO'] = dados_2018['DATA_INTERNACAO'].dt.year\n",
    "dados_2018['ANO_EVOLUCAO'] = dados_2018['DATA_EVOLUCAO'].dt.year"
   ]
  },
  {
   "cell_type": "code",
   "execution_count": 30,
   "id": "9e9eeb29",
   "metadata": {},
   "outputs": [],
   "source": [
    "# criar novo dataframe sem a coluna 'DT_OBITO' das tabelas referente a 2018\n",
    "dados_2018_02 = dados_2018.loc[:,['DT_NOTIFIC', 'SG_UF_NOT', 'DT_SIN_PRI', 'SG_UF', 'ID_MN_RESI', 'CO_UF_INTE', 'CO_MU_INTE', 'HOSPITAL', 'DT_INTERNA', 'CLASSI_FIN', 'EVOLUCAO', 'DT_EVOLUCA', 'DATA_NOTIFICACAO', 'DATA_SIN_PRI', 'DATA_INTERNACAO', 'DATA_EVOLUCAO', 'ANO_NOTIFICACAO', 'ANO_SIN_PRI', 'ANO_INTERNACAO', 'ANO_EVOLUCAO']]"
   ]
  },
  {
   "cell_type": "code",
   "execution_count": 31,
   "id": "b2fe632b",
   "metadata": {},
   "outputs": [
    {
     "data": {
      "text/plain": [
       "count                            48474\n",
       "mean     2018-06-27 08:44:31.815818496\n",
       "min                2017-12-31 00:00:00\n",
       "25%                2018-05-06 00:00:00\n",
       "50%                2018-06-17 00:00:00\n",
       "75%                2018-08-09 00:00:00\n",
       "max                2019-08-01 00:00:00\n",
       "Name: DATA_NOTIFICACAO, dtype: object"
      ]
     },
     "execution_count": 31,
     "metadata": {},
     "output_type": "execute_result"
    }
   ],
   "source": [
    "dados_2018_02['DATA_NOTIFICACAO'].describe(datetime_is_numeric=True)"
   ]
  },
  {
   "cell_type": "code",
   "execution_count": 32,
   "id": "c41866d7",
   "metadata": {},
   "outputs": [
    {
     "data": {
      "text/plain": [
       "count                            48474\n",
       "mean     2018-06-21 00:29:15.662829568\n",
       "min                2017-12-31 00:00:00\n",
       "25%                2018-04-30 00:00:00\n",
       "50%                2018-06-10 00:00:00\n",
       "75%                2018-08-03 00:00:00\n",
       "max                2018-12-29 00:00:00\n",
       "Name: DATA_SIN_PRI, dtype: object"
      ]
     },
     "execution_count": 32,
     "metadata": {},
     "output_type": "execute_result"
    }
   ],
   "source": [
    "dados_2018_02['DATA_SIN_PRI'].describe(datetime_is_numeric=True)"
   ]
  },
  {
   "cell_type": "markdown",
   "id": "1bf4f496",
   "metadata": {},
   "source": [
    "### Ano: 2019"
   ]
  },
  {
   "cell_type": "code",
   "execution_count": 33,
   "id": "229709a3",
   "metadata": {},
   "outputs": [
    {
     "name": "stderr",
     "output_type": "stream",
     "text": [
      "C:\\Users\\55859\\AppData\\Local\\Programs\\Python\\Python39\\lib\\site-packages\\IPython\\core\\interactiveshell.py:3441: DtypeWarning: Columns (97,105,107,133) have mixed types.Specify dtype option on import or set low_memory=False.\n",
      "  exec(code_obj, self.user_global_ns, self.user_ns)\n"
     ]
    }
   ],
   "source": [
    "# importar dados referentes a 2019\n",
    "\n",
    "srag2019 = pd.read_csv('influd19_limpo-27.04.2020-final.csv', sep=';', encoding='latin-1')"
   ]
  },
  {
   "cell_type": "code",
   "execution_count": 34,
   "id": "e90e3bff",
   "metadata": {},
   "outputs": [],
   "source": [
    "dados_2019 = srag2019.loc[:, ['DT_NOTIFIC', 'SG_UF_NOT', 'DT_SIN_PRI', 'SG_UF', 'ID_MN_RESI', 'SG_UF_INTE', 'CO_MU_INTE',  'HOSPITAL', 'DT_INTERNA', 'CLASSI_FIN', 'EVOLUCAO', 'DT_EVOLUCA']]"
   ]
  },
  {
   "cell_type": "code",
   "execution_count": 35,
   "id": "bbbcfd4e",
   "metadata": {},
   "outputs": [],
   "source": [
    "# transformar colunas 'DT_NOTIFIC', 'DT_INTERNA' e 'DT_EVOLUCA' em datetime\n",
    "\n",
    "dados_2019['DATA_NOTIFICACAO'] = pd.to_datetime(dados_2019['DT_NOTIFIC'], format='%d/%m/%Y')\n",
    "dados_2019['DATA_SIN_PRI'] = pd.to_datetime(dados_2019['DT_SIN_PRI'], format='%d/%m/%Y')\n",
    "dados_2019['DATA_INTERNACAO'] = pd.to_datetime(dados_2019['DT_INTERNA'], format='%d/%m/%Y')\n",
    "dados_2019['DATA_EVOLUCAO'] = pd.to_datetime(dados_2019['DT_EVOLUCA'], format='%d/%m/%Y')"
   ]
  },
  {
   "cell_type": "code",
   "execution_count": 36,
   "id": "f0ac46d7",
   "metadata": {},
   "outputs": [],
   "source": [
    "# criar colunas com respectivo ano, a partir das colunas de data de notificação, internação e evolução\n",
    "\n",
    "dados_2019['ANO_NOTIFICACAO'] = dados_2019['DATA_NOTIFICACAO'].dt.year\n",
    "dados_2019['ANO_SIN_PRI'] = dados_2019['DATA_SIN_PRI'].dt.year\n",
    "dados_2019['ANO_INTERNACAO'] = dados_2019['DATA_INTERNACAO'].dt.year\n",
    "dados_2019['ANO_EVOLUCAO'] = dados_2019['DATA_EVOLUCAO'].dt.year"
   ]
  },
  {
   "cell_type": "code",
   "execution_count": 37,
   "id": "8757eb24",
   "metadata": {},
   "outputs": [
    {
     "data": {
      "text/plain": [
       "count                            48528\n",
       "mean     2019-06-22 23:44:12.818991360\n",
       "min                2018-12-30 00:00:00\n",
       "25%                2019-04-28 00:00:00\n",
       "50%                2019-06-11 00:00:00\n",
       "75%                2019-08-13 00:00:00\n",
       "max                2020-04-11 00:00:00\n",
       "Name: DATA_NOTIFICACAO, dtype: object"
      ]
     },
     "execution_count": 37,
     "metadata": {},
     "output_type": "execute_result"
    }
   ],
   "source": [
    "dados_2019['DATA_NOTIFICACAO'].describe(datetime_is_numeric=True)"
   ]
  },
  {
   "cell_type": "code",
   "execution_count": 38,
   "id": "3feb6487",
   "metadata": {},
   "outputs": [
    {
     "data": {
      "text/plain": [
       "count                            48528\n",
       "mean     2019-06-16 07:20:51.632047360\n",
       "min                2018-12-30 00:00:00\n",
       "25%                2019-04-21 00:00:00\n",
       "50%                2019-06-05 00:00:00\n",
       "75%                2019-08-06 00:00:00\n",
       "max                2019-12-28 00:00:00\n",
       "Name: DATA_SIN_PRI, dtype: object"
      ]
     },
     "execution_count": 38,
     "metadata": {},
     "output_type": "execute_result"
    }
   ],
   "source": [
    "dados_2019['DATA_SIN_PRI'].describe(datetime_is_numeric=True)"
   ]
  },
  {
   "cell_type": "markdown",
   "id": "69e3d83f",
   "metadata": {},
   "source": [
    "### Ano: 2020"
   ]
  },
  {
   "cell_type": "code",
   "execution_count": 39,
   "id": "23523733",
   "metadata": {},
   "outputs": [
    {
     "name": "stderr",
     "output_type": "stream",
     "text": [
      "C:\\Users\\55859\\AppData\\Local\\Programs\\Python\\Python39\\lib\\site-packages\\IPython\\core\\interactiveshell.py:3441: DtypeWarning: Columns (15,18,60,62,63,64,92,94,106,115,117,118,119,123) have mixed types.Specify dtype option on import or set low_memory=False.\n",
      "  exec(code_obj, self.user_global_ns, self.user_ns)\n"
     ]
    }
   ],
   "source": [
    "# importar dados referentes a 2020\n",
    "\n",
    "srag2020 = pd.read_csv('INFLUD-20-09-2021.csv', sep=';', encoding='latin-1')"
   ]
  },
  {
   "cell_type": "code",
   "execution_count": 40,
   "id": "488618f4",
   "metadata": {},
   "outputs": [],
   "source": [
    "dados_2020 = srag2020.loc[:, ['DT_NOTIFIC', 'SG_UF_NOT', 'DT_SIN_PRI', 'SG_UF', 'ID_MN_RESI', 'SG_UF_INTE', 'CO_MU_INTE',  'HOSPITAL', 'DT_INTERNA', 'CLASSI_FIN', 'EVOLUCAO', 'DT_EVOLUCA']]"
   ]
  },
  {
   "cell_type": "code",
   "execution_count": 41,
   "id": "feedb85a",
   "metadata": {},
   "outputs": [],
   "source": [
    "# transformar colunas 'DT_NOTIFIC', 'DT_INTERNA' e 'DT_EVOLUCA' em datetime\n",
    "# Foi necessário utilizar 'errors = 'coerce'' para corrigir o erro 'OutOfBoundsDatetime'\n",
    "\n",
    "dados_2020['DATA_NOTIFICACAO'] = pd.to_datetime(dados_2020['DT_NOTIFIC'], format='%d/%m/%Y')\n",
    "dados_2020['DATA_SIN_PRI'] = pd.to_datetime(dados_2020['DT_SIN_PRI'], format='%d/%m/%Y')\n",
    "dados_2020['DATA_INTERNACAO'] = pd.to_datetime(dados_2020['DT_INTERNA'], format='%d/%m/%Y', errors = 'coerce')\n",
    "dados_2020['DATA_EVOLUCAO'] = pd.to_datetime(dados_2020['DT_EVOLUCA'], format='%d/%m/%Y')"
   ]
  },
  {
   "cell_type": "code",
   "execution_count": 42,
   "id": "d8ebca5c",
   "metadata": {},
   "outputs": [],
   "source": [
    "# criar colunas com respectivo ano, a partir das colunas de data de notificação, internação e evolução\n",
    "\n",
    "dados_2020['ANO_NOTIFICACAO'] = dados_2020['DATA_NOTIFICACAO'].dt.year\n",
    "dados_2020['ANO_SIN_PRI'] = dados_2020['DATA_SIN_PRI'].dt.year\n",
    "dados_2020['ANO_INTERNACAO'] = dados_2020['DATA_INTERNACAO'].dt.year\n",
    "dados_2020['ANO_EVOLUCAO'] = dados_2020['DATA_EVOLUCAO'].dt.year"
   ]
  },
  {
   "cell_type": "code",
   "execution_count": 43,
   "id": "aad3ca2b",
   "metadata": {},
   "outputs": [
    {
     "data": {
      "text/plain": [
       "count                          1198714\n",
       "mean     2020-08-17 01:15:34.667651584\n",
       "min                2019-12-29 00:00:00\n",
       "25%                2020-06-09 00:00:00\n",
       "50%                2020-08-07 00:00:00\n",
       "75%                2020-10-29 00:00:00\n",
       "max                2021-09-17 00:00:00\n",
       "Name: DATA_NOTIFICACAO, dtype: object"
      ]
     },
     "execution_count": 43,
     "metadata": {},
     "output_type": "execute_result"
    }
   ],
   "source": [
    "dados_2020['DATA_NOTIFICACAO'].describe(datetime_is_numeric=True)"
   ]
  },
  {
   "cell_type": "code",
   "execution_count": 44,
   "id": "72b760c9",
   "metadata": {},
   "outputs": [
    {
     "data": {
      "text/plain": [
       "count                          1198714\n",
       "mean     2020-08-06 18:29:18.720762624\n",
       "min                2019-12-29 00:00:00\n",
       "25%                2020-05-29 00:00:00\n",
       "50%                2020-07-28 00:00:00\n",
       "75%                2020-10-20 00:00:00\n",
       "max                2021-01-02 00:00:00\n",
       "Name: DATA_SIN_PRI, dtype: object"
      ]
     },
     "execution_count": 44,
     "metadata": {},
     "output_type": "execute_result"
    }
   ],
   "source": [
    "dados_2020['DATA_SIN_PRI'].describe(datetime_is_numeric=True)"
   ]
  },
  {
   "cell_type": "markdown",
   "id": "daaafc84",
   "metadata": {},
   "source": [
    "### Ano: 2021"
   ]
  },
  {
   "cell_type": "code",
   "execution_count": 45,
   "id": "3058296a",
   "metadata": {},
   "outputs": [
    {
     "name": "stderr",
     "output_type": "stream",
     "text": [
      "C:\\Users\\55859\\AppData\\Local\\Programs\\Python\\Python39\\lib\\site-packages\\IPython\\core\\interactiveshell.py:3441: DtypeWarning: Columns (15,18,60,62,63,64,92,94,106,115,117,118,119,123,144) have mixed types.Specify dtype option on import or set low_memory=False.\n",
      "  exec(code_obj, self.user_global_ns, self.user_ns)\n"
     ]
    }
   ],
   "source": [
    "# importar dados referentes a 2021\n",
    "\n",
    "srag2021 = pd.read_csv('INFLUD21-20-09-2021.csv', sep=';', encoding='latin-1')"
   ]
  },
  {
   "cell_type": "code",
   "execution_count": 46,
   "id": "38d61443",
   "metadata": {},
   "outputs": [],
   "source": [
    "dados_2021 = srag2021.loc[:, ['DT_NOTIFIC', 'SG_UF_NOT', 'DT_SIN_PRI', 'SG_UF', 'ID_MN_RESI', 'SG_UF_INTE', 'CO_MU_INTE',  'HOSPITAL', 'DT_INTERNA', 'CLASSI_FIN', 'EVOLUCAO', 'DT_EVOLUCA']]"
   ]
  },
  {
   "cell_type": "code",
   "execution_count": 47,
   "id": "68c87501",
   "metadata": {},
   "outputs": [],
   "source": [
    "# transformar colunas 'DT_NOTIFIC', 'DT_INTERNA' e 'DT_EVOLUCA' em datetime.\n",
    "# Foi necessário utilizar 'errors = 'coerce'' para corrigir o erro 'OutOfBoundsDatetime'\n",
    "\n",
    "dados_2021['DATA_NOTIFICACAO'] = pd.to_datetime(dados_2021['DT_NOTIFIC'], format='%d/%m/%Y')\n",
    "dados_2021['DATA_SIN_PRI'] = pd.to_datetime(dados_2021['DT_SIN_PRI'], format='%d/%m/%Y')\n",
    "dados_2021['DATA_INTERNACAO'] = pd.to_datetime(dados_2021['DT_INTERNA'], format='%d/%m/%Y', errors = 'coerce')\n",
    "dados_2021['DATA_EVOLUCAO'] = pd.to_datetime(dados_2021['DT_EVOLUCA'], format='%d/%m/%Y')"
   ]
  },
  {
   "cell_type": "code",
   "execution_count": 48,
   "id": "af83c15b",
   "metadata": {},
   "outputs": [],
   "source": [
    "# criar colunas com respectivo ano, a partir das colunas de data de notificação, internação e evolução\n",
    "\n",
    "dados_2021['ANO_NOTIFICACAO'] = dados_2021['DATA_NOTIFICACAO'].dt.year\n",
    "dados_2021['ANO_SIN_PRI'] = dados_2021['DATA_SIN_PRI'].dt.year\n",
    "dados_2021['ANO_INTERNACAO'] = dados_2021['DATA_INTERNACAO'].dt.year\n",
    "dados_2021['ANO_EVOLUCAO'] = dados_2021['DATA_EVOLUCAO'].dt.year"
   ]
  },
  {
   "cell_type": "code",
   "execution_count": 49,
   "id": "d804f24a",
   "metadata": {},
   "outputs": [
    {
     "data": {
      "text/plain": [
       "count                          1489983\n",
       "mean     2021-04-30 21:09:31.572963584\n",
       "min                2021-01-03 00:00:00\n",
       "25%                2021-03-15 00:00:00\n",
       "50%                2021-04-26 00:00:00\n",
       "75%                2021-06-14 00:00:00\n",
       "max                2021-09-19 00:00:00\n",
       "Name: DATA_NOTIFICACAO, dtype: object"
      ]
     },
     "execution_count": 49,
     "metadata": {},
     "output_type": "execute_result"
    }
   ],
   "source": [
    "dados_2021['DATA_NOTIFICACAO'].describe(datetime_is_numeric=True)"
   ]
  },
  {
   "cell_type": "code",
   "execution_count": 50,
   "id": "00983b8f",
   "metadata": {},
   "outputs": [
    {
     "data": {
      "text/plain": [
       "count                          1489983\n",
       "mean     2021-04-20 18:22:57.588335104\n",
       "min                2021-01-03 00:00:00\n",
       "25%                2021-03-05 00:00:00\n",
       "50%                2021-04-15 00:00:00\n",
       "75%                2021-06-03 00:00:00\n",
       "max                2021-09-19 00:00:00\n",
       "Name: DATA_SIN_PRI, dtype: object"
      ]
     },
     "execution_count": 50,
     "metadata": {},
     "output_type": "execute_result"
    }
   ],
   "source": [
    "dados_2021['DATA_SIN_PRI'].describe(datetime_is_numeric=True)"
   ]
  },
  {
   "cell_type": "markdown",
   "id": "4e999c5d",
   "metadata": {},
   "source": [
    "## **Passo 3:** Replace - substituir informações de acordo com dicionário de dados\n",
    "### DE 2015 A 2018"
   ]
  },
  {
   "cell_type": "markdown",
   "id": "38da631a",
   "metadata": {},
   "source": [
    "Criar colunas **'TXT_CLASSI_FIN'** e **'TXT_EVOLUCAO'** para tabelas de 2015 a 2018 a partir do que cada uma das informações significa\n",
    "\n",
    "Coluna **'CLASSI_FIN'**\n",
    "\n",
    "1 - SRAG por Influenza\\\n",
    "2 - SRAG por outros vírus respiratórios\\\n",
    "3 - SRAG por outros agentes etiológicos\\\n",
    "4 - SRAG não especificado\\\n",
    "\n",
    "Coluna **'EVOLUCAO'**\n",
    "\n",
    "1 - Recebeu alta por cura\\\n",
    "2 - Evoluiu para óbito\\\n",
    "9 - Ignorado\n",
    "\n",
    "Coluna **'HOSPITAL'**\n",
    "\n",
    "1 - Sim\\\n",
    "2 - Não\\\n",
    "9 - Ignorado\n",
    "\n",
    "\n",
    "Dicionário de dados para anos 2013 a 2018: https://opendatasus.saude.gov.br/dataset/e6b03178-551c-495c-9935-adaab4b2f966/resource/fa75a98d-f4dc-484d-b1f4-4f2286a84952/download/dic_dados_srag_nova.pdf-out-2012-a-dez-2018.pdf "
   ]
  },
  {
   "cell_type": "markdown",
   "id": "d2d1e977",
   "metadata": {},
   "source": [
    "### ANO: 2015"
   ]
  },
  {
   "cell_type": "code",
   "execution_count": 51,
   "id": "5aba42a4",
   "metadata": {},
   "outputs": [],
   "source": [
    "# Criar coluna 'SG_UF_INTE' a partir da troca dos códicos do IBGE de cada UF pela sigla dos estados e do DF, para posteriormente poder concatenar com os dados de 2019, 2020 e 2021\n",
    "\n",
    "dados_2015_02['SG_UF_INTE'] = dados_2015_02['CO_UF_INTE'].replace({11: 'RO',\n",
    "                                                                    12: 'AC',\n",
    "                                                                    13: 'AM',\n",
    "                                                                    14: 'RR',\n",
    "                                                                    15: 'PA',\n",
    "                                                                    16: 'AP',\n",
    "                                                                    17: 'TO',\n",
    "                                                                    21: 'MA',\n",
    "                                                                    22: 'PI',\n",
    "                                                                    23: 'CE',\n",
    "                                                                    24: 'RN',\n",
    "                                                                    25: 'PB',\n",
    "                                                                    26: 'PE',\n",
    "                                                                    27: 'AL',\n",
    "                                                                    28: 'SE',\n",
    "                                                                    29: 'BA',\n",
    "                                                                    31: 'MG',\n",
    "                                                                    32: 'ES',\n",
    "                                                                    33: 'RJ',\n",
    "                                                                    35: 'SP',\n",
    "                                                                    41: 'PR',\n",
    "                                                                    42: 'SC',\n",
    "                                                                    43: 'RS',\n",
    "                                                                    50: 'MS',\n",
    "                                                                    51: 'MT',\n",
    "                                                                    52: 'GO',\n",
    "                                                                    53: 'DF'})"
   ]
  },
  {
   "cell_type": "code",
   "execution_count": 52,
   "id": "d023e602",
   "metadata": {},
   "outputs": [],
   "source": [
    "# criar coluna 'TXT_CLASSI_FIN' a partir das informações sobre a coluna 'CLASSI_FIN'\n",
    "\n",
    "dados_2015_02['TXT_CLASSI_FIN'] = dados_2015_02['CLASSI_FIN'].replace({1.0: 'SRAG por Influenza',\n",
    "                                                                       2.0: 'SRAG por outros vírus respiratórios',\n",
    "                                                                       3.0: 'SRAG por outros agentes etiológicos',\n",
    "                                                                       4.0: 'SRAG não especificado'})"
   ]
  },
  {
   "cell_type": "code",
   "execution_count": 53,
   "id": "6a0701c2",
   "metadata": {},
   "outputs": [],
   "source": [
    "# criar coluna 'TXT_EVOLUCAO' a partir das informações sobre a coluna 'EVOLUCAO'\n",
    "\n",
    "dados_2015_02['TXT_EVOLUCAO'] = dados_2015_02['EVOLUCAO'].replace({1.0: 'Recebeu alta por cura',\n",
    "                                                                   2.0: 'Evoluiu para óbito',\n",
    "                                                                   9.0: 'Ignorado'})"
   ]
  },
  {
   "cell_type": "code",
   "execution_count": 54,
   "id": "4d88222a",
   "metadata": {},
   "outputs": [],
   "source": [
    "# criar coluna 'TXT_HOSPITAL' a partir das informações sobre a coluna 'HOSPITAL'\n",
    "\n",
    "dados_2015_02['TXT_HOSPITAL'] = dados_2015_02['HOSPITAL'].replace({1.0: 'Sim',\n",
    "                                                                   2.0: 'Não',\n",
    "                                                                   9.0: 'Ignorado'})"
   ]
  },
  {
   "cell_type": "markdown",
   "id": "2480d2a9",
   "metadata": {},
   "source": [
    "### ANO: 2016"
   ]
  },
  {
   "cell_type": "code",
   "execution_count": 55,
   "id": "478420bd",
   "metadata": {},
   "outputs": [],
   "source": [
    "# Criar coluna 'SG_UF_INTE' a partir da troca dos códicos do IBGE de cada UF pela sigla dos estados e do DF, para posteriormente poder concatenar com os dados de 2019, 2020 e 2021\n",
    "\n",
    "dados_2016_02['SG_UF_INTE'] = dados_2016_02['CO_UF_INTE'].replace({11: 'RO',\n",
    "                                                            12: 'AC',\n",
    "                                                            13: 'AM',\n",
    "                                                            14: 'RR',\n",
    "                                                            15: 'PA',\n",
    "                                                            16: 'AP',\n",
    "                                                            17: 'TO',\n",
    "                                                            21: 'MA',\n",
    "                                                            22: 'PI',\n",
    "                                                            23: 'CE',\n",
    "                                                            24: 'RN',\n",
    "                                                            25: 'PB',\n",
    "                                                            26: 'PE',\n",
    "                                                            27: 'AL',\n",
    "                                                            28: 'SE',\n",
    "                                                            29: 'BA',\n",
    "                                                            31: 'MG',\n",
    "                                                            32: 'ES',\n",
    "                                                            33: 'RJ',\n",
    "                                                            35: 'SP',\n",
    "                                                            41: 'PR',\n",
    "                                                            42: 'SC',\n",
    "                                                            43: 'RS',\n",
    "                                                            50: 'MS',\n",
    "                                                            51: 'MT',\n",
    "                                                            52: 'GO',\n",
    "                                                            53: 'DF'})"
   ]
  },
  {
   "cell_type": "code",
   "execution_count": 56,
   "id": "35ce61d6",
   "metadata": {},
   "outputs": [],
   "source": [
    "# criar coluna 'TXT_CLASSI_FIN' a partir das informações sobre a coluna 'CLASSI_FIN'\n",
    "\n",
    "dados_2016_02['TXT_CLASSI_FIN'] = dados_2016_02['CLASSI_FIN'].replace({1.0: 'SRAG por Influenza',\n",
    "                                                                       2.0: 'SRAG por outros vírus respiratórios',\n",
    "                                                                       3.0: 'SRAG por outros agentes etiológicos',\n",
    "                                                                       4.0: 'SRAG não especificado'})"
   ]
  },
  {
   "cell_type": "code",
   "execution_count": 57,
   "id": "051dee87",
   "metadata": {},
   "outputs": [],
   "source": [
    "# criar coluna 'TXT_EVOLUCAO' a partir das informações sobre a coluna 'EVOLUCAO'\n",
    "\n",
    "dados_2016_02['TXT_EVOLUCAO'] = dados_2016_02['EVOLUCAO'].replace({1.0: 'Recebeu alta por cura',\n",
    "                                                                   2.0: 'Evoluiu para óbito',\n",
    "                                                                   9.0: 'Ignorado'})"
   ]
  },
  {
   "cell_type": "code",
   "execution_count": 58,
   "id": "3ced7049",
   "metadata": {},
   "outputs": [],
   "source": [
    "# criar coluna 'TXT_HOSPITAL' a partir das informações sobre a coluna 'HOSPITAL'\n",
    "\n",
    "dados_2016_02['TXT_HOSPITAL'] = dados_2016_02['HOSPITAL'].replace({1.0: 'Sim',\n",
    "                                                                   2.0: 'Não',\n",
    "                                                                   9.0: 'Ignorado'})"
   ]
  },
  {
   "cell_type": "markdown",
   "id": "00ce23a0",
   "metadata": {},
   "source": [
    "### ANO: 2017"
   ]
  },
  {
   "cell_type": "code",
   "execution_count": 59,
   "id": "2ed38be8",
   "metadata": {},
   "outputs": [],
   "source": [
    "# Criar coluna 'SG_UF_INTE' a partir da troca dos códicos do IBGE de cada UF pela sigla dos estados e do DF, para posteriormente poder concatenar com os dados de 2019, 2020 e 2021\n",
    "\n",
    "dados_2017_02['SG_UF_INTE'] = dados_2017_02['CO_UF_INTE'].replace({11: 'RO',\n",
    "                                                            12: 'AC',\n",
    "                                                            13: 'AM',\n",
    "                                                            14: 'RR',\n",
    "                                                            15: 'PA',\n",
    "                                                            16: 'AP',\n",
    "                                                            17: 'TO',\n",
    "                                                            21: 'MA',\n",
    "                                                            22: 'PI',\n",
    "                                                            23: 'CE',\n",
    "                                                            24: 'RN',\n",
    "                                                            25: 'PB',\n",
    "                                                            26: 'PE',\n",
    "                                                            27: 'AL',\n",
    "                                                            28: 'SE',\n",
    "                                                            29: 'BA',\n",
    "                                                            31: 'MG',\n",
    "                                                            32: 'ES',\n",
    "                                                            33: 'RJ',\n",
    "                                                            35: 'SP',\n",
    "                                                            41: 'PR',\n",
    "                                                            42: 'SC',\n",
    "                                                            43: 'RS',\n",
    "                                                            50: 'MS',\n",
    "                                                            51: 'MT',\n",
    "                                                            52: 'GO',\n",
    "                                                            53: 'DF'})"
   ]
  },
  {
   "cell_type": "code",
   "execution_count": 60,
   "id": "7513cda7",
   "metadata": {},
   "outputs": [],
   "source": [
    "# criar coluna 'TXT_CLASSI_FIN' a partir das informações sobre a coluna 'CLASSI_FIN'\n",
    "\n",
    "dados_2017_02['TXT_CLASSI_FIN'] = dados_2017_02['CLASSI_FIN'].replace({1.0: 'SRAG por Influenza',\n",
    "                                                                       2.0: 'SRAG por outros vírus respiratórios',\n",
    "                                                                       3.0: 'SRAG por outros agentes etiológicos',\n",
    "                                                                       4.0: 'SRAG não especificado'})"
   ]
  },
  {
   "cell_type": "code",
   "execution_count": 61,
   "id": "5c2d7e57",
   "metadata": {},
   "outputs": [],
   "source": [
    "# criar coluna 'TXT_EVOLUCAO' a partir das informações sobre a coluna 'EVOLUCAO'\n",
    "\n",
    "dados_2017_02['TXT_EVOLUCAO'] = dados_2017_02['EVOLUCAO'].replace({1.0: 'Recebeu alta por cura',\n",
    "                                                                   2.0: 'Evoluiu para óbito',\n",
    "                                                                   9.0: 'Ignorado'})"
   ]
  },
  {
   "cell_type": "code",
   "execution_count": 62,
   "id": "a66fe2db",
   "metadata": {},
   "outputs": [],
   "source": [
    "# criar coluna 'TXT_HOSPITAL' a partir das informações sobre a coluna 'HOSPITAL'\n",
    "\n",
    "dados_2017_02['TXT_HOSPITAL'] = dados_2017_02['HOSPITAL'].replace({1.0: 'Sim',\n",
    "                                                                   2.0: 'Não',\n",
    "                                                                   9.0: 'Ignorado'})"
   ]
  },
  {
   "cell_type": "markdown",
   "id": "3dd0d6b0",
   "metadata": {},
   "source": [
    "### ANO: 2018"
   ]
  },
  {
   "cell_type": "code",
   "execution_count": 63,
   "id": "06f73952",
   "metadata": {},
   "outputs": [],
   "source": [
    "# Criar coluna 'SG_UF_INTE' a partir da troca dos códicos do IBGE de cada UF pela sigla dos estados e do DF, para posteriormente poder concatenar com os dados de 2019, 2020 e 2021\n",
    "\n",
    "dados_2018_02['SG_UF_INTE'] = dados_2018_02['CO_UF_INTE'].replace({11: 'RO',\n",
    "                                                            12: 'AC',\n",
    "                                                            13: 'AM',\n",
    "                                                            14: 'RR',\n",
    "                                                            15: 'PA',\n",
    "                                                            16: 'AP',\n",
    "                                                            17: 'TO',\n",
    "                                                            21: 'MA',\n",
    "                                                            22: 'PI',\n",
    "                                                            23: 'CE',\n",
    "                                                            24: 'RN',\n",
    "                                                            25: 'PB',\n",
    "                                                            26: 'PE',\n",
    "                                                            27: 'AL',\n",
    "                                                            28: 'SE',\n",
    "                                                            29: 'BA',\n",
    "                                                            31: 'MG',\n",
    "                                                            32: 'ES',\n",
    "                                                            33: 'RJ',\n",
    "                                                            35: 'SP',\n",
    "                                                            41: 'PR',\n",
    "                                                            42: 'SC',\n",
    "                                                            43: 'RS',\n",
    "                                                            50: 'MS',\n",
    "                                                            51: 'MT',\n",
    "                                                            52: 'GO',\n",
    "                                                            53: 'DF'})"
   ]
  },
  {
   "cell_type": "code",
   "execution_count": 64,
   "id": "093058b7",
   "metadata": {},
   "outputs": [],
   "source": [
    "# criar coluna 'TXT_CLASSI_FIN' a partir das informações sobre a coluna 'CLASSI_FIN'\n",
    "\n",
    "dados_2018_02['TXT_CLASSI_FIN'] = dados_2018_02['CLASSI_FIN'].replace({1.0: 'SRAG por Influenza',\n",
    "                                                                       2.0: 'SRAG por outros vírus respiratórios',\n",
    "                                                                       3.0: 'SRAG por outros agentes etiológicos',\n",
    "                                                                       4.0: 'SRAG não especificado'})"
   ]
  },
  {
   "cell_type": "code",
   "execution_count": 65,
   "id": "4f79bc95",
   "metadata": {},
   "outputs": [],
   "source": [
    "# criar coluna 'TXT_EVOLUCAO' a partir das informações sobre a coluna 'EVOLUCAO'\n",
    "\n",
    "dados_2018_02['TXT_EVOLUCAO'] = dados_2018_02['EVOLUCAO'].replace({1.0: 'Recebeu alta por cura',\n",
    "                                                                   2.0: 'Evoluiu para óbito',\n",
    "                                                                   9.0: 'Ignorado'})"
   ]
  },
  {
   "cell_type": "code",
   "execution_count": 66,
   "id": "14046e74",
   "metadata": {},
   "outputs": [],
   "source": [
    "# criar coluna 'TXT_HOSPITAL' a partir das informações sobre a coluna 'HOSPITAL'\n",
    "\n",
    "dados_2018_02['TXT_HOSPITAL'] = dados_2018_02['HOSPITAL'].replace({1.0: 'Sim',\n",
    "                                                                   2.0: 'Não',\n",
    "                                                                   9.0: 'Ignorado'})"
   ]
  },
  {
   "cell_type": "markdown",
   "id": "88873a5e",
   "metadata": {},
   "source": [
    "## **Passo 5:** Replace - substituir informações de acordo com dicionário de dados\n",
    "### DE 2019 A 2021"
   ]
  },
  {
   "cell_type": "markdown",
   "id": "357c66f8",
   "metadata": {},
   "source": [
    "Criar colunas **'TXT_CLASSI_FIN'** e **'TXT_EVOLUCAO'** para tabelas de 2019 a 2021 a partir do que cada uma das informações significa\n",
    "\n",
    "Coluna **'CLASSI_FIN'**\n",
    "\n",
    "**2019**\n",
    "\n",
    "1 - SRAG por influenza\\\n",
    "2 - SRAG por outro vírus respiratório\\\n",
    "3 - SRAG por outro agente Etiológico, qual:\\\n",
    "4 - SRAG não especificado\\\n",
    "5 - COVID-19\n",
    "\n",
    "**2020/2021**\n",
    "\n",
    "1 - SRAG por influenza\\\n",
    "2 - SRAG por outro vírus respiratório\\\n",
    "3 - SRAG por outro agente etiológico, qual:\\\n",
    "4 - SRAG não especificado\\\n",
    "5 - SRAG por covid-19\n",
    "\n",
    "Coluna **'EVOLUCAO'**\n",
    "\n",
    "**2019**\n",
    "\n",
    "1 - Cura\\\n",
    "2 - Óbito\\\n",
    "9 - Ignorado\n",
    "\n",
    "**2020/2021**\n",
    "\n",
    "1 - Cura\\\n",
    "2 - Óbito\\\n",
    "3 - Óbito por outras causas\\\n",
    "9 - Ignorado\n",
    "\n",
    "Coluna **'HOSPITAL'**\n",
    "\n",
    "1 - Sim\\\n",
    "2 - Não\\\n",
    "9 - Ignorado\n",
    "\n",
    "Dicionário de dados 2021: https://opendatasus.saude.gov.br/dataset/9f76e80f-a2f1-4662-9e37-71084eae23e3/resource/b3321e55-24e9-49ab-8651-29cf5c8f3179/download/dicionario_de_dados_srag_hospitalizado_23.03.2021.pdf"
   ]
  },
  {
   "cell_type": "markdown",
   "id": "0eef1d85",
   "metadata": {},
   "source": [
    "### ANO: 2019"
   ]
  },
  {
   "cell_type": "code",
   "execution_count": 67,
   "id": "d2892cbd",
   "metadata": {},
   "outputs": [],
   "source": [
    "# criar coluna 'TXT_CLASSI_FIN' a partir das informações sobre a coluna 'CLASSI_FIN'\n",
    "\n",
    "dados_2019['TXT_CLASSI_FIN'] = dados_2019['CLASSI_FIN'].replace({1.0: 'SRAG por influenza',\n",
    "                                                                 2.0: 'SRAG por outro vírus respiratório',\n",
    "                                                                 3.0: 'SRAG por outro agente Etiológico, qual:',\n",
    "                                                                 4.0: 'SRAG não especificado',\n",
    "                                                                 5.0: 'COVID-19'})"
   ]
  },
  {
   "cell_type": "code",
   "execution_count": 68,
   "id": "ac76a7bc",
   "metadata": {},
   "outputs": [],
   "source": [
    "# criar coluna 'TXT_EVOLUCAO' a partir das informações sobre a coluna 'EVOLUCAO'\n",
    "\n",
    "dados_2019['TXT_EVOLUCAO'] = dados_2019['EVOLUCAO'].replace({1.0: 'Cura',\n",
    "                                                             2.0: 'Óbito',\n",
    "                                                             9.0: 'Ignorado'})"
   ]
  },
  {
   "cell_type": "code",
   "execution_count": 69,
   "id": "3079b462",
   "metadata": {},
   "outputs": [],
   "source": [
    "# criar coluna 'TXT_HOSPITAL' a partir das informações sobre a coluna 'HOSPITAL'\n",
    "\n",
    "dados_2019['TXT_HOSPITAL'] = dados_2019['HOSPITAL'].replace({1.0: 'Sim',\n",
    "                                                             2.0: 'Não',\n",
    "                                                             9.0: 'Ignorado'})"
   ]
  },
  {
   "cell_type": "markdown",
   "id": "54044282",
   "metadata": {},
   "source": [
    "### ANO: 2020"
   ]
  },
  {
   "cell_type": "code",
   "execution_count": 70,
   "id": "1ace698b",
   "metadata": {},
   "outputs": [],
   "source": [
    "# criar coluna 'TXT_CLASSI_FIN' a partir das informações sobre a coluna 'CLASSI_FIN'\n",
    "\n",
    "dados_2020['TXT_CLASSI_FIN'] = dados_2020['CLASSI_FIN'].replace({1.0: 'SRAG por influenza',\n",
    "                                                                 2.0: 'SRAG por outro vírus respiratório',\n",
    "                                                                 3.0: 'SRAG por outro agente etiológico, qual:',\n",
    "                                                                 4.0: 'SRAG não especificado',\n",
    "                                                                 5.0: 'SRAG por covid-19'})"
   ]
  },
  {
   "cell_type": "code",
   "execution_count": 71,
   "id": "b76b3149",
   "metadata": {},
   "outputs": [],
   "source": [
    "# criar coluna 'TXT_EVOLUCAO' a partir das informações sobre a coluna 'EVOLUCAO'\n",
    "\n",
    "dados_2020['TXT_EVOLUCAO'] = dados_2020['EVOLUCAO'].replace({1.0: 'Cura',\n",
    "                                                             2.0: 'Óbito',\n",
    "                                                             3.0: 'Óbito por outras causas',\n",
    "                                                             9.0: 'Ignorado'})"
   ]
  },
  {
   "cell_type": "code",
   "execution_count": 72,
   "id": "5b53e5cd",
   "metadata": {},
   "outputs": [],
   "source": [
    "# criar coluna 'TXT_HOSPITAL' a partir das informações sobre a coluna 'HOSPITAL'\n",
    "\n",
    "dados_2020['TXT_HOSPITAL'] = dados_2020['HOSPITAL'].replace({1.0: 'Sim',\n",
    "                                                             2.0: 'Não',\n",
    "                                                             9.0: 'Ignorado'})"
   ]
  },
  {
   "cell_type": "markdown",
   "id": "04c7df4d",
   "metadata": {},
   "source": [
    "### ANO: 2021"
   ]
  },
  {
   "cell_type": "code",
   "execution_count": 73,
   "id": "efcef994",
   "metadata": {},
   "outputs": [],
   "source": [
    "# criar coluna 'TXT_CLASSI_FIN' a partir das informações sobre a coluna 'CLASSI_FIN'\n",
    "\n",
    "dados_2021['TXT_CLASSI_FIN'] = dados_2021['CLASSI_FIN'].replace({1.0: 'SRAG por influenza',\n",
    "                                                                 2.0: 'SRAG por outro vírus respiratório',\n",
    "                                                                 3.0: 'SRAG por outro agente etiológico, qual:',\n",
    "                                                                 4.0: 'SRAG não especificado',\n",
    "                                                                 5.0: 'SRAG por covid-19'})"
   ]
  },
  {
   "cell_type": "code",
   "execution_count": 74,
   "id": "ffa2a80c",
   "metadata": {},
   "outputs": [],
   "source": [
    "# criar coluna 'TXT_EVOLUCAO' a partir das informações sobre a coluna 'EVOLUCAO'\n",
    "\n",
    "dados_2021['TXT_EVOLUCAO'] = dados_2021['EVOLUCAO'].replace({1.0: 'Cura',\n",
    "                                                             2.0: 'Óbito',\n",
    "                                                             3.0: 'Óbito por outras causas',\n",
    "                                                             9.0: 'Ignorado'})"
   ]
  },
  {
   "cell_type": "code",
   "execution_count": 75,
   "id": "32827b55",
   "metadata": {},
   "outputs": [],
   "source": [
    "# criar coluna 'TXT_HOSPITAL' a partir das informações sobre a coluna 'HOSPITAL'\n",
    "\n",
    "dados_2021['TXT_HOSPITAL'] = dados_2021['HOSPITAL'].replace({1.0: 'Sim',\n",
    "                                                             2.0: 'Não',\n",
    "                                                             9.0: 'Ignorado'})"
   ]
  },
  {
   "cell_type": "markdown",
   "id": "0b22fd18",
   "metadata": {},
   "source": [
    "## Passo 6: Filtro de colunas e concatenação de tabelas"
   ]
  },
  {
   "cell_type": "code",
   "execution_count": 76,
   "id": "384bbcf5",
   "metadata": {},
   "outputs": [],
   "source": [
    "# seleção de colunas para filtro nos dataframes\n",
    "\n",
    "colunas_finais = ['DT_NOTIFIC', 'SG_UF_NOT', 'DT_SIN_PRI', 'SG_UF', 'ID_MN_RESI', 'SG_UF_INTE', 'CO_MU_INTE', 'HOSPITAL', 'DT_INTERNA', 'CLASSI_FIN', 'EVOLUCAO', 'DT_EVOLUCA', 'DATA_NOTIFICACAO', 'DATA_SIN_PRI', 'DATA_INTERNACAO', 'DATA_EVOLUCAO', 'ANO_NOTIFICACAO', 'ANO_SIN_PRI', 'ANO_INTERNACAO', 'ANO_EVOLUCAO', 'TXT_CLASSI_FIN', 'TXT_EVOLUCAO', 'TXT_HOSPITAL']"
   ]
  },
  {
   "cell_type": "code",
   "execution_count": 77,
   "id": "2afaf78e",
   "metadata": {},
   "outputs": [],
   "source": [
    "dados = pd.concat([dados_2015_02[colunas_finais],\n",
    "                   dados_2016_02[colunas_finais],\n",
    "                   dados_2017_02[colunas_finais],\n",
    "                   dados_2018_02[colunas_finais],\n",
    "                   dados_2019[colunas_finais],\n",
    "                   dados_2020[colunas_finais],\n",
    "                   dados_2021[colunas_finais]],\n",
    "                   ignore_index=True)"
   ]
  },
  {
   "cell_type": "code",
   "execution_count": 78,
   "id": "28439b85",
   "metadata": {},
   "outputs": [],
   "source": [
    "# criar coluna 'MES_NOTIFIC' a partir da coluna 'DATA_NOTIFICACAO' e, posteriormente, criação\n",
    "\n",
    "dados['MES_NOTIFIC'] = dados['DATA_NOTIFICACAO'].dt.month"
   ]
  },
  {
   "cell_type": "code",
   "execution_count": 79,
   "id": "55575a00",
   "metadata": {},
   "outputs": [],
   "source": [
    "# da coluna 'TXT_MES_NOTIFIC' a partir das informações sobre a coluna 'MES_NOTIFIC'\n",
    "\n",
    "dados['TXT_MES_NOTIFIC'] = dados['MES_NOTIFIC'].replace({1: '01. Janeiro',\n",
    "                                                                         2: '02. Fevereiro',\n",
    "                                                                         3: '03. Março',\n",
    "                                                                         4: '04. Abril',\n",
    "                                                                         5: '05. Maio',\n",
    "                                                                         6: '06. Junho',\n",
    "                                                                         7: '07. Julho',\n",
    "                                                                         8: '08. Agosto',\n",
    "                                                                         9: '09. Setembro',\n",
    "                                                                         10: '10. Outubro',\n",
    "                                                                         11: '11. Novembro',\n",
    "                                                                         12: '12. Dezembro'})"
   ]
  },
  {
   "cell_type": "code",
   "execution_count": 80,
   "id": "2f0959e4",
   "metadata": {},
   "outputs": [
    {
     "data": {
      "text/html": [
       "<div>\n",
       "<style scoped>\n",
       "    .dataframe tbody tr th:only-of-type {\n",
       "        vertical-align: middle;\n",
       "    }\n",
       "\n",
       "    .dataframe tbody tr th {\n",
       "        vertical-align: top;\n",
       "    }\n",
       "\n",
       "    .dataframe thead th {\n",
       "        text-align: right;\n",
       "    }\n",
       "</style>\n",
       "<table border=\"1\" class=\"dataframe\">\n",
       "  <thead>\n",
       "    <tr style=\"text-align: right;\">\n",
       "      <th></th>\n",
       "      <th>DT_NOTIFIC</th>\n",
       "      <th>SG_UF_NOT</th>\n",
       "      <th>DT_SIN_PRI</th>\n",
       "      <th>SG_UF</th>\n",
       "      <th>ID_MN_RESI</th>\n",
       "      <th>SG_UF_INTE</th>\n",
       "      <th>CO_MU_INTE</th>\n",
       "      <th>HOSPITAL</th>\n",
       "      <th>DT_INTERNA</th>\n",
       "      <th>CLASSI_FIN</th>\n",
       "      <th>...</th>\n",
       "      <th>DATA_EVOLUCAO</th>\n",
       "      <th>ANO_NOTIFICACAO</th>\n",
       "      <th>ANO_SIN_PRI</th>\n",
       "      <th>ANO_INTERNACAO</th>\n",
       "      <th>ANO_EVOLUCAO</th>\n",
       "      <th>TXT_CLASSI_FIN</th>\n",
       "      <th>TXT_EVOLUCAO</th>\n",
       "      <th>TXT_HOSPITAL</th>\n",
       "      <th>MES_NOTIFIC</th>\n",
       "      <th>TXT_MES_NOTIFIC</th>\n",
       "    </tr>\n",
       "  </thead>\n",
       "  <tbody>\n",
       "    <tr>\n",
       "      <th>0</th>\n",
       "      <td>03/02/2015</td>\n",
       "      <td>11</td>\n",
       "      <td>30/01/2015</td>\n",
       "      <td>11</td>\n",
       "      <td>110012</td>\n",
       "      <td>RO</td>\n",
       "      <td>110012.0</td>\n",
       "      <td>1.0</td>\n",
       "      <td>02/02/2015</td>\n",
       "      <td>1.0</td>\n",
       "      <td>...</td>\n",
       "      <td>NaT</td>\n",
       "      <td>2015</td>\n",
       "      <td>2015</td>\n",
       "      <td>2015.0</td>\n",
       "      <td>NaN</td>\n",
       "      <td>SRAG por Influenza</td>\n",
       "      <td>Recebeu alta por cura</td>\n",
       "      <td>Sim</td>\n",
       "      <td>2</td>\n",
       "      <td>02. Fevereiro</td>\n",
       "    </tr>\n",
       "    <tr>\n",
       "      <th>1</th>\n",
       "      <td>16/02/2015</td>\n",
       "      <td>11</td>\n",
       "      <td>13/02/2015</td>\n",
       "      <td>11</td>\n",
       "      <td>110028</td>\n",
       "      <td>RO</td>\n",
       "      <td>110028.0</td>\n",
       "      <td>1.0</td>\n",
       "      <td>16/02/2015</td>\n",
       "      <td>4.0</td>\n",
       "      <td>...</td>\n",
       "      <td>2015-02-17</td>\n",
       "      <td>2015</td>\n",
       "      <td>2015</td>\n",
       "      <td>2015.0</td>\n",
       "      <td>2015.0</td>\n",
       "      <td>SRAG não especificado</td>\n",
       "      <td>Evoluiu para óbito</td>\n",
       "      <td>Sim</td>\n",
       "      <td>2</td>\n",
       "      <td>02. Fevereiro</td>\n",
       "    </tr>\n",
       "    <tr>\n",
       "      <th>2</th>\n",
       "      <td>16/02/2015</td>\n",
       "      <td>11</td>\n",
       "      <td>13/02/2015</td>\n",
       "      <td>11</td>\n",
       "      <td>110028</td>\n",
       "      <td>RO</td>\n",
       "      <td>110028.0</td>\n",
       "      <td>1.0</td>\n",
       "      <td>16/02/2015</td>\n",
       "      <td>4.0</td>\n",
       "      <td>...</td>\n",
       "      <td>NaT</td>\n",
       "      <td>2015</td>\n",
       "      <td>2015</td>\n",
       "      <td>2015.0</td>\n",
       "      <td>NaN</td>\n",
       "      <td>SRAG não especificado</td>\n",
       "      <td>Recebeu alta por cura</td>\n",
       "      <td>Sim</td>\n",
       "      <td>2</td>\n",
       "      <td>02. Fevereiro</td>\n",
       "    </tr>\n",
       "    <tr>\n",
       "      <th>3</th>\n",
       "      <td>16/02/2015</td>\n",
       "      <td>11</td>\n",
       "      <td>10/02/2015</td>\n",
       "      <td>11</td>\n",
       "      <td>110028</td>\n",
       "      <td>RO</td>\n",
       "      <td>110028.0</td>\n",
       "      <td>1.0</td>\n",
       "      <td>16/02/2015</td>\n",
       "      <td>1.0</td>\n",
       "      <td>...</td>\n",
       "      <td>NaT</td>\n",
       "      <td>2015</td>\n",
       "      <td>2015</td>\n",
       "      <td>2015.0</td>\n",
       "      <td>NaN</td>\n",
       "      <td>SRAG por Influenza</td>\n",
       "      <td>Recebeu alta por cura</td>\n",
       "      <td>Sim</td>\n",
       "      <td>2</td>\n",
       "      <td>02. Fevereiro</td>\n",
       "    </tr>\n",
       "    <tr>\n",
       "      <th>4</th>\n",
       "      <td>16/02/2015</td>\n",
       "      <td>11</td>\n",
       "      <td>07/02/2015</td>\n",
       "      <td>11</td>\n",
       "      <td>110028</td>\n",
       "      <td>RO</td>\n",
       "      <td>110028.0</td>\n",
       "      <td>1.0</td>\n",
       "      <td>14/02/2015</td>\n",
       "      <td>1.0</td>\n",
       "      <td>...</td>\n",
       "      <td>2015-02-24</td>\n",
       "      <td>2015</td>\n",
       "      <td>2015</td>\n",
       "      <td>2015.0</td>\n",
       "      <td>2015.0</td>\n",
       "      <td>SRAG por Influenza</td>\n",
       "      <td>Recebeu alta por cura</td>\n",
       "      <td>Sim</td>\n",
       "      <td>2</td>\n",
       "      <td>02. Fevereiro</td>\n",
       "    </tr>\n",
       "  </tbody>\n",
       "</table>\n",
       "<p>5 rows × 25 columns</p>\n",
       "</div>"
      ],
      "text/plain": [
       "   DT_NOTIFIC SG_UF_NOT  DT_SIN_PRI SG_UF ID_MN_RESI SG_UF_INTE  CO_MU_INTE  \\\n",
       "0  03/02/2015        11  30/01/2015    11     110012         RO    110012.0   \n",
       "1  16/02/2015        11  13/02/2015    11     110028         RO    110028.0   \n",
       "2  16/02/2015        11  13/02/2015    11     110028         RO    110028.0   \n",
       "3  16/02/2015        11  10/02/2015    11     110028         RO    110028.0   \n",
       "4  16/02/2015        11  07/02/2015    11     110028         RO    110028.0   \n",
       "\n",
       "   HOSPITAL  DT_INTERNA  CLASSI_FIN  ...  DATA_EVOLUCAO ANO_NOTIFICACAO  \\\n",
       "0       1.0  02/02/2015         1.0  ...            NaT            2015   \n",
       "1       1.0  16/02/2015         4.0  ...     2015-02-17            2015   \n",
       "2       1.0  16/02/2015         4.0  ...            NaT            2015   \n",
       "3       1.0  16/02/2015         1.0  ...            NaT            2015   \n",
       "4       1.0  14/02/2015         1.0  ...     2015-02-24            2015   \n",
       "\n",
       "  ANO_SIN_PRI ANO_INTERNACAO ANO_EVOLUCAO         TXT_CLASSI_FIN  \\\n",
       "0        2015         2015.0          NaN     SRAG por Influenza   \n",
       "1        2015         2015.0       2015.0  SRAG não especificado   \n",
       "2        2015         2015.0          NaN  SRAG não especificado   \n",
       "3        2015         2015.0          NaN     SRAG por Influenza   \n",
       "4        2015         2015.0       2015.0     SRAG por Influenza   \n",
       "\n",
       "            TXT_EVOLUCAO  TXT_HOSPITAL  MES_NOTIFIC  TXT_MES_NOTIFIC  \n",
       "0  Recebeu alta por cura           Sim            2    02. Fevereiro  \n",
       "1     Evoluiu para óbito           Sim            2    02. Fevereiro  \n",
       "2  Recebeu alta por cura           Sim            2    02. Fevereiro  \n",
       "3  Recebeu alta por cura           Sim            2    02. Fevereiro  \n",
       "4  Recebeu alta por cura           Sim            2    02. Fevereiro  \n",
       "\n",
       "[5 rows x 25 columns]"
      ]
     },
     "execution_count": 80,
     "metadata": {},
     "output_type": "execute_result"
    }
   ],
   "source": [
    "dados.head()"
   ]
  },
  {
   "cell_type": "code",
   "execution_count": 81,
   "id": "085681d7",
   "metadata": {},
   "outputs": [
    {
     "data": {
      "text/plain": [
       "DT_NOTIFIC               0\n",
       "SG_UF_NOT                0\n",
       "DT_SIN_PRI               0\n",
       "SG_UF                  369\n",
       "ID_MN_RESI             369\n",
       "SG_UF_INTE            4330\n",
       "CO_MU_INTE          150816\n",
       "HOSPITAL             75465\n",
       "DT_INTERNA          199880\n",
       "CLASSI_FIN          205268\n",
       "EVOLUCAO            381602\n",
       "DT_EVOLUCA          576530\n",
       "DATA_NOTIFICACAO         0\n",
       "DATA_SIN_PRI             0\n",
       "DATA_INTERNACAO     199911\n",
       "DATA_EVOLUCAO       576530\n",
       "ANO_NOTIFICACAO          0\n",
       "ANO_SIN_PRI              0\n",
       "ANO_INTERNACAO      199911\n",
       "ANO_EVOLUCAO        576530\n",
       "TXT_CLASSI_FIN      205268\n",
       "TXT_EVOLUCAO        381602\n",
       "TXT_HOSPITAL         75465\n",
       "MES_NOTIFIC              0\n",
       "TXT_MES_NOTIFIC          0\n",
       "dtype: int64"
      ]
     },
     "execution_count": 81,
     "metadata": {},
     "output_type": "execute_result"
    }
   ],
   "source": [
    "# conferir em quais colunhas há células nulas\n",
    "\n",
    "dados.isna().sum()"
   ]
  },
  {
   "cell_type": "markdown",
   "id": "86977d26",
   "metadata": {},
   "source": [
    "## Passo 7: Criando variáveis com filtros por SRAG_NE e COVID no Brasil e no Ceará\n",
    "\n",
    "Nesta etapa nós filtramos o dataset em variáveis que serão utilizadas nos gráficos da análise, são elas:\n",
    "\n",
    "* **dados_srag_ne** e **dados_srag_ne_ceara**\n",
    "* **obitos_srag_ne** e **obitos_srag_ne_ceara**\n",
    "* **obitos_covid** e **obitos_covid_ceara** "
   ]
  },
  {
   "cell_type": "code",
   "execution_count": 82,
   "id": "1c09fbf7",
   "metadata": {},
   "outputs": [],
   "source": [
    "# dados = dados.loc[]\n",
    "# Removendo dados de Setembro de 2021 / Incompletos \n",
    "\n",
    "dados_ate_08_21 = dados.query('not (TXT_MES_NOTIFIC == \"09. Setembro\" and ANO_NOTIFICACAO == 2021)')"
   ]
  },
  {
   "cell_type": "code",
   "execution_count": 83,
   "id": "baa305ef",
   "metadata": {},
   "outputs": [],
   "source": [
    "filtro_srag_ne = dados_ate_08_21['TXT_CLASSI_FIN'] == 'SRAG não especificado'"
   ]
  },
  {
   "cell_type": "code",
   "execution_count": 84,
   "id": "c996a87d",
   "metadata": {},
   "outputs": [],
   "source": [
    "dados_srag_ne = dados_ate_08_21[filtro_srag_ne]"
   ]
  },
  {
   "cell_type": "code",
   "execution_count": 85,
   "id": "88ac5a25",
   "metadata": {},
   "outputs": [],
   "source": [
    "dados_srag_ne_ceara = dados_srag_ne.loc[dados_srag_ne.SG_UF_INTE == 'CE']"
   ]
  },
  {
   "cell_type": "code",
   "execution_count": 86,
   "id": "7dbdfce6",
   "metadata": {},
   "outputs": [
    {
     "data": {
      "text/plain": [
       "array(['Evoluiu para óbito', 'Recebeu alta por cura', nan, 'Ignorado',\n",
       "       'Cura', 'Óbito', 'Óbito por outras causas'], dtype=object)"
      ]
     },
     "execution_count": 86,
     "metadata": {},
     "output_type": "execute_result"
    }
   ],
   "source": [
    "dados_srag_ne['TXT_EVOLUCAO'].unique()"
   ]
  },
  {
   "cell_type": "code",
   "execution_count": 87,
   "id": "6fa336e5",
   "metadata": {},
   "outputs": [],
   "source": [
    "filtro_evolucao_obito = (dados_srag_ne['TXT_EVOLUCAO'] == 'Evoluiu para óbito') | (dados_srag_ne['TXT_EVOLUCAO'] == 'Óbito')"
   ]
  },
  {
   "cell_type": "code",
   "execution_count": 88,
   "id": "e4febd93",
   "metadata": {},
   "outputs": [],
   "source": [
    "obitos_srag_ne = dados_srag_ne[filtro_evolucao_obito]"
   ]
  },
  {
   "cell_type": "code",
   "execution_count": 89,
   "id": "82273d59",
   "metadata": {},
   "outputs": [],
   "source": [
    "obitos_srag_ne_ceara = obitos_srag_ne.loc[obitos_srag_ne.SG_UF_INTE == 'CE']"
   ]
  },
  {
   "cell_type": "code",
   "execution_count": 90,
   "id": "19c68e13",
   "metadata": {},
   "outputs": [],
   "source": [
    "# Dados da Covid:"
   ]
  },
  {
   "cell_type": "code",
   "execution_count": 91,
   "id": "04fa9cac",
   "metadata": {},
   "outputs": [],
   "source": [
    "filtro_covid = (dados_ate_08_21['TXT_CLASSI_FIN'] == 'SRAG por covid-19') | (dados_ate_08_21['TXT_CLASSI_FIN'] == 'COVID-19')"
   ]
  },
  {
   "cell_type": "code",
   "execution_count": 92,
   "id": "c98f64dc",
   "metadata": {},
   "outputs": [],
   "source": [
    "dados_covid = dados_ate_08_21[filtro_covid]"
   ]
  },
  {
   "cell_type": "code",
   "execution_count": 93,
   "id": "1089d175",
   "metadata": {},
   "outputs": [],
   "source": [
    "filtro_evolucao_obito_covid = (dados_covid['TXT_EVOLUCAO'] == 'Evoluiu para óbito') | (dados_covid['TXT_EVOLUCAO'] == 'Óbito')\n",
    "obitos_covid = dados_covid[filtro_evolucao_obito_covid]"
   ]
  },
  {
   "cell_type": "code",
   "execution_count": 94,
   "id": "77ed5b90",
   "metadata": {},
   "outputs": [],
   "source": [
    "obitos_covid_ceara = obitos_covid.loc[obitos_covid.SG_UF_INTE == 'CE']"
   ]
  },
  {
   "cell_type": "markdown",
   "id": "fce599fd",
   "metadata": {},
   "source": [
    "## Passo 8: Agrupando dados e recortes para cada gráfico\n",
    "\n",
    "Nesta etapa, serão exportados arquivos .csv para cada gráfico desta análise, que são: \n",
    "\n",
    "* Gráfico 1 - Média mensal de **óbitos por Síndrome Respiratória Aguda Grave (SRAG) sem causa específica no Brasil**\n",
    "* Gráfico 2 - Entre Janeiro de 2020 e Agosto de 2021, notificações de **SRAG sem causa específica** disparam no **Ceará** e superam os valores máximos e a média mensal registrados entre 2015 e 2019\n",
    "* Gráfico 3 - Entre Janeiro de 2020 e Agosto de 2021, notificações de **SRAG sem causa específica** disparam no **Brasil** e superam os valores máximos e a média mensal registrados entre 2015 e 2019\n",
    "\n",
    "* Gráfico 4 - Óbitos por SRAG não especificado e por Covid-19 no **Ceará** por mês, em 2020 e 2021\n",
    "* Gráfico 5 - Óbitos por SRAG não especificado e por Covid-19 no **Brasil** por mês, em 2020 e 2021\n"
   ]
  },
  {
   "cell_type": "code",
   "execution_count": 95,
   "id": "d36e6d60",
   "metadata": {},
   "outputs": [],
   "source": [
    "# Gráfico 1 - Média mensal de óbitos por SRAG NE no Brasil:\n",
    "\n",
    "# Filtro passo 7: obitos_srag_ne\n",
    "\n",
    "group_mes_ano_obitos_SRAGne = obitos_srag_ne.groupby(['ANO_NOTIFICACAO','TXT_MES_NOTIFIC']).size()"
   ]
  },
  {
   "cell_type": "code",
   "execution_count": 96,
   "id": "78a44072",
   "metadata": {},
   "outputs": [
    {
     "data": {
      "text/html": [
       "<div>\n",
       "<style scoped>\n",
       "    .dataframe tbody tr th:only-of-type {\n",
       "        vertical-align: middle;\n",
       "    }\n",
       "\n",
       "    .dataframe tbody tr th {\n",
       "        vertical-align: top;\n",
       "    }\n",
       "\n",
       "    .dataframe thead th {\n",
       "        text-align: right;\n",
       "    }\n",
       "</style>\n",
       "<table border=\"1\" class=\"dataframe\">\n",
       "  <thead>\n",
       "    <tr style=\"text-align: right;\">\n",
       "      <th></th>\n",
       "      <th>Média mensal de óbitos SRAG NE</th>\n",
       "    </tr>\n",
       "    <tr>\n",
       "      <th>ANO_NOTIFICACAO</th>\n",
       "      <th></th>\n",
       "    </tr>\n",
       "  </thead>\n",
       "  <tbody>\n",
       "    <tr>\n",
       "      <th>2015</th>\n",
       "      <td>113.416667</td>\n",
       "    </tr>\n",
       "    <tr>\n",
       "      <th>2016</th>\n",
       "      <td>399.833333</td>\n",
       "    </tr>\n",
       "    <tr>\n",
       "      <th>2017</th>\n",
       "      <td>213.500000</td>\n",
       "    </tr>\n",
       "    <tr>\n",
       "      <th>2018</th>\n",
       "      <td>292.166667</td>\n",
       "    </tr>\n",
       "    <tr>\n",
       "      <th>2019</th>\n",
       "      <td>302.083333</td>\n",
       "    </tr>\n",
       "    <tr>\n",
       "      <th>2020</th>\n",
       "      <td>6561.333333</td>\n",
       "    </tr>\n",
       "    <tr>\n",
       "      <th>2021</th>\n",
       "      <td>4890.250000</td>\n",
       "    </tr>\n",
       "  </tbody>\n",
       "</table>\n",
       "</div>"
      ],
      "text/plain": [
       "                 Média mensal de óbitos SRAG NE\n",
       "ANO_NOTIFICACAO                                \n",
       "2015                                 113.416667\n",
       "2016                                 399.833333\n",
       "2017                                 213.500000\n",
       "2018                                 292.166667\n",
       "2019                                 302.083333\n",
       "2020                                6561.333333\n",
       "2021                                4890.250000"
      ]
     },
     "execution_count": 96,
     "metadata": {},
     "output_type": "execute_result"
    }
   ],
   "source": [
    "grafico1_csv = group_mes_ano_obitos_SRAGne.reset_index().groupby('ANO_NOTIFICACAO').mean()\n",
    "grafico1_csv.columns = ['Média mensal de óbitos SRAG NE']\n",
    "grafico1_csv"
   ]
  },
  {
   "cell_type": "code",
   "execution_count": 98,
   "id": "a0321bd0",
   "metadata": {},
   "outputs": [],
   "source": [
    "grafico1_csv.to_csv(\"dados_tratados/grafico1.csv\")"
   ]
  },
  {
   "cell_type": "code",
   "execution_count": 99,
   "id": "3812f8ed",
   "metadata": {},
   "outputs": [],
   "source": [
    "# Gráfico 2 - Notificações de SRAG sem causa específica no Ceará\n",
    "\n",
    "# Filtro passo 7: dados_srag_ne_ceara"
   ]
  },
  {
   "cell_type": "code",
   "execution_count": 100,
   "id": "83ed9ee4",
   "metadata": {},
   "outputs": [],
   "source": [
    "tabela_srag_ne_ceara = dados_srag_ne_ceara.pivot_table(values=['EVOLUCAO'],\n",
    "                                    index=['TXT_MES_NOTIFIC'],\n",
    "                                    columns=['ANO_NOTIFICACAO'],\n",
    "                                    aggfunc='count')\n",
    "tabela_srag_ne_ceara = tabela_srag_ne_ceara['EVOLUCAO'].fillna(0)"
   ]
  },
  {
   "cell_type": "code",
   "execution_count": 101,
   "id": "206c6857",
   "metadata": {},
   "outputs": [],
   "source": [
    "tabela_srag_ne_ceara['max (2015-2019)'] = tabela_srag_ne_ceara.iloc[:,0:5].max(axis=1)\n",
    "tabela_srag_ne_ceara['min (2015-2019)'] = tabela_srag_ne_ceara.iloc[:,0:5].min(axis=1)\n",
    "tabela_srag_ne_ceara['mean (2015-2019)'] = round(tabela_srag_ne_ceara.iloc[:,0:5].mean(axis=1))"
   ]
  },
  {
   "cell_type": "code",
   "execution_count": 102,
   "id": "f2de4dfb",
   "metadata": {},
   "outputs": [
    {
     "data": {
      "text/html": [
       "<div>\n",
       "<style scoped>\n",
       "    .dataframe tbody tr th:only-of-type {\n",
       "        vertical-align: middle;\n",
       "    }\n",
       "\n",
       "    .dataframe tbody tr th {\n",
       "        vertical-align: top;\n",
       "    }\n",
       "\n",
       "    .dataframe thead th {\n",
       "        text-align: right;\n",
       "    }\n",
       "</style>\n",
       "<table border=\"1\" class=\"dataframe\">\n",
       "  <thead>\n",
       "    <tr style=\"text-align: right;\">\n",
       "      <th>ANO_NOTIFICACAO</th>\n",
       "      <th>2015</th>\n",
       "      <th>2016</th>\n",
       "      <th>2017</th>\n",
       "      <th>2018</th>\n",
       "      <th>2019</th>\n",
       "      <th>2020</th>\n",
       "      <th>2021</th>\n",
       "      <th>max (2015-2019)</th>\n",
       "      <th>min (2015-2019)</th>\n",
       "      <th>mean (2015-2019)</th>\n",
       "    </tr>\n",
       "    <tr>\n",
       "      <th>TXT_MES_NOTIFIC</th>\n",
       "      <th></th>\n",
       "      <th></th>\n",
       "      <th></th>\n",
       "      <th></th>\n",
       "      <th></th>\n",
       "      <th></th>\n",
       "      <th></th>\n",
       "      <th></th>\n",
       "      <th></th>\n",
       "      <th></th>\n",
       "    </tr>\n",
       "  </thead>\n",
       "  <tbody>\n",
       "    <tr>\n",
       "      <th>01. Janeiro</th>\n",
       "      <td>4.0</td>\n",
       "      <td>5.0</td>\n",
       "      <td>12.0</td>\n",
       "      <td>20.0</td>\n",
       "      <td>17.0</td>\n",
       "      <td>47.0</td>\n",
       "      <td>1110.0</td>\n",
       "      <td>20.0</td>\n",
       "      <td>4.0</td>\n",
       "      <td>12.0</td>\n",
       "    </tr>\n",
       "    <tr>\n",
       "      <th>02. Fevereiro</th>\n",
       "      <td>6.0</td>\n",
       "      <td>8.0</td>\n",
       "      <td>8.0</td>\n",
       "      <td>14.0</td>\n",
       "      <td>56.0</td>\n",
       "      <td>67.0</td>\n",
       "      <td>1170.0</td>\n",
       "      <td>56.0</td>\n",
       "      <td>6.0</td>\n",
       "      <td>18.0</td>\n",
       "    </tr>\n",
       "    <tr>\n",
       "      <th>03. Março</th>\n",
       "      <td>6.0</td>\n",
       "      <td>13.0</td>\n",
       "      <td>21.0</td>\n",
       "      <td>12.0</td>\n",
       "      <td>69.0</td>\n",
       "      <td>378.0</td>\n",
       "      <td>1230.0</td>\n",
       "      <td>69.0</td>\n",
       "      <td>6.0</td>\n",
       "      <td>24.0</td>\n",
       "    </tr>\n",
       "    <tr>\n",
       "      <th>04. Abril</th>\n",
       "      <td>1.0</td>\n",
       "      <td>69.0</td>\n",
       "      <td>19.0</td>\n",
       "      <td>143.0</td>\n",
       "      <td>57.0</td>\n",
       "      <td>1183.0</td>\n",
       "      <td>832.0</td>\n",
       "      <td>143.0</td>\n",
       "      <td>1.0</td>\n",
       "      <td>58.0</td>\n",
       "    </tr>\n",
       "    <tr>\n",
       "      <th>05. Maio</th>\n",
       "      <td>2.0</td>\n",
       "      <td>77.0</td>\n",
       "      <td>16.0</td>\n",
       "      <td>322.0</td>\n",
       "      <td>85.0</td>\n",
       "      <td>2097.0</td>\n",
       "      <td>808.0</td>\n",
       "      <td>322.0</td>\n",
       "      <td>2.0</td>\n",
       "      <td>100.0</td>\n",
       "    </tr>\n",
       "    <tr>\n",
       "      <th>06. Junho</th>\n",
       "      <td>3.0</td>\n",
       "      <td>77.0</td>\n",
       "      <td>5.0</td>\n",
       "      <td>106.0</td>\n",
       "      <td>69.0</td>\n",
       "      <td>1900.0</td>\n",
       "      <td>750.0</td>\n",
       "      <td>106.0</td>\n",
       "      <td>3.0</td>\n",
       "      <td>52.0</td>\n",
       "    </tr>\n",
       "    <tr>\n",
       "      <th>07. Julho</th>\n",
       "      <td>1.0</td>\n",
       "      <td>44.0</td>\n",
       "      <td>8.0</td>\n",
       "      <td>39.0</td>\n",
       "      <td>39.0</td>\n",
       "      <td>1794.0</td>\n",
       "      <td>701.0</td>\n",
       "      <td>44.0</td>\n",
       "      <td>1.0</td>\n",
       "      <td>26.0</td>\n",
       "    </tr>\n",
       "    <tr>\n",
       "      <th>08. Agosto</th>\n",
       "      <td>3.0</td>\n",
       "      <td>20.0</td>\n",
       "      <td>5.0</td>\n",
       "      <td>14.0</td>\n",
       "      <td>39.0</td>\n",
       "      <td>1401.0</td>\n",
       "      <td>421.0</td>\n",
       "      <td>39.0</td>\n",
       "      <td>3.0</td>\n",
       "      <td>16.0</td>\n",
       "    </tr>\n",
       "    <tr>\n",
       "      <th>09. Setembro</th>\n",
       "      <td>7.0</td>\n",
       "      <td>13.0</td>\n",
       "      <td>9.0</td>\n",
       "      <td>7.0</td>\n",
       "      <td>24.0</td>\n",
       "      <td>1400.0</td>\n",
       "      <td>0.0</td>\n",
       "      <td>24.0</td>\n",
       "      <td>7.0</td>\n",
       "      <td>12.0</td>\n",
       "    </tr>\n",
       "    <tr>\n",
       "      <th>10. Outubro</th>\n",
       "      <td>9.0</td>\n",
       "      <td>11.0</td>\n",
       "      <td>4.0</td>\n",
       "      <td>7.0</td>\n",
       "      <td>20.0</td>\n",
       "      <td>1093.0</td>\n",
       "      <td>0.0</td>\n",
       "      <td>20.0</td>\n",
       "      <td>4.0</td>\n",
       "      <td>10.0</td>\n",
       "    </tr>\n",
       "    <tr>\n",
       "      <th>11. Novembro</th>\n",
       "      <td>5.0</td>\n",
       "      <td>6.0</td>\n",
       "      <td>1.0</td>\n",
       "      <td>0.0</td>\n",
       "      <td>24.0</td>\n",
       "      <td>899.0</td>\n",
       "      <td>0.0</td>\n",
       "      <td>24.0</td>\n",
       "      <td>0.0</td>\n",
       "      <td>7.0</td>\n",
       "    </tr>\n",
       "    <tr>\n",
       "      <th>12. Dezembro</th>\n",
       "      <td>4.0</td>\n",
       "      <td>10.0</td>\n",
       "      <td>18.0</td>\n",
       "      <td>2.0</td>\n",
       "      <td>17.0</td>\n",
       "      <td>991.0</td>\n",
       "      <td>0.0</td>\n",
       "      <td>18.0</td>\n",
       "      <td>2.0</td>\n",
       "      <td>10.0</td>\n",
       "    </tr>\n",
       "  </tbody>\n",
       "</table>\n",
       "</div>"
      ],
      "text/plain": [
       "ANO_NOTIFICACAO  2015  2016  2017   2018  2019    2020    2021  \\\n",
       "TXT_MES_NOTIFIC                                                  \n",
       "01. Janeiro       4.0   5.0  12.0   20.0  17.0    47.0  1110.0   \n",
       "02. Fevereiro     6.0   8.0   8.0   14.0  56.0    67.0  1170.0   \n",
       "03. Março         6.0  13.0  21.0   12.0  69.0   378.0  1230.0   \n",
       "04. Abril         1.0  69.0  19.0  143.0  57.0  1183.0   832.0   \n",
       "05. Maio          2.0  77.0  16.0  322.0  85.0  2097.0   808.0   \n",
       "06. Junho         3.0  77.0   5.0  106.0  69.0  1900.0   750.0   \n",
       "07. Julho         1.0  44.0   8.0   39.0  39.0  1794.0   701.0   \n",
       "08. Agosto        3.0  20.0   5.0   14.0  39.0  1401.0   421.0   \n",
       "09. Setembro      7.0  13.0   9.0    7.0  24.0  1400.0     0.0   \n",
       "10. Outubro       9.0  11.0   4.0    7.0  20.0  1093.0     0.0   \n",
       "11. Novembro      5.0   6.0   1.0    0.0  24.0   899.0     0.0   \n",
       "12. Dezembro      4.0  10.0  18.0    2.0  17.0   991.0     0.0   \n",
       "\n",
       "ANO_NOTIFICACAO  max (2015-2019)  min (2015-2019)  mean (2015-2019)  \n",
       "TXT_MES_NOTIFIC                                                      \n",
       "01. Janeiro                 20.0              4.0              12.0  \n",
       "02. Fevereiro               56.0              6.0              18.0  \n",
       "03. Março                   69.0              6.0              24.0  \n",
       "04. Abril                  143.0              1.0              58.0  \n",
       "05. Maio                   322.0              2.0             100.0  \n",
       "06. Junho                  106.0              3.0              52.0  \n",
       "07. Julho                   44.0              1.0              26.0  \n",
       "08. Agosto                  39.0              3.0              16.0  \n",
       "09. Setembro                24.0              7.0              12.0  \n",
       "10. Outubro                 20.0              4.0              10.0  \n",
       "11. Novembro                24.0              0.0               7.0  \n",
       "12. Dezembro                18.0              2.0              10.0  "
      ]
     },
     "execution_count": 102,
     "metadata": {},
     "output_type": "execute_result"
    }
   ],
   "source": [
    "tabela_srag_ne_ceara.to_csv('dados_tratados/grafico2.csv')\n",
    "tabela_srag_ne_ceara"
   ]
  },
  {
   "cell_type": "code",
   "execution_count": 103,
   "id": "fb64f3a8",
   "metadata": {},
   "outputs": [],
   "source": [
    "# Gráfico 3 - Notificações de SRAG sem causa específica no Brasil\n",
    "\n",
    "# Filtro passo 7: dados_srag_ne"
   ]
  },
  {
   "cell_type": "code",
   "execution_count": 104,
   "id": "dabedb4b",
   "metadata": {},
   "outputs": [],
   "source": [
    "tabela_srag_ne = dados_srag_ne.pivot_table(values=['EVOLUCAO'],\n",
    "                                    index=['TXT_MES_NOTIFIC'],\n",
    "                                    columns=['ANO_NOTIFICACAO'],\n",
    "                                    aggfunc='count')\n",
    "tabela_srag_ne = tabela_srag_ne['EVOLUCAO'].fillna(0)"
   ]
  },
  {
   "cell_type": "code",
   "execution_count": 105,
   "id": "32056533",
   "metadata": {},
   "outputs": [],
   "source": [
    "tabela_srag_ne['max (2015-2019)'] = tabela_srag_ne.iloc[:,0:5].max(axis=1)\n",
    "tabela_srag_ne['min (2015-2019)'] = tabela_srag_ne.iloc[:,0:5].min(axis=1)\n",
    "tabela_srag_ne['mean (2015-2019)'] = round(tabela_srag_ne.iloc[:,0:5].mean(axis=1))"
   ]
  },
  {
   "cell_type": "code",
   "execution_count": 106,
   "id": "023536dd",
   "metadata": {},
   "outputs": [
    {
     "data": {
      "text/html": [
       "<div>\n",
       "<style scoped>\n",
       "    .dataframe tbody tr th:only-of-type {\n",
       "        vertical-align: middle;\n",
       "    }\n",
       "\n",
       "    .dataframe tbody tr th {\n",
       "        vertical-align: top;\n",
       "    }\n",
       "\n",
       "    .dataframe thead th {\n",
       "        text-align: right;\n",
       "    }\n",
       "</style>\n",
       "<table border=\"1\" class=\"dataframe\">\n",
       "  <thead>\n",
       "    <tr style=\"text-align: right;\">\n",
       "      <th>ANO_NOTIFICACAO</th>\n",
       "      <th>2015</th>\n",
       "      <th>2016</th>\n",
       "      <th>2017</th>\n",
       "      <th>2018</th>\n",
       "      <th>2019</th>\n",
       "      <th>2020</th>\n",
       "      <th>2021</th>\n",
       "      <th>max (2015-2019)</th>\n",
       "      <th>min (2015-2019)</th>\n",
       "      <th>mean (2015-2019)</th>\n",
       "    </tr>\n",
       "    <tr>\n",
       "      <th>TXT_MES_NOTIFIC</th>\n",
       "      <th></th>\n",
       "      <th></th>\n",
       "      <th></th>\n",
       "      <th></th>\n",
       "      <th></th>\n",
       "      <th></th>\n",
       "      <th></th>\n",
       "      <th></th>\n",
       "      <th></th>\n",
       "      <th></th>\n",
       "    </tr>\n",
       "  </thead>\n",
       "  <tbody>\n",
       "    <tr>\n",
       "      <th>01. Janeiro</th>\n",
       "      <td>346.0</td>\n",
       "      <td>358.0</td>\n",
       "      <td>755.0</td>\n",
       "      <td>831.0</td>\n",
       "      <td>909.0</td>\n",
       "      <td>1259.0</td>\n",
       "      <td>33475.0</td>\n",
       "      <td>909.0</td>\n",
       "      <td>346.0</td>\n",
       "      <td>640.0</td>\n",
       "    </tr>\n",
       "    <tr>\n",
       "      <th>02. Fevereiro</th>\n",
       "      <td>493.0</td>\n",
       "      <td>565.0</td>\n",
       "      <td>829.0</td>\n",
       "      <td>665.0</td>\n",
       "      <td>1225.0</td>\n",
       "      <td>1474.0</td>\n",
       "      <td>29976.0</td>\n",
       "      <td>1225.0</td>\n",
       "      <td>493.0</td>\n",
       "      <td>755.0</td>\n",
       "    </tr>\n",
       "    <tr>\n",
       "      <th>03. Março</th>\n",
       "      <td>823.0</td>\n",
       "      <td>2883.0</td>\n",
       "      <td>1623.0</td>\n",
       "      <td>1327.0</td>\n",
       "      <td>2333.0</td>\n",
       "      <td>17289.0</td>\n",
       "      <td>34048.0</td>\n",
       "      <td>2883.0</td>\n",
       "      <td>823.0</td>\n",
       "      <td>1798.0</td>\n",
       "    </tr>\n",
       "    <tr>\n",
       "      <th>04. Abril</th>\n",
       "      <td>959.0</td>\n",
       "      <td>9301.0</td>\n",
       "      <td>2194.0</td>\n",
       "      <td>3328.0</td>\n",
       "      <td>3375.0</td>\n",
       "      <td>36955.0</td>\n",
       "      <td>29240.0</td>\n",
       "      <td>9301.0</td>\n",
       "      <td>959.0</td>\n",
       "      <td>3831.0</td>\n",
       "    </tr>\n",
       "    <tr>\n",
       "      <th>05. Maio</th>\n",
       "      <td>1473.0</td>\n",
       "      <td>7024.0</td>\n",
       "      <td>3247.0</td>\n",
       "      <td>4695.0</td>\n",
       "      <td>4347.0</td>\n",
       "      <td>44596.0</td>\n",
       "      <td>30477.0</td>\n",
       "      <td>7024.0</td>\n",
       "      <td>1473.0</td>\n",
       "      <td>4157.0</td>\n",
       "    </tr>\n",
       "    <tr>\n",
       "      <th>06. Junho</th>\n",
       "      <td>1365.0</td>\n",
       "      <td>4973.0</td>\n",
       "      <td>2757.0</td>\n",
       "      <td>4101.0</td>\n",
       "      <td>4435.0</td>\n",
       "      <td>47146.0</td>\n",
       "      <td>27401.0</td>\n",
       "      <td>4973.0</td>\n",
       "      <td>1365.0</td>\n",
       "      <td>3526.0</td>\n",
       "    </tr>\n",
       "    <tr>\n",
       "      <th>07. Julho</th>\n",
       "      <td>1153.0</td>\n",
       "      <td>3252.0</td>\n",
       "      <td>2131.0</td>\n",
       "      <td>3705.0</td>\n",
       "      <td>3648.0</td>\n",
       "      <td>52107.0</td>\n",
       "      <td>26563.0</td>\n",
       "      <td>3705.0</td>\n",
       "      <td>1153.0</td>\n",
       "      <td>2778.0</td>\n",
       "    </tr>\n",
       "    <tr>\n",
       "      <th>08. Agosto</th>\n",
       "      <td>859.0</td>\n",
       "      <td>2093.0</td>\n",
       "      <td>1660.0</td>\n",
       "      <td>2792.0</td>\n",
       "      <td>2673.0</td>\n",
       "      <td>48207.0</td>\n",
       "      <td>21121.0</td>\n",
       "      <td>2792.0</td>\n",
       "      <td>859.0</td>\n",
       "      <td>2015.0</td>\n",
       "    </tr>\n",
       "    <tr>\n",
       "      <th>09. Setembro</th>\n",
       "      <td>674.0</td>\n",
       "      <td>1562.0</td>\n",
       "      <td>1269.0</td>\n",
       "      <td>1857.0</td>\n",
       "      <td>2108.0</td>\n",
       "      <td>41044.0</td>\n",
       "      <td>0.0</td>\n",
       "      <td>2108.0</td>\n",
       "      <td>674.0</td>\n",
       "      <td>1494.0</td>\n",
       "    </tr>\n",
       "    <tr>\n",
       "      <th>10. Outubro</th>\n",
       "      <td>607.0</td>\n",
       "      <td>1126.0</td>\n",
       "      <td>1263.0</td>\n",
       "      <td>1536.0</td>\n",
       "      <td>1820.0</td>\n",
       "      <td>36604.0</td>\n",
       "      <td>0.0</td>\n",
       "      <td>1820.0</td>\n",
       "      <td>607.0</td>\n",
       "      <td>1270.0</td>\n",
       "    </tr>\n",
       "    <tr>\n",
       "      <th>11. Novembro</th>\n",
       "      <td>472.0</td>\n",
       "      <td>944.0</td>\n",
       "      <td>1035.0</td>\n",
       "      <td>1269.0</td>\n",
       "      <td>1338.0</td>\n",
       "      <td>32494.0</td>\n",
       "      <td>0.0</td>\n",
       "      <td>1338.0</td>\n",
       "      <td>472.0</td>\n",
       "      <td>1012.0</td>\n",
       "    </tr>\n",
       "    <tr>\n",
       "      <th>12. Dezembro</th>\n",
       "      <td>439.0</td>\n",
       "      <td>832.0</td>\n",
       "      <td>893.0</td>\n",
       "      <td>1036.0</td>\n",
       "      <td>1232.0</td>\n",
       "      <td>33044.0</td>\n",
       "      <td>0.0</td>\n",
       "      <td>1232.0</td>\n",
       "      <td>439.0</td>\n",
       "      <td>886.0</td>\n",
       "    </tr>\n",
       "  </tbody>\n",
       "</table>\n",
       "</div>"
      ],
      "text/plain": [
       "ANO_NOTIFICACAO    2015    2016    2017    2018    2019     2020     2021  \\\n",
       "TXT_MES_NOTIFIC                                                             \n",
       "01. Janeiro       346.0   358.0   755.0   831.0   909.0   1259.0  33475.0   \n",
       "02. Fevereiro     493.0   565.0   829.0   665.0  1225.0   1474.0  29976.0   \n",
       "03. Março         823.0  2883.0  1623.0  1327.0  2333.0  17289.0  34048.0   \n",
       "04. Abril         959.0  9301.0  2194.0  3328.0  3375.0  36955.0  29240.0   \n",
       "05. Maio         1473.0  7024.0  3247.0  4695.0  4347.0  44596.0  30477.0   \n",
       "06. Junho        1365.0  4973.0  2757.0  4101.0  4435.0  47146.0  27401.0   \n",
       "07. Julho        1153.0  3252.0  2131.0  3705.0  3648.0  52107.0  26563.0   \n",
       "08. Agosto        859.0  2093.0  1660.0  2792.0  2673.0  48207.0  21121.0   \n",
       "09. Setembro      674.0  1562.0  1269.0  1857.0  2108.0  41044.0      0.0   \n",
       "10. Outubro       607.0  1126.0  1263.0  1536.0  1820.0  36604.0      0.0   \n",
       "11. Novembro      472.0   944.0  1035.0  1269.0  1338.0  32494.0      0.0   \n",
       "12. Dezembro      439.0   832.0   893.0  1036.0  1232.0  33044.0      0.0   \n",
       "\n",
       "ANO_NOTIFICACAO  max (2015-2019)  min (2015-2019)  mean (2015-2019)  \n",
       "TXT_MES_NOTIFIC                                                      \n",
       "01. Janeiro                909.0            346.0             640.0  \n",
       "02. Fevereiro             1225.0            493.0             755.0  \n",
       "03. Março                 2883.0            823.0            1798.0  \n",
       "04. Abril                 9301.0            959.0            3831.0  \n",
       "05. Maio                  7024.0           1473.0            4157.0  \n",
       "06. Junho                 4973.0           1365.0            3526.0  \n",
       "07. Julho                 3705.0           1153.0            2778.0  \n",
       "08. Agosto                2792.0            859.0            2015.0  \n",
       "09. Setembro              2108.0            674.0            1494.0  \n",
       "10. Outubro               1820.0            607.0            1270.0  \n",
       "11. Novembro              1338.0            472.0            1012.0  \n",
       "12. Dezembro              1232.0            439.0             886.0  "
      ]
     },
     "execution_count": 106,
     "metadata": {},
     "output_type": "execute_result"
    }
   ],
   "source": [
    "tabela_srag_ne.to_csv('dados_tratados/grafico3.csv')\n",
    "tabela_srag_ne"
   ]
  },
  {
   "cell_type": "code",
   "execution_count": 107,
   "id": "89eb3b7d",
   "metadata": {},
   "outputs": [],
   "source": [
    "# Gráfico 4 - Óbitos por SRAG sem causa específica e Covid no Ceará\n",
    "\n",
    "# Filtro passo 7: obitos_srag_ne_ceara e obitos_covid_ceara"
   ]
  },
  {
   "cell_type": "code",
   "execution_count": 108,
   "id": "74dcc265",
   "metadata": {},
   "outputs": [],
   "source": [
    "grupo_obitos_covid_ceara = obitos_covid_ceara.groupby(['ANO_NOTIFICACAO','TXT_MES_NOTIFIC']).size().reset_index()"
   ]
  },
  {
   "cell_type": "code",
   "execution_count": 109,
   "id": "6900a569",
   "metadata": {},
   "outputs": [],
   "source": [
    "grupo_obitos_srag_ne_ceara = obitos_srag_ne_ceara.loc[obitos_srag_ne_ceara.ANO_NOTIFICACAO >= 2020].groupby(['ANO_NOTIFICACAO','TXT_MES_NOTIFIC']).size().reset_index()"
   ]
  },
  {
   "cell_type": "code",
   "execution_count": 110,
   "id": "bc229c30",
   "metadata": {},
   "outputs": [
    {
     "data": {
      "text/html": [
       "<div>\n",
       "<style scoped>\n",
       "    .dataframe tbody tr th:only-of-type {\n",
       "        vertical-align: middle;\n",
       "    }\n",
       "\n",
       "    .dataframe tbody tr th {\n",
       "        vertical-align: top;\n",
       "    }\n",
       "\n",
       "    .dataframe thead th {\n",
       "        text-align: right;\n",
       "    }\n",
       "</style>\n",
       "<table border=\"1\" class=\"dataframe\">\n",
       "  <thead>\n",
       "    <tr style=\"text-align: right;\">\n",
       "      <th></th>\n",
       "      <th>ANO_NOTIFICACAO</th>\n",
       "      <th>TXT_MES_NOTIFIC</th>\n",
       "      <th>0</th>\n",
       "    </tr>\n",
       "  </thead>\n",
       "  <tbody>\n",
       "    <tr>\n",
       "      <th>0</th>\n",
       "      <td>2020</td>\n",
       "      <td>03. Março</td>\n",
       "      <td>49</td>\n",
       "    </tr>\n",
       "    <tr>\n",
       "      <th>1</th>\n",
       "      <td>2020</td>\n",
       "      <td>04. Abril</td>\n",
       "      <td>1150</td>\n",
       "    </tr>\n",
       "    <tr>\n",
       "      <th>2</th>\n",
       "      <td>2020</td>\n",
       "      <td>05. Maio</td>\n",
       "      <td>3784</td>\n",
       "    </tr>\n",
       "    <tr>\n",
       "      <th>3</th>\n",
       "      <td>2020</td>\n",
       "      <td>06. Junho</td>\n",
       "      <td>2198</td>\n",
       "    </tr>\n",
       "    <tr>\n",
       "      <th>4</th>\n",
       "      <td>2020</td>\n",
       "      <td>07. Julho</td>\n",
       "      <td>1252</td>\n",
       "    </tr>\n",
       "    <tr>\n",
       "      <th>5</th>\n",
       "      <td>2020</td>\n",
       "      <td>08. Agosto</td>\n",
       "      <td>664</td>\n",
       "    </tr>\n",
       "    <tr>\n",
       "      <th>6</th>\n",
       "      <td>2020</td>\n",
       "      <td>09. Setembro</td>\n",
       "      <td>538</td>\n",
       "    </tr>\n",
       "    <tr>\n",
       "      <th>7</th>\n",
       "      <td>2020</td>\n",
       "      <td>10. Outubro</td>\n",
       "      <td>332</td>\n",
       "    </tr>\n",
       "    <tr>\n",
       "      <th>8</th>\n",
       "      <td>2020</td>\n",
       "      <td>11. Novembro</td>\n",
       "      <td>366</td>\n",
       "    </tr>\n",
       "    <tr>\n",
       "      <th>9</th>\n",
       "      <td>2020</td>\n",
       "      <td>12. Dezembro</td>\n",
       "      <td>439</td>\n",
       "    </tr>\n",
       "    <tr>\n",
       "      <th>10</th>\n",
       "      <td>2021</td>\n",
       "      <td>01. Janeiro</td>\n",
       "      <td>674</td>\n",
       "    </tr>\n",
       "    <tr>\n",
       "      <th>11</th>\n",
       "      <td>2021</td>\n",
       "      <td>02. Fevereiro</td>\n",
       "      <td>1368</td>\n",
       "    </tr>\n",
       "    <tr>\n",
       "      <th>12</th>\n",
       "      <td>2021</td>\n",
       "      <td>03. Março</td>\n",
       "      <td>3881</td>\n",
       "    </tr>\n",
       "    <tr>\n",
       "      <th>13</th>\n",
       "      <td>2021</td>\n",
       "      <td>04. Abril</td>\n",
       "      <td>3814</td>\n",
       "    </tr>\n",
       "    <tr>\n",
       "      <th>14</th>\n",
       "      <td>2021</td>\n",
       "      <td>05. Maio</td>\n",
       "      <td>2227</td>\n",
       "    </tr>\n",
       "    <tr>\n",
       "      <th>15</th>\n",
       "      <td>2021</td>\n",
       "      <td>06. Junho</td>\n",
       "      <td>1160</td>\n",
       "    </tr>\n",
       "    <tr>\n",
       "      <th>16</th>\n",
       "      <td>2021</td>\n",
       "      <td>07. Julho</td>\n",
       "      <td>494</td>\n",
       "    </tr>\n",
       "    <tr>\n",
       "      <th>17</th>\n",
       "      <td>2021</td>\n",
       "      <td>08. Agosto</td>\n",
       "      <td>192</td>\n",
       "    </tr>\n",
       "  </tbody>\n",
       "</table>\n",
       "</div>"
      ],
      "text/plain": [
       "    ANO_NOTIFICACAO TXT_MES_NOTIFIC     0\n",
       "0              2020       03. Março    49\n",
       "1              2020       04. Abril  1150\n",
       "2              2020        05. Maio  3784\n",
       "3              2020       06. Junho  2198\n",
       "4              2020       07. Julho  1252\n",
       "5              2020      08. Agosto   664\n",
       "6              2020    09. Setembro   538\n",
       "7              2020     10. Outubro   332\n",
       "8              2020    11. Novembro   366\n",
       "9              2020    12. Dezembro   439\n",
       "10             2021     01. Janeiro   674\n",
       "11             2021   02. Fevereiro  1368\n",
       "12             2021       03. Março  3881\n",
       "13             2021       04. Abril  3814\n",
       "14             2021        05. Maio  2227\n",
       "15             2021       06. Junho  1160\n",
       "16             2021       07. Julho   494\n",
       "17             2021      08. Agosto   192"
      ]
     },
     "execution_count": 110,
     "metadata": {},
     "output_type": "execute_result"
    }
   ],
   "source": [
    "grupo_obitos_covid_ceara.to_csv('dados_tratados/grafico4-covid.csv')\n",
    "\n",
    "grupo_obitos_covid_ceara"
   ]
  },
  {
   "cell_type": "code",
   "execution_count": 111,
   "id": "f7a99ba9",
   "metadata": {},
   "outputs": [
    {
     "data": {
      "text/html": [
       "<div>\n",
       "<style scoped>\n",
       "    .dataframe tbody tr th:only-of-type {\n",
       "        vertical-align: middle;\n",
       "    }\n",
       "\n",
       "    .dataframe tbody tr th {\n",
       "        vertical-align: top;\n",
       "    }\n",
       "\n",
       "    .dataframe thead th {\n",
       "        text-align: right;\n",
       "    }\n",
       "</style>\n",
       "<table border=\"1\" class=\"dataframe\">\n",
       "  <thead>\n",
       "    <tr style=\"text-align: right;\">\n",
       "      <th></th>\n",
       "      <th>ANO_NOTIFICACAO</th>\n",
       "      <th>TXT_MES_NOTIFIC</th>\n",
       "      <th>0</th>\n",
       "    </tr>\n",
       "  </thead>\n",
       "  <tbody>\n",
       "    <tr>\n",
       "      <th>0</th>\n",
       "      <td>2020</td>\n",
       "      <td>01. Janeiro</td>\n",
       "      <td>6</td>\n",
       "    </tr>\n",
       "    <tr>\n",
       "      <th>1</th>\n",
       "      <td>2020</td>\n",
       "      <td>02. Fevereiro</td>\n",
       "      <td>3</td>\n",
       "    </tr>\n",
       "    <tr>\n",
       "      <th>2</th>\n",
       "      <td>2020</td>\n",
       "      <td>03. Março</td>\n",
       "      <td>77</td>\n",
       "    </tr>\n",
       "    <tr>\n",
       "      <th>3</th>\n",
       "      <td>2020</td>\n",
       "      <td>04. Abril</td>\n",
       "      <td>394</td>\n",
       "    </tr>\n",
       "    <tr>\n",
       "      <th>4</th>\n",
       "      <td>2020</td>\n",
       "      <td>05. Maio</td>\n",
       "      <td>817</td>\n",
       "    </tr>\n",
       "    <tr>\n",
       "      <th>5</th>\n",
       "      <td>2020</td>\n",
       "      <td>06. Junho</td>\n",
       "      <td>662</td>\n",
       "    </tr>\n",
       "    <tr>\n",
       "      <th>6</th>\n",
       "      <td>2020</td>\n",
       "      <td>07. Julho</td>\n",
       "      <td>462</td>\n",
       "    </tr>\n",
       "    <tr>\n",
       "      <th>7</th>\n",
       "      <td>2020</td>\n",
       "      <td>08. Agosto</td>\n",
       "      <td>323</td>\n",
       "    </tr>\n",
       "    <tr>\n",
       "      <th>8</th>\n",
       "      <td>2020</td>\n",
       "      <td>09. Setembro</td>\n",
       "      <td>274</td>\n",
       "    </tr>\n",
       "    <tr>\n",
       "      <th>9</th>\n",
       "      <td>2020</td>\n",
       "      <td>10. Outubro</td>\n",
       "      <td>219</td>\n",
       "    </tr>\n",
       "    <tr>\n",
       "      <th>10</th>\n",
       "      <td>2020</td>\n",
       "      <td>11. Novembro</td>\n",
       "      <td>177</td>\n",
       "    </tr>\n",
       "    <tr>\n",
       "      <th>11</th>\n",
       "      <td>2020</td>\n",
       "      <td>12. Dezembro</td>\n",
       "      <td>212</td>\n",
       "    </tr>\n",
       "    <tr>\n",
       "      <th>12</th>\n",
       "      <td>2021</td>\n",
       "      <td>01. Janeiro</td>\n",
       "      <td>220</td>\n",
       "    </tr>\n",
       "    <tr>\n",
       "      <th>13</th>\n",
       "      <td>2021</td>\n",
       "      <td>02. Fevereiro</td>\n",
       "      <td>254</td>\n",
       "    </tr>\n",
       "    <tr>\n",
       "      <th>14</th>\n",
       "      <td>2021</td>\n",
       "      <td>03. Março</td>\n",
       "      <td>322</td>\n",
       "    </tr>\n",
       "    <tr>\n",
       "      <th>15</th>\n",
       "      <td>2021</td>\n",
       "      <td>04. Abril</td>\n",
       "      <td>224</td>\n",
       "    </tr>\n",
       "    <tr>\n",
       "      <th>16</th>\n",
       "      <td>2021</td>\n",
       "      <td>05. Maio</td>\n",
       "      <td>182</td>\n",
       "    </tr>\n",
       "    <tr>\n",
       "      <th>17</th>\n",
       "      <td>2021</td>\n",
       "      <td>06. Junho</td>\n",
       "      <td>138</td>\n",
       "    </tr>\n",
       "    <tr>\n",
       "      <th>18</th>\n",
       "      <td>2021</td>\n",
       "      <td>07. Julho</td>\n",
       "      <td>108</td>\n",
       "    </tr>\n",
       "    <tr>\n",
       "      <th>19</th>\n",
       "      <td>2021</td>\n",
       "      <td>08. Agosto</td>\n",
       "      <td>76</td>\n",
       "    </tr>\n",
       "  </tbody>\n",
       "</table>\n",
       "</div>"
      ],
      "text/plain": [
       "    ANO_NOTIFICACAO TXT_MES_NOTIFIC    0\n",
       "0              2020     01. Janeiro    6\n",
       "1              2020   02. Fevereiro    3\n",
       "2              2020       03. Março   77\n",
       "3              2020       04. Abril  394\n",
       "4              2020        05. Maio  817\n",
       "5              2020       06. Junho  662\n",
       "6              2020       07. Julho  462\n",
       "7              2020      08. Agosto  323\n",
       "8              2020    09. Setembro  274\n",
       "9              2020     10. Outubro  219\n",
       "10             2020    11. Novembro  177\n",
       "11             2020    12. Dezembro  212\n",
       "12             2021     01. Janeiro  220\n",
       "13             2021   02. Fevereiro  254\n",
       "14             2021       03. Março  322\n",
       "15             2021       04. Abril  224\n",
       "16             2021        05. Maio  182\n",
       "17             2021       06. Junho  138\n",
       "18             2021       07. Julho  108\n",
       "19             2021      08. Agosto   76"
      ]
     },
     "execution_count": 111,
     "metadata": {},
     "output_type": "execute_result"
    }
   ],
   "source": [
    "grupo_obitos_srag_ne_ceara.to_csv('dados_tratados/grafico4-srag_ne.csv')\n",
    "grupo_obitos_srag_ne_ceara"
   ]
  },
  {
   "cell_type": "code",
   "execution_count": 112,
   "id": "923a2ca3",
   "metadata": {},
   "outputs": [],
   "source": [
    "# Gráfico 5 - Óbitos por SRAG sem causa específica e Covid no Brasil\n",
    "\n",
    "# Filtro passo 7: obitos_srag_ne e obitos_covid"
   ]
  },
  {
   "cell_type": "code",
   "execution_count": 113,
   "id": "12ddcd2c",
   "metadata": {
    "scrolled": true
   },
   "outputs": [
    {
     "data": {
      "text/html": [
       "<div>\n",
       "<style scoped>\n",
       "    .dataframe tbody tr th:only-of-type {\n",
       "        vertical-align: middle;\n",
       "    }\n",
       "\n",
       "    .dataframe tbody tr th {\n",
       "        vertical-align: top;\n",
       "    }\n",
       "\n",
       "    .dataframe thead th {\n",
       "        text-align: right;\n",
       "    }\n",
       "</style>\n",
       "<table border=\"1\" class=\"dataframe\">\n",
       "  <thead>\n",
       "    <tr style=\"text-align: right;\">\n",
       "      <th></th>\n",
       "      <th>ANO_NOTIFICACAO</th>\n",
       "      <th>TXT_MES_NOTIFIC</th>\n",
       "      <th>0</th>\n",
       "    </tr>\n",
       "  </thead>\n",
       "  <tbody>\n",
       "    <tr>\n",
       "      <th>0</th>\n",
       "      <td>2020</td>\n",
       "      <td>02. Fevereiro</td>\n",
       "      <td>2</td>\n",
       "    </tr>\n",
       "    <tr>\n",
       "      <th>1</th>\n",
       "      <td>2020</td>\n",
       "      <td>03. Março</td>\n",
       "      <td>1836</td>\n",
       "    </tr>\n",
       "    <tr>\n",
       "      <th>2</th>\n",
       "      <td>2020</td>\n",
       "      <td>04. Abril</td>\n",
       "      <td>16184</td>\n",
       "    </tr>\n",
       "    <tr>\n",
       "      <th>3</th>\n",
       "      <td>2020</td>\n",
       "      <td>05. Maio</td>\n",
       "      <td>33636</td>\n",
       "    </tr>\n",
       "    <tr>\n",
       "      <th>4</th>\n",
       "      <td>2020</td>\n",
       "      <td>06. Junho</td>\n",
       "      <td>31364</td>\n",
       "    </tr>\n",
       "    <tr>\n",
       "      <th>5</th>\n",
       "      <td>2020</td>\n",
       "      <td>07. Julho</td>\n",
       "      <td>31338</td>\n",
       "    </tr>\n",
       "    <tr>\n",
       "      <th>6</th>\n",
       "      <td>2020</td>\n",
       "      <td>08. Agosto</td>\n",
       "      <td>24132</td>\n",
       "    </tr>\n",
       "    <tr>\n",
       "      <th>7</th>\n",
       "      <td>2020</td>\n",
       "      <td>09. Setembro</td>\n",
       "      <td>17126</td>\n",
       "    </tr>\n",
       "    <tr>\n",
       "      <th>8</th>\n",
       "      <td>2020</td>\n",
       "      <td>10. Outubro</td>\n",
       "      <td>12654</td>\n",
       "    </tr>\n",
       "    <tr>\n",
       "      <th>9</th>\n",
       "      <td>2020</td>\n",
       "      <td>11. Novembro</td>\n",
       "      <td>16691</td>\n",
       "    </tr>\n",
       "    <tr>\n",
       "      <th>10</th>\n",
       "      <td>2020</td>\n",
       "      <td>12. Dezembro</td>\n",
       "      <td>26539</td>\n",
       "    </tr>\n",
       "    <tr>\n",
       "      <th>11</th>\n",
       "      <td>2021</td>\n",
       "      <td>01. Janeiro</td>\n",
       "      <td>31791</td>\n",
       "    </tr>\n",
       "    <tr>\n",
       "      <th>12</th>\n",
       "      <td>2021</td>\n",
       "      <td>02. Fevereiro</td>\n",
       "      <td>34346</td>\n",
       "    </tr>\n",
       "    <tr>\n",
       "      <th>13</th>\n",
       "      <td>2021</td>\n",
       "      <td>03. Março</td>\n",
       "      <td>89231</td>\n",
       "    </tr>\n",
       "    <tr>\n",
       "      <th>14</th>\n",
       "      <td>2021</td>\n",
       "      <td>04. Abril</td>\n",
       "      <td>65066</td>\n",
       "    </tr>\n",
       "    <tr>\n",
       "      <th>15</th>\n",
       "      <td>2021</td>\n",
       "      <td>05. Maio</td>\n",
       "      <td>51529</td>\n",
       "    </tr>\n",
       "    <tr>\n",
       "      <th>16</th>\n",
       "      <td>2021</td>\n",
       "      <td>06. Junho</td>\n",
       "      <td>42170</td>\n",
       "    </tr>\n",
       "    <tr>\n",
       "      <th>17</th>\n",
       "      <td>2021</td>\n",
       "      <td>07. Julho</td>\n",
       "      <td>22426</td>\n",
       "    </tr>\n",
       "    <tr>\n",
       "      <th>18</th>\n",
       "      <td>2021</td>\n",
       "      <td>08. Agosto</td>\n",
       "      <td>13080</td>\n",
       "    </tr>\n",
       "  </tbody>\n",
       "</table>\n",
       "</div>"
      ],
      "text/plain": [
       "    ANO_NOTIFICACAO TXT_MES_NOTIFIC      0\n",
       "0              2020   02. Fevereiro      2\n",
       "1              2020       03. Março   1836\n",
       "2              2020       04. Abril  16184\n",
       "3              2020        05. Maio  33636\n",
       "4              2020       06. Junho  31364\n",
       "5              2020       07. Julho  31338\n",
       "6              2020      08. Agosto  24132\n",
       "7              2020    09. Setembro  17126\n",
       "8              2020     10. Outubro  12654\n",
       "9              2020    11. Novembro  16691\n",
       "10             2020    12. Dezembro  26539\n",
       "11             2021     01. Janeiro  31791\n",
       "12             2021   02. Fevereiro  34346\n",
       "13             2021       03. Março  89231\n",
       "14             2021       04. Abril  65066\n",
       "15             2021        05. Maio  51529\n",
       "16             2021       06. Junho  42170\n",
       "17             2021       07. Julho  22426\n",
       "18             2021      08. Agosto  13080"
      ]
     },
     "execution_count": 113,
     "metadata": {},
     "output_type": "execute_result"
    }
   ],
   "source": [
    "\n",
    "grafico5_covid = obitos_covid.groupby(['ANO_NOTIFICACAO','TXT_MES_NOTIFIC']).size().reset_index()\n",
    "grafico5_covid.to_csv('dados_tratados/grafico5-covid.csv')\n",
    "grafico5_covid"
   ]
  },
  {
   "cell_type": "code",
   "execution_count": 114,
   "id": "04ab2e6b",
   "metadata": {},
   "outputs": [
    {
     "data": {
      "text/html": [
       "<div>\n",
       "<style scoped>\n",
       "    .dataframe tbody tr th:only-of-type {\n",
       "        vertical-align: middle;\n",
       "    }\n",
       "\n",
       "    .dataframe tbody tr th {\n",
       "        vertical-align: top;\n",
       "    }\n",
       "\n",
       "    .dataframe thead th {\n",
       "        text-align: right;\n",
       "    }\n",
       "</style>\n",
       "<table border=\"1\" class=\"dataframe\">\n",
       "  <thead>\n",
       "    <tr style=\"text-align: right;\">\n",
       "      <th></th>\n",
       "      <th>ANO_NOTIFICACAO</th>\n",
       "      <th>TXT_MES_NOTIFIC</th>\n",
       "      <th>0</th>\n",
       "    </tr>\n",
       "  </thead>\n",
       "  <tbody>\n",
       "    <tr>\n",
       "      <th>0</th>\n",
       "      <td>2020</td>\n",
       "      <td>01. Janeiro</td>\n",
       "      <td>208</td>\n",
       "    </tr>\n",
       "    <tr>\n",
       "      <th>1</th>\n",
       "      <td>2020</td>\n",
       "      <td>02. Fevereiro</td>\n",
       "      <td>196</td>\n",
       "    </tr>\n",
       "    <tr>\n",
       "      <th>2</th>\n",
       "      <td>2020</td>\n",
       "      <td>03. Março</td>\n",
       "      <td>3000</td>\n",
       "    </tr>\n",
       "    <tr>\n",
       "      <th>3</th>\n",
       "      <td>2020</td>\n",
       "      <td>04. Abril</td>\n",
       "      <td>9235</td>\n",
       "    </tr>\n",
       "    <tr>\n",
       "      <th>4</th>\n",
       "      <td>2020</td>\n",
       "      <td>05. Maio</td>\n",
       "      <td>12228</td>\n",
       "    </tr>\n",
       "    <tr>\n",
       "      <th>5</th>\n",
       "      <td>2020</td>\n",
       "      <td>06. Junho</td>\n",
       "      <td>11497</td>\n",
       "    </tr>\n",
       "    <tr>\n",
       "      <th>6</th>\n",
       "      <td>2020</td>\n",
       "      <td>07. Julho</td>\n",
       "      <td>10315</td>\n",
       "    </tr>\n",
       "    <tr>\n",
       "      <th>7</th>\n",
       "      <td>2020</td>\n",
       "      <td>08. Agosto</td>\n",
       "      <td>8666</td>\n",
       "    </tr>\n",
       "    <tr>\n",
       "      <th>8</th>\n",
       "      <td>2020</td>\n",
       "      <td>09. Setembro</td>\n",
       "      <td>6889</td>\n",
       "    </tr>\n",
       "    <tr>\n",
       "      <th>9</th>\n",
       "      <td>2020</td>\n",
       "      <td>10. Outubro</td>\n",
       "      <td>6062</td>\n",
       "    </tr>\n",
       "    <tr>\n",
       "      <th>10</th>\n",
       "      <td>2020</td>\n",
       "      <td>11. Novembro</td>\n",
       "      <td>5016</td>\n",
       "    </tr>\n",
       "    <tr>\n",
       "      <th>11</th>\n",
       "      <td>2020</td>\n",
       "      <td>12. Dezembro</td>\n",
       "      <td>5424</td>\n",
       "    </tr>\n",
       "    <tr>\n",
       "      <th>12</th>\n",
       "      <td>2021</td>\n",
       "      <td>01. Janeiro</td>\n",
       "      <td>5864</td>\n",
       "    </tr>\n",
       "    <tr>\n",
       "      <th>13</th>\n",
       "      <td>2021</td>\n",
       "      <td>02. Fevereiro</td>\n",
       "      <td>5042</td>\n",
       "    </tr>\n",
       "    <tr>\n",
       "      <th>14</th>\n",
       "      <td>2021</td>\n",
       "      <td>03. Março</td>\n",
       "      <td>6160</td>\n",
       "    </tr>\n",
       "    <tr>\n",
       "      <th>15</th>\n",
       "      <td>2021</td>\n",
       "      <td>04. Abril</td>\n",
       "      <td>5348</td>\n",
       "    </tr>\n",
       "    <tr>\n",
       "      <th>16</th>\n",
       "      <td>2021</td>\n",
       "      <td>05. Maio</td>\n",
       "      <td>4828</td>\n",
       "    </tr>\n",
       "    <tr>\n",
       "      <th>17</th>\n",
       "      <td>2021</td>\n",
       "      <td>06. Junho</td>\n",
       "      <td>4530</td>\n",
       "    </tr>\n",
       "    <tr>\n",
       "      <th>18</th>\n",
       "      <td>2021</td>\n",
       "      <td>07. Julho</td>\n",
       "      <td>4144</td>\n",
       "    </tr>\n",
       "    <tr>\n",
       "      <th>19</th>\n",
       "      <td>2021</td>\n",
       "      <td>08. Agosto</td>\n",
       "      <td>3206</td>\n",
       "    </tr>\n",
       "  </tbody>\n",
       "</table>\n",
       "</div>"
      ],
      "text/plain": [
       "    ANO_NOTIFICACAO TXT_MES_NOTIFIC      0\n",
       "0              2020     01. Janeiro    208\n",
       "1              2020   02. Fevereiro    196\n",
       "2              2020       03. Março   3000\n",
       "3              2020       04. Abril   9235\n",
       "4              2020        05. Maio  12228\n",
       "5              2020       06. Junho  11497\n",
       "6              2020       07. Julho  10315\n",
       "7              2020      08. Agosto   8666\n",
       "8              2020    09. Setembro   6889\n",
       "9              2020     10. Outubro   6062\n",
       "10             2020    11. Novembro   5016\n",
       "11             2020    12. Dezembro   5424\n",
       "12             2021     01. Janeiro   5864\n",
       "13             2021   02. Fevereiro   5042\n",
       "14             2021       03. Março   6160\n",
       "15             2021       04. Abril   5348\n",
       "16             2021        05. Maio   4828\n",
       "17             2021       06. Junho   4530\n",
       "18             2021       07. Julho   4144\n",
       "19             2021      08. Agosto   3206"
      ]
     },
     "execution_count": 114,
     "metadata": {},
     "output_type": "execute_result"
    }
   ],
   "source": [
    "grafico5_srag_ne = obitos_srag_ne.loc[obitos_srag_ne.ANO_NOTIFICACAO >= 2020].groupby(['ANO_NOTIFICACAO','TXT_MES_NOTIFIC']).size().reset_index()\n",
    "grafico5_srag_ne.to_csv('dados_tratados/grafico5-srag.csv')\n",
    "grafico5_srag_ne"
   ]
  },
  {
   "cell_type": "code",
   "execution_count": null,
   "id": "c84131e0",
   "metadata": {},
   "outputs": [],
   "source": []
  }
 ],
 "metadata": {
  "kernelspec": {
   "display_name": "Python 3",
   "language": "python",
   "name": "python3"
  },
  "language_info": {
   "codemirror_mode": {
    "name": "ipython",
    "version": 3
   },
   "file_extension": ".py",
   "mimetype": "text/x-python",
   "name": "python",
   "nbconvert_exporter": "python",
   "pygments_lexer": "ipython3",
   "version": "3.9.5"
  }
 },
 "nbformat": 4,
 "nbformat_minor": 5
}
