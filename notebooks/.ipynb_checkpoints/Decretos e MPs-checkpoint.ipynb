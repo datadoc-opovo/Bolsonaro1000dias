{
 "cells": [
  {
   "cell_type": "markdown",
   "metadata": {
    "id": "QQqmJWoJO2Js"
   },
   "source": [
    "# Importando e conhecendo o dataset"
   ]
  },
  {
   "cell_type": "code",
   "execution_count": 1,
   "metadata": {
    "executionInfo": {
     "elapsed": 436,
     "status": "ok",
     "timestamp": 1631657139887,
     "user": {
      "displayName": "Alexandre Ramos",
      "photoUrl": "https://lh3.googleusercontent.com/a-/AOh14Gj66Xi4yenMv6W-GYI1ZUdWPSsUqoK307WqcWChHg=s64",
      "userId": "09838267163595269298"
     },
     "user_tz": 180
    },
    "id": "hAFQqscOO4WJ"
   },
   "outputs": [],
   "source": [
    "import pandas as pd\n",
    "import numpy as np"
   ]
  },
  {
   "cell_type": "code",
   "execution_count": 2,
   "metadata": {
    "colab": {
     "base_uri": "https://localhost:8080/",
     "height": 0
    },
    "executionInfo": {
     "elapsed": 32,
     "status": "ok",
     "timestamp": 1631657140494,
     "user": {
      "displayName": "Alexandre Ramos",
      "photoUrl": "https://lh3.googleusercontent.com/a-/AOh14Gj66Xi4yenMv6W-GYI1ZUdWPSsUqoK307WqcWChHg=s64",
      "userId": "09838267163595269298"
     },
     "user_tz": 180
    },
    "id": "BS04Ka-dO7So",
    "outputId": "0b0615a3-91bc-4395-c19f-a09f08b838f4"
   },
   "outputs": [
    {
     "data": {
      "text/html": [
       "<div>\n",
       "<style scoped>\n",
       "    .dataframe tbody tr th:only-of-type {\n",
       "        vertical-align: middle;\n",
       "    }\n",
       "\n",
       "    .dataframe tbody tr th {\n",
       "        vertical-align: top;\n",
       "    }\n",
       "\n",
       "    .dataframe thead th {\n",
       "        text-align: right;\n",
       "    }\n",
       "</style>\n",
       "<table border=\"1\" class=\"dataframe\">\n",
       "  <thead>\n",
       "    <tr style=\"text-align: right;\">\n",
       "      <th></th>\n",
       "      <th>web-scraper-order</th>\n",
       "      <th>web-scraper-start-url</th>\n",
       "      <th>ANO</th>\n",
       "      <th>Nº do Decreto</th>\n",
       "      <th>Ementa</th>\n",
       "    </tr>\n",
       "  </thead>\n",
       "  <tbody>\n",
       "    <tr>\n",
       "      <th>0</th>\n",
       "      <td>1630604613-7352</td>\n",
       "      <td>http://www4.planalto.gov.br/legislacao/portal-...</td>\n",
       "      <td>1969 a 1960 - Decretos</td>\n",
       "      <td>56.510, de 28.6.1965\\n     \\n    \\n    \\n     ...</td>\n",
       "      <td>Aprova o Regulamento Geral do Departamento Fed...</td>\n",
       "    </tr>\n",
       "    <tr>\n",
       "      <th>1</th>\n",
       "      <td>1630604613-7029</td>\n",
       "      <td>http://www4.planalto.gov.br/legislacao/portal-...</td>\n",
       "      <td>1969 a 1960 - Decretos</td>\n",
       "      <td>60.163, de 31.1.1967\\n     \\n    \\n    \\n     ...</td>\n",
       "      <td>Declara de utilidade pública a \"Sociedade Bene...</td>\n",
       "    </tr>\n",
       "    <tr>\n",
       "      <th>2</th>\n",
       "      <td>1630604613-7079</td>\n",
       "      <td>http://www4.planalto.gov.br/legislacao/portal-...</td>\n",
       "      <td>1969 a 1960 - Decretos</td>\n",
       "      <td>59.581, de 24.11.1966\\n     \\n    \\n    \\n    ...</td>\n",
       "      <td>Declara de utilidade pública o \"Centro Social ...</td>\n",
       "    </tr>\n",
       "    <tr>\n",
       "      <th>3</th>\n",
       "      <td>1630604613-6647</td>\n",
       "      <td>http://www4.planalto.gov.br/legislacao/portal-...</td>\n",
       "      <td>1969 a 1960 - Decretos</td>\n",
       "      <td>62.550, de 16.4.1968\\n     \\n    \\n    \\n     ...</td>\n",
       "      <td>Dispõe sôbre \\n\\t\\tprovimento de cargos, em co...</td>\n",
       "    </tr>\n",
       "    <tr>\n",
       "      <th>4</th>\n",
       "      <td>1630604613-6386</td>\n",
       "      <td>http://www4.planalto.gov.br/legislacao/portal-...</td>\n",
       "      <td>1969 a 1960 - Decretos</td>\n",
       "      <td>64.017, de 22.1.1969\\n     \\n    \\n    \\n     ...</td>\n",
       "      <td>Dá nova redação ao \\n\\tartigo 2º do Decreto nº...</td>\n",
       "    </tr>\n",
       "    <tr>\n",
       "      <th>...</th>\n",
       "      <td>...</td>\n",
       "      <td>...</td>\n",
       "      <td>...</td>\n",
       "      <td>...</td>\n",
       "      <td>...</td>\n",
       "    </tr>\n",
       "    <tr>\n",
       "      <th>29960</th>\n",
       "      <td>1630604728-27011</td>\n",
       "      <td>http://www4.planalto.gov.br/legislacao/portal-...</td>\n",
       "      <td>NaN</td>\n",
       "      <td>6.909,  \\tde 22.7.2009\\n\\n            Publicad...</td>\n",
       "      <td>Altera o Decreto nº 5.798, de 7 de junho  de 2...</td>\n",
       "    </tr>\n",
       "    <tr>\n",
       "      <th>29961</th>\n",
       "      <td>1630604728-27135</td>\n",
       "      <td>http://www4.planalto.gov.br/legislacao/portal-...</td>\n",
       "      <td>NaN</td>\n",
       "      <td>6.785,  \\tde 19.2.2009\\n\\n            Publicad...</td>\n",
       "      <td>Dispõe sobre o  remanejamento de Funções Comis...</td>\n",
       "    </tr>\n",
       "    <tr>\n",
       "      <th>29962</th>\n",
       "      <td>1630604728-27120</td>\n",
       "      <td>http://www4.planalto.gov.br/legislacao/portal-...</td>\n",
       "      <td>NaN</td>\n",
       "      <td>6.800,  \\tde 18.3.2009\\n\\n            Publicad...</td>\n",
       "      <td>Dá nova redação ao art. 2º do  Decreto nº 1.94...</td>\n",
       "    </tr>\n",
       "    <tr>\n",
       "      <th>29963</th>\n",
       "      <td>1630604728-26935</td>\n",
       "      <td>http://www4.planalto.gov.br/legislacao/portal-...</td>\n",
       "      <td>NaN</td>\n",
       "      <td>6.985,  \\tde 20.10.2009\\n\\n            Publica...</td>\n",
       "      <td>Dá nova redação ao art. 4º do  Decreto nº 3.52...</td>\n",
       "    </tr>\n",
       "    <tr>\n",
       "      <th>29964</th>\n",
       "      <td>1630604728-27137</td>\n",
       "      <td>http://www4.planalto.gov.br/legislacao/portal-...</td>\n",
       "      <td>NaN</td>\n",
       "      <td>6.783,  \\tde 19.2.2009\\n\\n            Publicad...</td>\n",
       "      <td>Promulga o Acordo entre o Governo da República...</td>\n",
       "    </tr>\n",
       "  </tbody>\n",
       "</table>\n",
       "<p>29965 rows × 5 columns</p>\n",
       "</div>"
      ],
      "text/plain": [
       "      web-scraper-order                              web-scraper-start-url  \\\n",
       "0       1630604613-7352  http://www4.planalto.gov.br/legislacao/portal-...   \n",
       "1       1630604613-7029  http://www4.planalto.gov.br/legislacao/portal-...   \n",
       "2       1630604613-7079  http://www4.planalto.gov.br/legislacao/portal-...   \n",
       "3       1630604613-6647  http://www4.planalto.gov.br/legislacao/portal-...   \n",
       "4       1630604613-6386  http://www4.planalto.gov.br/legislacao/portal-...   \n",
       "...                 ...                                                ...   \n",
       "29960  1630604728-27011  http://www4.planalto.gov.br/legislacao/portal-...   \n",
       "29961  1630604728-27135  http://www4.planalto.gov.br/legislacao/portal-...   \n",
       "29962  1630604728-27120  http://www4.planalto.gov.br/legislacao/portal-...   \n",
       "29963  1630604728-26935  http://www4.planalto.gov.br/legislacao/portal-...   \n",
       "29964  1630604728-27137  http://www4.planalto.gov.br/legislacao/portal-...   \n",
       "\n",
       "                          ANO  \\\n",
       "0      1969 a 1960 - Decretos   \n",
       "1      1969 a 1960 - Decretos   \n",
       "2      1969 a 1960 - Decretos   \n",
       "3      1969 a 1960 - Decretos   \n",
       "4      1969 a 1960 - Decretos   \n",
       "...                       ...   \n",
       "29960                     NaN   \n",
       "29961                     NaN   \n",
       "29962                     NaN   \n",
       "29963                     NaN   \n",
       "29964                     NaN   \n",
       "\n",
       "                                           Nº do Decreto  \\\n",
       "0      56.510, de 28.6.1965\\n     \\n    \\n    \\n     ...   \n",
       "1      60.163, de 31.1.1967\\n     \\n    \\n    \\n     ...   \n",
       "2      59.581, de 24.11.1966\\n     \\n    \\n    \\n    ...   \n",
       "3      62.550, de 16.4.1968\\n     \\n    \\n    \\n     ...   \n",
       "4      64.017, de 22.1.1969\\n     \\n    \\n    \\n     ...   \n",
       "...                                                  ...   \n",
       "29960  6.909,  \\tde 22.7.2009\\n\\n            Publicad...   \n",
       "29961  6.785,  \\tde 19.2.2009\\n\\n            Publicad...   \n",
       "29962  6.800,  \\tde 18.3.2009\\n\\n            Publicad...   \n",
       "29963  6.985,  \\tde 20.10.2009\\n\\n            Publica...   \n",
       "29964  6.783,  \\tde 19.2.2009\\n\\n            Publicad...   \n",
       "\n",
       "                                                  Ementa  \n",
       "0      Aprova o Regulamento Geral do Departamento Fed...  \n",
       "1      Declara de utilidade pública a \"Sociedade Bene...  \n",
       "2      Declara de utilidade pública o \"Centro Social ...  \n",
       "3      Dispõe sôbre \\n\\t\\tprovimento de cargos, em co...  \n",
       "4      Dá nova redação ao \\n\\tartigo 2º do Decreto nº...  \n",
       "...                                                  ...  \n",
       "29960  Altera o Decreto nº 5.798, de 7 de junho  de 2...  \n",
       "29961  Dispõe sobre o  remanejamento de Funções Comis...  \n",
       "29962  Dá nova redação ao art. 2º do  Decreto nº 1.94...  \n",
       "29963  Dá nova redação ao art. 4º do  Decreto nº 3.52...  \n",
       "29964  Promulga o Acordo entre o Governo da República...  \n",
       "\n",
       "[29965 rows x 5 columns]"
      ]
     },
     "execution_count": 2,
     "metadata": {},
     "output_type": "execute_result"
    }
   ],
   "source": [
    "dir_path = 'bases/'\n",
    "data_path = dir_path + 'decretos_presidenciais.csv'\n",
    "dataset = pd.read_csv(data_path)\n",
    "dataset"
   ]
  },
  {
   "cell_type": "code",
   "execution_count": 3,
   "metadata": {
    "colab": {
     "base_uri": "https://localhost:8080/"
    },
    "executionInfo": {
     "elapsed": 19,
     "status": "ok",
     "timestamp": 1631657140496,
     "user": {
      "displayName": "Alexandre Ramos",
      "photoUrl": "https://lh3.googleusercontent.com/a-/AOh14Gj66Xi4yenMv6W-GYI1ZUdWPSsUqoK307WqcWChHg=s64",
      "userId": "09838267163595269298"
     },
     "user_tz": 180
    },
    "id": "iqAUGlyjVxuY",
    "outputId": "526f5487-ba54-4df2-b0cd-ec7835b9f0fb"
   },
   "outputs": [
    {
     "name": "stdout",
     "output_type": "stream",
     "text": [
      "<class 'pandas.core.frame.DataFrame'>\n",
      "RangeIndex: 29965 entries, 0 to 29964\n",
      "Data columns (total 5 columns):\n",
      " #   Column                 Non-Null Count  Dtype \n",
      "---  ------                 --------------  ----- \n",
      " 0   web-scraper-order      29965 non-null  object\n",
      " 1   web-scraper-start-url  29965 non-null  object\n",
      " 2   ANO                    29628 non-null  object\n",
      " 3   Nº do Decreto          29560 non-null  object\n",
      " 4   Ementa                 29961 non-null  object\n",
      "dtypes: object(5)\n",
      "memory usage: 1.1+ MB\n"
     ]
    }
   ],
   "source": [
    "dataset.info()"
   ]
  },
  {
   "cell_type": "markdown",
   "metadata": {
    "id": "CzIpzwLHO9sp"
   },
   "source": [
    "# Tratamento de dados!"
   ]
  },
  {
   "cell_type": "code",
   "execution_count": 4,
   "metadata": {
    "executionInfo": {
     "elapsed": 890,
     "status": "ok",
     "timestamp": 1631657142910,
     "user": {
      "displayName": "Alexandre Ramos",
      "photoUrl": "https://lh3.googleusercontent.com/a-/AOh14Gj66Xi4yenMv6W-GYI1ZUdWPSsUqoK307WqcWChHg=s64",
      "userId": "09838267163595269298"
     },
     "user_tz": 180
    },
    "id": "Tse9VmBMR7WB"
   },
   "outputs": [],
   "source": [
    "dataset['ANO'] = dataset['ANO'].str.replace(' - Decretos', '')\n",
    "dataset['ANO'] = dataset['ANO'].str.replace(' - DECRETOS', '')\n",
    "\n",
    "dataset.loc[dataset['Ementa'].isna(),'Ementa'] = 'Em branco'\n",
    "\n",
    "\n",
    "# Todos os decretos de 1999 e 1 anterior à 1960 vieram sem número e data:\n",
    "dataset.loc[dataset['ANO'] == '1999', 'Nº do Decreto'] = '000, de 1.1.1999'\n",
    "dataset.loc[dataset['ANO'] == 'Anteriores a 1960', 'Nº do Decreto'] = '000, de 1.1.1960'\n",
    "\n",
    "dataset[\"Nº do Decreto\"] = dataset[\"Nº do Decreto\"].str.replace('\\t','', regex=False)\n",
    "dataset[\"Nº do Decreto\"] = dataset[\"Nº do Decreto\"].str.replace('\\n','', regex=False)\n",
    "dataset[\"Nº do Decreto\"] = dataset[\"Nº do Decreto\"].str.replace('º','', regex=False)\n",
    "dataset[\"Nº do Decreto\"] = dataset[\"Nº do Decreto\"].str.replace('/','.', regex=False)\n",
    "dataset[\"Nº do Decreto\"] = dataset[\"Nº do Decreto\"].str.replace('..','.', regex=False)\n",
    "dataset[\"Nº do Decreto\"] = dataset[\"Nº do Decreto\"].str.replace(\" \",\"\")\n",
    "\n",
    "# Casos com erro de digitação 'graves' na data: \n",
    "dataset.loc[dataset[\"Nº do Decreto\"].str.contains('de') == False, 'Nº do Decreto'] = '4.038, de 1.1.2001' #Caso especial\n",
    "dataset.loc[dataset[\"Nº do Decreto\"].index == 15554, 'Nº do Decreto'] = '1.459, de 25.4.95' #Caso especial\n",
    "dataset.loc[dataset[\"Nº do Decreto\"].index == 15598, 'Nº do Decreto'] = '1.460, de 25.4.95' #Caso especial\n",
    "dataset.loc[dataset[\"Nº do Decreto\"].index == 9007, 'Nº do Decreto'] = '93.912, de 13.1.87' #Caso especial\n",
    "dataset.loc[dataset[\"Nº do Decreto\"].index == 4386, 'Nº do Decreto'] = '66.050, de 12.1.1970' #Caso especial\n",
    "dataset.loc[dataset[\"Nº do Decreto\"].index == 9540, 'Nº do Decreto'] = '94.464, de 17.06.87' #Caso especial\n",
    "dataset.loc[dataset[\"Nº do Decreto\"].index == 3645, 'Nº do Decreto'] = '66.450, de 15.04.1970' #Caso especial\n",
    "dataset.loc[dataset[\"Nº do Decreto\"].index == 8782, 'Nº do Decreto'] = '94.339, de 19.05.87' #Caso especial\n",
    "dataset.loc[dataset[\"Nº do Decreto\"].index == 1034, 'Nº do Decreto'] = '65.600, de 22.10.1969' #Caso especial\n",
    "dataset.loc[dataset[\"Nº do Decreto\"].index == 2435, 'Nº do Decreto'] = '84.344, de 21.12.1979' #Caso especial\n",
    "dataset.loc[dataset[\"Nº do Decreto\"].index == 11169, 'Nº do Decreto'] = '96.289, de 8.7.88' #Caso especial\n",
    "dataset.loc[dataset[\"Nº do Decreto\"].index == 780, 'Nº do Decreto'] = '63.300, de 27.9.1968' #Caso especial\n",
    "dataset.loc[dataset[\"Nº do Decreto\"].index == 18180, 'Nº do Decreto'] = '3.856, de 3.7.2001' #Caso especial\n",
    "dataset.loc[dataset[\"Nº do Decreto\"].index == 9334, 'Nº do Decreto'] = '94.808, de 30.9.1987' #Caso especial\n",
    "\n",
    "\n",
    "div = dataset[\"Nº do Decreto\"].str.split(\"de\", n = 1, expand = True)\n",
    "num = div[0]\n",
    "datas = div[1]\n",
    "\n",
    "datas = datas.str.split('.', n = 3, expand = True)\n",
    "datas.columns = ['Dia', 'Mês', 'Ano','data']\n",
    "\n",
    "datas['Dia'] = datas['Dia'].str.replace(',','')\n",
    "datas['Mês'] = datas['Mês'].str.replace('111','11')\n",
    "\n",
    "datas['Ano'] = datas['Ano'].str.split('Pub', expand = True)[0]\n",
    "datas.loc[datas['Ano'].str.len()==2,'Ano'] = '19' + datas['Ano']\n",
    "datas['Ano'] = datas['Ano'].str.replace('(PAC)','', regex=False)\n",
    "datas['Ano'] = datas['Ano'].str.replace('-','', regex=False)\n",
    "datas['Ano'] = datas['Ano'].str.rstrip()\n",
    "\n",
    "datas = datas.astype({'Ano': int,'Mês': int,'Dia': int})\n",
    "\n",
    "datas['data'] = datas['Mês'].map(str) + '/' + datas['Dia'].map(str) + '/' +  datas['Ano'].map(str)\n",
    "datas['data'] = pd.to_datetime(datas['data'], format='%m/%d/%Y', errors='coerce')\n",
    "\n",
    "\n",
    "dataset = dataset.join(datas.filter(['Dia', 'Mês','Ano','data']))\n",
    "\n",
    "\n",
    "dataset['Nº do Decreto'] = num.str.split(\",\", n = 1, expand = True)[0].str.replace('Decreton','')"
   ]
  },
  {
   "cell_type": "markdown",
   "metadata": {
    "id": "YE9CPrXQyHVT"
   },
   "source": [
    "Para verificar se a extração da data foi correta, vamos comparar com a coluna 'ANO' "
   ]
  },
  {
   "cell_type": "code",
   "execution_count": 5,
   "metadata": {
    "colab": {
     "base_uri": "https://localhost:8080/",
     "height": 0
    },
    "executionInfo": {
     "elapsed": 13,
     "status": "ok",
     "timestamp": 1631657142917,
     "user": {
      "displayName": "Alexandre Ramos",
      "photoUrl": "https://lh3.googleusercontent.com/a-/AOh14Gj66Xi4yenMv6W-GYI1ZUdWPSsUqoK307WqcWChHg=s64",
      "userId": "09838267163595269298"
     },
     "user_tz": 180
    },
    "id": "tteqzW2zvxfT",
    "outputId": "ee5cd293-9976-4889-ed3d-8a987b4bfee2"
   },
   "outputs": [
    {
     "data": {
      "text/html": [
       "<div>\n",
       "<style scoped>\n",
       "    .dataframe tbody tr th:only-of-type {\n",
       "        vertical-align: middle;\n",
       "    }\n",
       "\n",
       "    .dataframe tbody tr th {\n",
       "        vertical-align: top;\n",
       "    }\n",
       "\n",
       "    .dataframe thead th {\n",
       "        text-align: right;\n",
       "    }\n",
       "</style>\n",
       "<table border=\"1\" class=\"dataframe\">\n",
       "  <thead>\n",
       "    <tr style=\"text-align: right;\">\n",
       "      <th></th>\n",
       "      <th>web-scraper-order</th>\n",
       "      <th>web-scraper-start-url</th>\n",
       "      <th>ANO</th>\n",
       "      <th>Nº do Decreto</th>\n",
       "      <th>Ementa</th>\n",
       "      <th>Dia</th>\n",
       "      <th>Mês</th>\n",
       "      <th>Ano</th>\n",
       "      <th>data</th>\n",
       "    </tr>\n",
       "  </thead>\n",
       "  <tbody>\n",
       "    <tr>\n",
       "      <th>5234</th>\n",
       "      <td>1630604632-11455</td>\n",
       "      <td>http://www4.planalto.gov.br/legislacao/portal-...</td>\n",
       "      <td>1983</td>\n",
       "      <td>88.243</td>\n",
       "      <td>Altera o Decreto nº 65.412, de 13 de outubro d...</td>\n",
       "      <td>20</td>\n",
       "      <td>4</td>\n",
       "      <td>1982</td>\n",
       "      <td>1982-04-20</td>\n",
       "    </tr>\n",
       "    <tr>\n",
       "      <th>5481</th>\n",
       "      <td>1630604632-11456</td>\n",
       "      <td>http://www4.planalto.gov.br/legislacao/portal-...</td>\n",
       "      <td>1983</td>\n",
       "      <td>88.242</td>\n",
       "      <td>Dispõe sobre a Embaixada na República de Cabo ...</td>\n",
       "      <td>20</td>\n",
       "      <td>4</td>\n",
       "      <td>1982</td>\n",
       "      <td>1982-04-20</td>\n",
       "    </tr>\n",
       "    <tr>\n",
       "      <th>5483</th>\n",
       "      <td>1630604632-11454</td>\n",
       "      <td>http://www4.planalto.gov.br/legislacao/portal-...</td>\n",
       "      <td>1983</td>\n",
       "      <td>88.245</td>\n",
       "      <td>Aprova o Regulamento da Comissão \\n\\tNacional ...</td>\n",
       "      <td>20</td>\n",
       "      <td>4</td>\n",
       "      <td>1982</td>\n",
       "      <td>1982-04-20</td>\n",
       "    </tr>\n",
       "    <tr>\n",
       "      <th>13846</th>\n",
       "      <td>1630604665-19212</td>\n",
       "      <td>http://www4.planalto.gov.br/legislacao/portal-...</td>\n",
       "      <td>1990</td>\n",
       "      <td>99.677</td>\n",
       "      <td>Revoga o Decreto n° 72.898,\\n    de 9 de outub...</td>\n",
       "      <td>8</td>\n",
       "      <td>11</td>\n",
       "      <td>1988</td>\n",
       "      <td>1988-11-08</td>\n",
       "    </tr>\n",
       "    <tr>\n",
       "      <th>29628</th>\n",
       "      <td>1630604728-27136</td>\n",
       "      <td>http://www4.planalto.gov.br/legislacao/portal-...</td>\n",
       "      <td>NaN</td>\n",
       "      <td>6.784</td>\n",
       "      <td>Altera a subordinação da 4a Brigada  de Infant...</td>\n",
       "      <td>19</td>\n",
       "      <td>2</td>\n",
       "      <td>2009</td>\n",
       "      <td>2009-02-19</td>\n",
       "    </tr>\n",
       "    <tr>\n",
       "      <th>...</th>\n",
       "      <td>...</td>\n",
       "      <td>...</td>\n",
       "      <td>...</td>\n",
       "      <td>...</td>\n",
       "      <td>...</td>\n",
       "      <td>...</td>\n",
       "      <td>...</td>\n",
       "      <td>...</td>\n",
       "      <td>...</td>\n",
       "    </tr>\n",
       "    <tr>\n",
       "      <th>29960</th>\n",
       "      <td>1630604728-27011</td>\n",
       "      <td>http://www4.planalto.gov.br/legislacao/portal-...</td>\n",
       "      <td>NaN</td>\n",
       "      <td>6.909</td>\n",
       "      <td>Altera o Decreto nº 5.798, de 7 de junho  de 2...</td>\n",
       "      <td>22</td>\n",
       "      <td>7</td>\n",
       "      <td>2009</td>\n",
       "      <td>2009-07-22</td>\n",
       "    </tr>\n",
       "    <tr>\n",
       "      <th>29961</th>\n",
       "      <td>1630604728-27135</td>\n",
       "      <td>http://www4.planalto.gov.br/legislacao/portal-...</td>\n",
       "      <td>NaN</td>\n",
       "      <td>6.785</td>\n",
       "      <td>Dispõe sobre o  remanejamento de Funções Comis...</td>\n",
       "      <td>19</td>\n",
       "      <td>2</td>\n",
       "      <td>2009</td>\n",
       "      <td>2009-02-19</td>\n",
       "    </tr>\n",
       "    <tr>\n",
       "      <th>29962</th>\n",
       "      <td>1630604728-27120</td>\n",
       "      <td>http://www4.planalto.gov.br/legislacao/portal-...</td>\n",
       "      <td>NaN</td>\n",
       "      <td>6.800</td>\n",
       "      <td>Dá nova redação ao art. 2º do  Decreto nº 1.94...</td>\n",
       "      <td>18</td>\n",
       "      <td>3</td>\n",
       "      <td>2009</td>\n",
       "      <td>2009-03-18</td>\n",
       "    </tr>\n",
       "    <tr>\n",
       "      <th>29963</th>\n",
       "      <td>1630604728-26935</td>\n",
       "      <td>http://www4.planalto.gov.br/legislacao/portal-...</td>\n",
       "      <td>NaN</td>\n",
       "      <td>6.985</td>\n",
       "      <td>Dá nova redação ao art. 4º do  Decreto nº 3.52...</td>\n",
       "      <td>20</td>\n",
       "      <td>10</td>\n",
       "      <td>2009</td>\n",
       "      <td>2009-10-20</td>\n",
       "    </tr>\n",
       "    <tr>\n",
       "      <th>29964</th>\n",
       "      <td>1630604728-27137</td>\n",
       "      <td>http://www4.planalto.gov.br/legislacao/portal-...</td>\n",
       "      <td>NaN</td>\n",
       "      <td>6.783</td>\n",
       "      <td>Promulga o Acordo entre o Governo da República...</td>\n",
       "      <td>19</td>\n",
       "      <td>2</td>\n",
       "      <td>2009</td>\n",
       "      <td>2009-02-19</td>\n",
       "    </tr>\n",
       "  </tbody>\n",
       "</table>\n",
       "<p>341 rows × 9 columns</p>\n",
       "</div>"
      ],
      "text/plain": [
       "      web-scraper-order                              web-scraper-start-url  \\\n",
       "5234   1630604632-11455  http://www4.planalto.gov.br/legislacao/portal-...   \n",
       "5481   1630604632-11456  http://www4.planalto.gov.br/legislacao/portal-...   \n",
       "5483   1630604632-11454  http://www4.planalto.gov.br/legislacao/portal-...   \n",
       "13846  1630604665-19212  http://www4.planalto.gov.br/legislacao/portal-...   \n",
       "29628  1630604728-27136  http://www4.planalto.gov.br/legislacao/portal-...   \n",
       "...                 ...                                                ...   \n",
       "29960  1630604728-27011  http://www4.planalto.gov.br/legislacao/portal-...   \n",
       "29961  1630604728-27135  http://www4.planalto.gov.br/legislacao/portal-...   \n",
       "29962  1630604728-27120  http://www4.planalto.gov.br/legislacao/portal-...   \n",
       "29963  1630604728-26935  http://www4.planalto.gov.br/legislacao/portal-...   \n",
       "29964  1630604728-27137  http://www4.planalto.gov.br/legislacao/portal-...   \n",
       "\n",
       "        ANO Nº do Decreto                                             Ementa  \\\n",
       "5234   1983        88.243  Altera o Decreto nº 65.412, de 13 de outubro d...   \n",
       "5481   1983        88.242  Dispõe sobre a Embaixada na República de Cabo ...   \n",
       "5483   1983        88.245  Aprova o Regulamento da Comissão \\n\\tNacional ...   \n",
       "13846  1990        99.677  Revoga o Decreto n° 72.898,\\n    de 9 de outub...   \n",
       "29628   NaN         6.784  Altera a subordinação da 4a Brigada  de Infant...   \n",
       "...     ...           ...                                                ...   \n",
       "29960   NaN         6.909  Altera o Decreto nº 5.798, de 7 de junho  de 2...   \n",
       "29961   NaN         6.785  Dispõe sobre o  remanejamento de Funções Comis...   \n",
       "29962   NaN         6.800  Dá nova redação ao art. 2º do  Decreto nº 1.94...   \n",
       "29963   NaN         6.985  Dá nova redação ao art. 4º do  Decreto nº 3.52...   \n",
       "29964   NaN         6.783  Promulga o Acordo entre o Governo da República...   \n",
       "\n",
       "       Dia  Mês   Ano       data  \n",
       "5234    20    4  1982 1982-04-20  \n",
       "5481    20    4  1982 1982-04-20  \n",
       "5483    20    4  1982 1982-04-20  \n",
       "13846    8   11  1988 1988-11-08  \n",
       "29628   19    2  2009 2009-02-19  \n",
       "...    ...  ...   ...        ...  \n",
       "29960   22    7  2009 2009-07-22  \n",
       "29961   19    2  2009 2009-02-19  \n",
       "29962   18    3  2009 2009-03-18  \n",
       "29963   20   10  2009 2009-10-20  \n",
       "29964   19    2  2009 2009-02-19  \n",
       "\n",
       "[341 rows x 9 columns]"
      ]
     },
     "execution_count": 5,
     "metadata": {},
     "output_type": "execute_result"
    }
   ],
   "source": [
    "# Desconsiderando as colunas que não discriminam os decretos por ano:\n",
    "# Apenas 4 linhas tiveram problema: Nelas, foi verificado que a coluna calculada 'Ano' é a que estava com valores corretos\n",
    "base_selecionada = dataset.loc[(dataset.ANO != 'Anteriores a 1960') & (dataset.ANO != '1979 a 1970') & (dataset.ANO != '1969 a 1960')]\n",
    "base_selecionada.loc[pd.to_numeric(base_selecionada['ANO']) !=  pd.to_numeric(base_selecionada['Ano'])]"
   ]
  },
  {
   "cell_type": "markdown",
   "metadata": {
    "id": "DWy4gmtgPGUJ"
   },
   "source": [
    "Vamos agora atribuir o governo relacionado a cada decreto"
   ]
  },
  {
   "cell_type": "code",
   "execution_count": null,
   "metadata": {
    "executionInfo": {
     "elapsed": 12,
     "status": "ok",
     "timestamp": 1631657142918,
     "user": {
      "displayName": "Alexandre Ramos",
      "photoUrl": "https://lh3.googleusercontent.com/a-/AOh14Gj66Xi4yenMv6W-GYI1ZUdWPSsUqoK307WqcWChHg=s64",
      "userId": "09838267163595269298"
     },
     "user_tz": 180
    },
    "id": "_yK0z98ZDE9G"
   },
   "outputs": [],
   "source": [
    "dataset.loc[(dataset['data'] < '1964-4-1'),['Governo','Início_gov']] = ['Antes da Ditadura',pd.to_datetime('1960-1-1')]\n",
    "dataset.loc[(dataset['data'] >= '1964-4-1') & (dataset['data'] <= '1985-3-14'),['Governo','Início_gov']] = ['Ditadura',pd.to_datetime('1964-4-1')]\n",
    "dataset.loc[(dataset['data'] >= '1985-3-15') & (dataset['data'] <= '1990-3-14'),['Governo','Início_gov']] = ['Sarney',pd.to_datetime('1985-3-15')]\n",
    "dataset.loc[(dataset['data'] >= '1990-3-15') & (dataset['data'] <= '1992-10-2'),['Governo','Início_gov']] = ['Collor',pd.to_datetime('1990-3-15')]\n",
    "dataset.loc[(dataset['data'] >= '1992-10-3') & (dataset['data'] <= '1994-12-31'),['Governo','Início_gov']] = ['Itamar',pd.to_datetime('1992-10-3')]\n",
    "dataset.loc[(dataset['data'] >= '1995-1-1') & (dataset['data'] <= '1998-12-31'),['Governo','Início_gov']] = ['FHC_1',pd.to_datetime('1995-1-1')]\n",
    "dataset.loc[(dataset['data'] >= '1999-1-1') & (dataset['data'] <= '2002-12-31'),['Governo','Início_gov']] =[ 'FHC_2',pd.to_datetime('1999-1-1')]\n",
    "dataset.loc[(dataset['data'] >= '2003-1-1') & (dataset['data'] <= '2006-12-31'),['Governo','Início_gov']] = ['Lula_1',pd.to_datetime('2003-1-1')]\n",
    "dataset.loc[(dataset['data'] >= '2007-1-1') & (dataset['data'] <= '2010-12-31'),['Governo','Início_gov']] = ['Lula_2',pd.to_datetime('2007-1-1')]\n",
    "dataset.loc[(dataset['data'] >= '2011-1-1') & (dataset['data'] <= '2014-12-31'),['Governo','Início_gov']] = ['Dilma_1',pd.to_datetime('2011-1-1')]\n",
    "dataset.loc[(dataset['data'] >= '2015-1-1') & (dataset['data'] <= '2016-8-31'),['Governo','Início_gov']] = ['Dilma_2',pd.to_datetime('2015-1-1')]\n",
    "dataset.loc[(dataset['data'] >= '2016-9-1') & (dataset['data'] <= '2018-12-31'),['Governo','Início_gov']] = ['Temer',pd.to_datetime('2016-9-1')]\n",
    "dataset.loc[(dataset['data'] >= '2019-1-1') & (dataset['data'] <= '2021-9-26'),['Governo','Início_gov']] = ['Bolsonaro',pd.to_datetime('2019-1-1')]"
   ]
  },
  {
   "cell_type": "code",
   "execution_count": null,
   "metadata": {
    "colab": {
     "base_uri": "https://localhost:8080/",
     "height": 0
    },
    "executionInfo": {
     "elapsed": 12,
     "status": "ok",
     "timestamp": 1631657142919,
     "user": {
      "displayName": "Alexandre Ramos",
      "photoUrl": "https://lh3.googleusercontent.com/a-/AOh14Gj66Xi4yenMv6W-GYI1ZUdWPSsUqoK307WqcWChHg=s64",
      "userId": "09838267163595269298"
     },
     "user_tz": 180
    },
    "id": "NmO184c1ILwi",
    "outputId": "5ceb1f11-0fe7-4b1f-9dae-3a21470502c1"
   },
   "outputs": [],
   "source": [
    "# Para verificar se alguma linha não foi classficada :\n",
    "dataset.loc[dataset.Governo.isna()]"
   ]
  },
  {
   "cell_type": "code",
   "execution_count": null,
   "metadata": {
    "colab": {
     "base_uri": "https://localhost:8080/"
    },
    "executionInfo": {
     "elapsed": 616,
     "status": "ok",
     "timestamp": 1631657143525,
     "user": {
      "displayName": "Alexandre Ramos",
      "photoUrl": "https://lh3.googleusercontent.com/a-/AOh14Gj66Xi4yenMv6W-GYI1ZUdWPSsUqoK307WqcWChHg=s64",
      "userId": "09838267163595269298"
     },
     "user_tz": 180
    },
    "id": "UyJamXRhOq2A",
    "outputId": "e8da8a1f-31e3-4077-9be4-480346265d9d"
   },
   "outputs": [],
   "source": [
    "dataset['Dia_de_Gov'] = dataset['data']-dataset['Início_gov']\n",
    "dataset['Dia_de_Gov'] = (dataset['Dia_de_Gov'] / np.timedelta64(1,'D')).astype(int)"
   ]
  },
  {
   "cell_type": "code",
   "execution_count": null,
   "metadata": {
    "colab": {
     "base_uri": "https://localhost:8080/",
     "height": 0
    },
    "executionInfo": {
     "elapsed": 12,
     "status": "ok",
     "timestamp": 1631657143527,
     "user": {
      "displayName": "Alexandre Ramos",
      "photoUrl": "https://lh3.googleusercontent.com/a-/AOh14Gj66Xi4yenMv6W-GYI1ZUdWPSsUqoK307WqcWChHg=s64",
      "userId": "09838267163595269298"
     },
     "user_tz": 180
    },
    "id": "hxUZChqzO2Y0",
    "outputId": "6637746b-1fcd-4460-a287-7977a278ae3d"
   },
   "outputs": [],
   "source": [
    "dataset.head()"
   ]
  },
  {
   "cell_type": "code",
   "execution_count": null,
   "metadata": {
    "executionInfo": {
     "elapsed": 11,
     "status": "ok",
     "timestamp": 1631657143528,
     "user": {
      "displayName": "Alexandre Ramos",
      "photoUrl": "https://lh3.googleusercontent.com/a-/AOh14Gj66Xi4yenMv6W-GYI1ZUdWPSsUqoK307WqcWChHg=s64",
      "userId": "09838267163595269298"
     },
     "user_tz": 180
    },
    "id": "TmQSvXT9Puw6"
   },
   "outputs": [],
   "source": [
    "# dataset.loc[dataset['Ementa'].str.contains('revoga')]"
   ]
  },
  {
   "cell_type": "code",
   "execution_count": null,
   "metadata": {
    "executionInfo": {
     "elapsed": 13,
     "status": "ok",
     "timestamp": 1631657143530,
     "user": {
      "displayName": "Alexandre Ramos",
      "photoUrl": "https://lh3.googleusercontent.com/a-/AOh14Gj66Xi4yenMv6W-GYI1ZUdWPSsUqoK307WqcWChHg=s64",
      "userId": "09838267163595269298"
     },
     "user_tz": 180
    },
    "id": "OCHxivX_47ZF"
   },
   "outputs": [],
   "source": []
  },
  {
   "cell_type": "markdown",
   "metadata": {
    "id": "Yg1sV_l9aYRb"
   },
   "source": [
    "# Decretos por ano\n",
    "\n",
    "Com 537 decretos, 2019 tem a maior número dos últimos 30 anos.  \n",
    "\n",
    "Considerando toda a base de decretos com a discriminação anual (ou seja, desde 1980 - excluindo decretos classificados por décadas: < 1960; 1960-69 e 1970-79), 2019 só perde para o período de 1986-1990 \n",
    "\n",
    "https://public.flourish.studio/visualisation/7223273/\n",
    "v2: https://public.flourish.studio/visualisation/7224963/\n"
   ]
  },
  {
   "cell_type": "code",
   "execution_count": null,
   "metadata": {
    "executionInfo": {
     "elapsed": 440,
     "status": "ok",
     "timestamp": 1631657221870,
     "user": {
      "displayName": "Alexandre Ramos",
      "photoUrl": "https://lh3.googleusercontent.com/a-/AOh14Gj66Xi4yenMv6W-GYI1ZUdWPSsUqoK307WqcWChHg=s64",
      "userId": "09838267163595269298"
     },
     "user_tz": 180
    },
    "id": "L5XJyFpIybAf"
   },
   "outputs": [],
   "source": [
    "dataset['Ano'].value_counts().sort_index().to_csv(dir_path+'decretos_por_ano_v2.csv')"
   ]
  },
  {
   "cell_type": "code",
   "execution_count": null,
   "metadata": {
    "colab": {
     "base_uri": "https://localhost:8080/"
    },
    "executionInfo": {
     "elapsed": 10,
     "status": "ok",
     "timestamp": 1631657222461,
     "user": {
      "displayName": "Alexandre Ramos",
      "photoUrl": "https://lh3.googleusercontent.com/a-/AOh14Gj66Xi4yenMv6W-GYI1ZUdWPSsUqoK307WqcWChHg=s64",
      "userId": "09838267163595269298"
     },
     "user_tz": 180
    },
    "id": "FBWje5FWVtSA",
    "outputId": "bb2c3ca0-1b11-4a03-d331-ee08ca1b1508"
   },
   "outputs": [],
   "source": [
    "base_selecionada = dataset.loc[(dataset.ANO != 'Anteriores a 1960') & (dataset.ANO != '1979 a 1970') & (dataset.ANO != '1969 a 1960')]\n",
    "# base_selecionada = base_selecionada.loc[pd.to_numeric(base_selecionada.ANO) >= 1991]\n",
    "decretos_por_ano = base_selecionada['Ano'].value_counts().sort_index()\n",
    "decretos_por_ano.to_csv(dir_path+'decretos_por_ano.csv')\n",
    "decretos_por_ano"
   ]
  },
  {
   "cell_type": "code",
   "execution_count": null,
   "metadata": {
    "executionInfo": {
     "elapsed": 8,
     "status": "ok",
     "timestamp": 1631657222462,
     "user": {
      "displayName": "Alexandre Ramos",
      "photoUrl": "https://lh3.googleusercontent.com/a-/AOh14Gj66Xi4yenMv6W-GYI1ZUdWPSsUqoK307WqcWChHg=s64",
      "userId": "09838267163595269298"
     },
     "user_tz": 180
    },
    "id": "d0FTT_oSU6U1"
   },
   "outputs": [],
   "source": []
  },
  {
   "cell_type": "markdown",
   "metadata": {
    "id": "s7AUHa5lf4Nn"
   },
   "source": [
    "# Dados por Governo"
   ]
  },
  {
   "cell_type": "code",
   "execution_count": null,
   "metadata": {
    "colab": {
     "base_uri": "https://localhost:8080/"
    },
    "executionInfo": {
     "elapsed": 282,
     "status": "ok",
     "timestamp": 1631622880765,
     "user": {
      "displayName": "Alexandre Ramos",
      "photoUrl": "https://lh3.googleusercontent.com/a-/AOh14Gj66Xi4yenMv6W-GYI1ZUdWPSsUqoK307WqcWChHg=s64",
      "userId": "09838267163595269298"
     },
     "user_tz": 180
    },
    "id": "gDOzj_abf5rI",
    "outputId": "7504f653-1594-49f3-9e94-91f237b5a431"
   },
   "outputs": [],
   "source": [
    "dataset['Governo'].value_counts()"
   ]
  },
  {
   "cell_type": "code",
   "execution_count": null,
   "metadata": {
    "id": "ng9mbLrqxYyl"
   },
   "outputs": [],
   "source": [
    "selecao = dataset.loc[dataset.Dia_de_Gov <= 1000]\n",
    "selecao['Governo'].value_counts().to_csv(dir_path+'decretos_por_gov_ate1000dias.csv')"
   ]
  },
  {
   "cell_type": "code",
   "execution_count": null,
   "metadata": {
    "colab": {
     "base_uri": "https://localhost:8080/",
     "height": 878
    },
    "executionInfo": {
     "elapsed": 428,
     "status": "ok",
     "timestamp": 1631634659451,
     "user": {
      "displayName": "Alexandre Ramos",
      "photoUrl": "https://lh3.googleusercontent.com/a-/AOh14Gj66Xi4yenMv6W-GYI1ZUdWPSsUqoK307WqcWChHg=s64",
      "userId": "09838267163595269298"
     },
     "user_tz": 180
    },
    "id": "HxVUbYFiucPB",
    "outputId": "e717fe67-4ad7-42cc-8cc8-949d60368b1f"
   },
   "outputs": [],
   "source": [
    "dataset.loc[dataset.Governo == 'Bolsonaro']"
   ]
  },
  {
   "cell_type": "code",
   "execution_count": null,
   "metadata": {
    "colab": {
     "base_uri": "https://localhost:8080/",
     "height": 810
    },
    "executionInfo": {
     "elapsed": 399,
     "status": "ok",
     "timestamp": 1631644425694,
     "user": {
      "displayName": "Alexandre Ramos",
      "photoUrl": "https://lh3.googleusercontent.com/a-/AOh14Gj66Xi4yenMv6W-GYI1ZUdWPSsUqoK307WqcWChHg=s64",
      "userId": "09838267163595269298"
     },
     "user_tz": 180
    },
    "id": "aH-Lj4CmARSs",
    "outputId": "9c3c6f43-2392-483a-a294-6fc191adce90"
   },
   "outputs": [],
   "source": [
    "dataset.loc[dataset.Governo == 'Bolsonaro'].sort_values(['data'], ascending=False)"
   ]
  },
  {
   "cell_type": "markdown",
   "metadata": {
    "id": "IOsi4p1W-d86"
   },
   "source": [
    "# Dados de revogação, extinção ou alteração de decretos"
   ]
  },
  {
   "cell_type": "code",
   "execution_count": null,
   "metadata": {
    "colab": {
     "base_uri": "https://localhost:8080/"
    },
    "executionInfo": {
     "elapsed": 280,
     "status": "ok",
     "timestamp": 1631622891470,
     "user": {
      "displayName": "Alexandre Ramos",
      "photoUrl": "https://lh3.googleusercontent.com/a-/AOh14Gj66Xi4yenMv6W-GYI1ZUdWPSsUqoK307WqcWChHg=s64",
      "userId": "09838267163595269298"
     },
     "user_tz": 180
    },
    "id": "lSe9gUjs-iDs",
    "outputId": "dabd04b9-c673-4580-c772-fed7b5ef1498"
   },
   "outputs": [],
   "source": [
    "lista_busca = ['Revoga','Altera']\n",
    "# 'Extingue','Extinção', também ? \n",
    "\n",
    "revogacoes = dataset.loc[dataset['Ementa'].str.contains('|'.join(lista_busca),case=False)]\n",
    "revogacoes = revogacoes.loc[revogacoes.Dia_de_Gov <= 1000]\n",
    "revogacoes['Governo'].value_counts()"
   ]
  },
  {
   "cell_type": "code",
   "execution_count": null,
   "metadata": {
    "colab": {
     "base_uri": "https://localhost:8080/"
    },
    "executionInfo": {
     "elapsed": 15,
     "status": "ok",
     "timestamp": 1631622891805,
     "user": {
      "displayName": "Alexandre Ramos",
      "photoUrl": "https://lh3.googleusercontent.com/a-/AOh14Gj66Xi4yenMv6W-GYI1ZUdWPSsUqoK307WqcWChHg=s64",
      "userId": "09838267163595269298"
     },
     "user_tz": 180
    },
    "id": "1LqiebaU-iXi",
    "outputId": "632142d1-6252-47a7-c6e9-e44c59b97f46"
   },
   "outputs": [],
   "source": [
    "for key,val in revogacoes.loc[revogacoes.Governo == 'Bolsonaro']['Ementa'].iteritems():\n",
    "  txt = val.replace('\\n','').replace('\\t','')\n",
    "  print(f'\\n{key}: {txt}')"
   ]
  },
  {
   "cell_type": "code",
   "execution_count": null,
   "metadata": {
    "id": "axQo8aac-yRO"
   },
   "outputs": [],
   "source": []
  },
  {
   "cell_type": "markdown",
   "metadata": {
    "id": "m2RxKPFm61AT"
   },
   "source": [
    "# MPs;\n"
   ]
  },
  {
   "cell_type": "code",
   "execution_count": null,
   "metadata": {
    "executionInfo": {
     "elapsed": 1073,
     "status": "ok",
     "timestamp": 1631657226992,
     "user": {
      "displayName": "Alexandre Ramos",
      "photoUrl": "https://lh3.googleusercontent.com/a-/AOh14Gj66Xi4yenMv6W-GYI1ZUdWPSsUqoK307WqcWChHg=s64",
      "userId": "09838267163595269298"
     },
     "user_tz": 180
    },
    "id": "40pbgyue62wg"
   },
   "outputs": [],
   "source": [
    "dataset_MP = pd.read_csv(dir_path + 'dataset-MP.csv')"
   ]
  },
  {
   "cell_type": "code",
   "execution_count": null,
   "metadata": {
    "colab": {
     "base_uri": "https://localhost:8080/",
     "height": 204
    },
    "executionInfo": {
     "elapsed": 20,
     "status": "ok",
     "timestamp": 1631657226995,
     "user": {
      "displayName": "Alexandre Ramos",
      "photoUrl": "https://lh3.googleusercontent.com/a-/AOh14Gj66Xi4yenMv6W-GYI1ZUdWPSsUqoK307WqcWChHg=s64",
      "userId": "09838267163595269298"
     },
     "user_tz": 180
    },
    "id": "jiM9x3p-66Oy",
    "outputId": "93a36636-9ac4-45a4-b56d-c4ff6a782925"
   },
   "outputs": [],
   "source": [
    "dataset_MP.head()"
   ]
  },
  {
   "cell_type": "code",
   "execution_count": null,
   "metadata": {
    "colab": {
     "base_uri": "https://localhost:8080/",
     "height": 204
    },
    "executionInfo": {
     "elapsed": 17,
     "status": "ok",
     "timestamp": 1631657228507,
     "user": {
      "displayName": "Alexandre Ramos",
      "photoUrl": "https://lh3.googleusercontent.com/a-/AOh14Gj66Xi4yenMv6W-GYI1ZUdWPSsUqoK307WqcWChHg=s64",
      "userId": "09838267163595269298"
     },
     "user_tz": 180
    },
    "id": "6F12B7L96_TO",
    "outputId": "f41e8a07-9eb6-4a44-e243-df7051fe67c8"
   },
   "outputs": [],
   "source": [
    "dataset_MP.loc[dataset_MP['Nº da Medida'].str.contains(', de') == False].head() "
   ]
  },
  {
   "cell_type": "code",
   "execution_count": null,
   "metadata": {
    "executionInfo": {
     "elapsed": 3,
     "status": "ok",
     "timestamp": 1631657228940,
     "user": {
      "displayName": "Alexandre Ramos",
      "photoUrl": "https://lh3.googleusercontent.com/a-/AOh14Gj66Xi4yenMv6W-GYI1ZUdWPSsUqoK307WqcWChHg=s64",
      "userId": "09838267163595269298"
     },
     "user_tz": 180
    },
    "id": "L_LOnLFHUa0W"
   },
   "outputs": [],
   "source": [
    "dataset_MP['Nº da Medida'].mask(dataset_MP['Nº da Medida'].str.contains(', de') == False, dataset_MP['Nº da Medida'].str.replace(' de ', ', de '), inplace=True)"
   ]
  },
  {
   "cell_type": "code",
   "execution_count": null,
   "metadata": {
    "colab": {
     "base_uri": "https://localhost:8080/",
     "height": 49
    },
    "executionInfo": {
     "elapsed": 494,
     "status": "ok",
     "timestamp": 1631657231095,
     "user": {
      "displayName": "Alexandre Ramos",
      "photoUrl": "https://lh3.googleusercontent.com/a-/AOh14Gj66Xi4yenMv6W-GYI1ZUdWPSsUqoK307WqcWChHg=s64",
      "userId": "09838267163595269298"
     },
     "user_tz": 180
    },
    "id": "Yq194QDqU3O3",
    "outputId": "0e305e6d-60c5-427e-991b-36026c864b42"
   },
   "outputs": [],
   "source": [
    "dataset_MP.loc[dataset_MP['Nº da Medida'].str.contains(', de') == False] "
   ]
  },
  {
   "cell_type": "code",
   "execution_count": null,
   "metadata": {
    "executionInfo": {
     "elapsed": 6,
     "status": "ok",
     "timestamp": 1631657233254,
     "user": {
      "displayName": "Alexandre Ramos",
      "photoUrl": "https://lh3.googleusercontent.com/a-/AOh14Gj66Xi4yenMv6W-GYI1ZUdWPSsUqoK307WqcWChHg=s64",
      "userId": "09838267163595269298"
     },
     "user_tz": 180
    },
    "id": "Yl5WIoz8TbnE"
   },
   "outputs": [],
   "source": [
    "div = dataset_MP[\"Nº da Medida\"].str.split(\", de \", n = 1, expand = True)\n",
    "num = div[0]\n",
    "datas = div[1]\n",
    "# Agora vamos extrair apenas os números das medidas e as datas\n",
    "dataset_MP['Nº'] = pd.to_numeric(num.str.replace('Medida Provisória n°', '').str.replace('Medida provisória nº', '').str.replace('Medida Provisória nº', '')).astype(int)\n",
    "dataset_MP['data'] = pd.to_datetime(datas.str.split(\"\\n\", n = 1, expand = True)[0].str.replace('º', '').str.replace('(PAC)', '', regex=False), format='%d.%m.%Y', errors='coerce')"
   ]
  },
  {
   "cell_type": "code",
   "execution_count": null,
   "metadata": {
    "colab": {
     "base_uri": "https://localhost:8080/"
    },
    "executionInfo": {
     "elapsed": 490,
     "status": "ok",
     "timestamp": 1631657235879,
     "user": {
      "displayName": "Alexandre Ramos",
      "photoUrl": "https://lh3.googleusercontent.com/a-/AOh14Gj66Xi4yenMv6W-GYI1ZUdWPSsUqoK307WqcWChHg=s64",
      "userId": "09838267163595269298"
     },
     "user_tz": 180
    },
    "id": "EOWRPIP5XnSI",
    "outputId": "1df8a5d0-0d31-42e5-cd7f-ac0500d78a98"
   },
   "outputs": [],
   "source": [
    "dataset_MP['data']"
   ]
  },
  {
   "cell_type": "code",
   "execution_count": null,
   "metadata": {
    "colab": {
     "base_uri": "https://localhost:8080/",
     "height": 297
    },
    "executionInfo": {
     "elapsed": 6,
     "status": "ok",
     "timestamp": 1631657236458,
     "user": {
      "displayName": "Alexandre Ramos",
      "photoUrl": "https://lh3.googleusercontent.com/a-/AOh14Gj66Xi4yenMv6W-GYI1ZUdWPSsUqoK307WqcWChHg=s64",
      "userId": "09838267163595269298"
     },
     "user_tz": 180
    },
    "id": "xNfPJo5wZNJ4",
    "outputId": "9600f76a-54d5-4950-ea19-aedc2158974d"
   },
   "outputs": [],
   "source": [
    "dataset_MP.loc[dataset_MP.data.isna()]"
   ]
  },
  {
   "cell_type": "code",
   "execution_count": null,
   "metadata": {
    "executionInfo": {
     "elapsed": 406,
     "status": "ok",
     "timestamp": 1631657239171,
     "user": {
      "displayName": "Alexandre Ramos",
      "photoUrl": "https://lh3.googleusercontent.com/a-/AOh14Gj66Xi4yenMv6W-GYI1ZUdWPSsUqoK307WqcWChHg=s64",
      "userId": "09838267163595269298"
     },
     "user_tz": 180
    },
    "id": "i8wVqSD3anx5"
   },
   "outputs": [],
   "source": [
    "dataset_MP.loc[dataset_MP.data.isna(),'data'] = pd.to_datetime('2007-1-22')"
   ]
  },
  {
   "cell_type": "code",
   "execution_count": null,
   "metadata": {
    "executionInfo": {
     "elapsed": 442,
     "status": "ok",
     "timestamp": 1631657244621,
     "user": {
      "displayName": "Alexandre Ramos",
      "photoUrl": "https://lh3.googleusercontent.com/a-/AOh14Gj66Xi4yenMv6W-GYI1ZUdWPSsUqoK307WqcWChHg=s64",
      "userId": "09838267163595269298"
     },
     "user_tz": 180
    },
    "id": "3A0gXrL7KaHz"
   },
   "outputs": [],
   "source": [
    "dataset_MP.loc[(dataset_MP['data'] >= '1999-1-1') & (dataset_MP['data'] <= '2002-12-31'),['Governo','Início_gov']] =[ 'FHC_2',pd.to_datetime('1999-1-1')]\n",
    "dataset_MP.loc[(dataset_MP['data'] >= '2003-1-1') & (dataset_MP['data'] <= '2006-12-31'),['Governo','Início_gov']] = ['Lula_1',pd.to_datetime('2003-1-1')]\n",
    "dataset_MP.loc[(dataset_MP['data'] >= '2007-1-1') & (dataset_MP['data'] <= '2010-12-31'),['Governo','Início_gov']] = ['Lula_2',pd.to_datetime('2007-1-1')]\n",
    "dataset_MP.loc[(dataset_MP['data'] >= '2011-1-1') & (dataset_MP['data'] <= '2014-12-31'),['Governo','Início_gov']] = ['Dilma_1',pd.to_datetime('2011-1-1')]\n",
    "dataset_MP.loc[(dataset_MP['data'] >= '2015-1-1') & (dataset_MP['data'] <= '2016-8-31'),['Governo','Início_gov']] = ['Dilma_2',pd.to_datetime('2015-1-1')]\n",
    "dataset_MP.loc[(dataset_MP['data'] >= '2016-9-1') & (dataset_MP['data'] <= '2018-12-31'),['Governo','Início_gov']] = ['Temer',pd.to_datetime('2016-9-1')]\n",
    "dataset_MP.loc[(dataset_MP['data'] >= '2019-1-1') & (dataset_MP['data'] <= '2021-9-26'),['Governo','Início_gov']] = ['Bolsonaro',pd.to_datetime('2019-1-1')]"
   ]
  },
  {
   "cell_type": "code",
   "execution_count": null,
   "metadata": {
    "colab": {
     "base_uri": "https://localhost:8080/",
     "height": 49
    },
    "executionInfo": {
     "elapsed": 22,
     "status": "ok",
     "timestamp": 1631657245250,
     "user": {
      "displayName": "Alexandre Ramos",
      "photoUrl": "https://lh3.googleusercontent.com/a-/AOh14Gj66Xi4yenMv6W-GYI1ZUdWPSsUqoK307WqcWChHg=s64",
      "userId": "09838267163595269298"
     },
     "user_tz": 180
    },
    "id": "_n3g-B9mZUC4",
    "outputId": "33ef0ba2-392c-4b44-f678-4efeb2c3248b"
   },
   "outputs": [],
   "source": [
    "dataset_MP.loc[dataset_MP['Governo'].isna()]"
   ]
  },
  {
   "cell_type": "code",
   "execution_count": null,
   "metadata": {
    "colab": {
     "base_uri": "https://localhost:8080/"
    },
    "executionInfo": {
     "elapsed": 7,
     "status": "ok",
     "timestamp": 1631657246648,
     "user": {
      "displayName": "Alexandre Ramos",
      "photoUrl": "https://lh3.googleusercontent.com/a-/AOh14Gj66Xi4yenMv6W-GYI1ZUdWPSsUqoK307WqcWChHg=s64",
      "userId": "09838267163595269298"
     },
     "user_tz": 180
    },
    "id": "v9GxMpacY1on",
    "outputId": "a33d30fc-e1a9-4df3-9372-5ab2df6be922"
   },
   "outputs": [],
   "source": [
    "dataset_MP.info()"
   ]
  },
  {
   "cell_type": "code",
   "execution_count": null,
   "metadata": {
    "colab": {
     "base_uri": "https://localhost:8080/"
    },
    "executionInfo": {
     "elapsed": 449,
     "status": "ok",
     "timestamp": 1631657250854,
     "user": {
      "displayName": "Alexandre Ramos",
      "photoUrl": "https://lh3.googleusercontent.com/a-/AOh14Gj66Xi4yenMv6W-GYI1ZUdWPSsUqoK307WqcWChHg=s64",
      "userId": "09838267163595269298"
     },
     "user_tz": 180
    },
    "id": "KjAHsJJXYnU4",
    "outputId": "a9e246c2-2e34-4451-9d84-e34128a230dc"
   },
   "outputs": [],
   "source": [
    "dataset_MP['Dia_de_Gov'] = dataset_MP['data']-dataset_MP['Início_gov']\n",
    "dataset_MP['Dia_de_Gov'] = (dataset_MP['Dia_de_Gov'] / np.timedelta64(1,'D')).astype(int) +1\n",
    "dataset_MP['Dia_de_Gov']"
   ]
  },
  {
   "cell_type": "code",
   "execution_count": null,
   "metadata": {
    "colab": {
     "base_uri": "https://localhost:8080/",
     "height": 589
    },
    "executionInfo": {
     "elapsed": 8,
     "status": "ok",
     "timestamp": 1631657253972,
     "user": {
      "displayName": "Alexandre Ramos",
      "photoUrl": "https://lh3.googleusercontent.com/a-/AOh14Gj66Xi4yenMv6W-GYI1ZUdWPSsUqoK307WqcWChHg=s64",
      "userId": "09838267163595269298"
     },
     "user_tz": 180
    },
    "id": "1h7LL0VYYPZ9",
    "outputId": "ab4c8f62-c1ca-4ae4-c661-5ce68c6269ef"
   },
   "outputs": [],
   "source": [
    "dataset_MP"
   ]
  },
  {
   "cell_type": "code",
   "execution_count": null,
   "metadata": {
    "id": "GiufuKB5dFUa"
   },
   "outputs": [],
   "source": [
    "# dataset_MP['Situação'].mask(dataset_MP['Situação'].str.contains('\\n') == False, dataset_MP['Situação'].str.replace('Lei', '\\nLei').str.replace('Ato', '\\nAto'), inplace=True)\n",
    "# dataset_MP[\"Situação\"] = dataset_MP[\"Situação\"].str.split(\"\\n\", n = 1, expand = True)[0]"
   ]
  },
  {
   "cell_type": "code",
   "execution_count": null,
   "metadata": {
    "colab": {
     "base_uri": "https://localhost:8080/"
    },
    "executionInfo": {
     "elapsed": 406,
     "status": "ok",
     "timestamp": 1631657258213,
     "user": {
      "displayName": "Alexandre Ramos",
      "photoUrl": "https://lh3.googleusercontent.com/a-/AOh14Gj66Xi4yenMv6W-GYI1ZUdWPSsUqoK307WqcWChHg=s64",
      "userId": "09838267163595269298"
     },
     "user_tz": 180
    },
    "id": "XpsbTXBIcOUx",
    "outputId": "baeaa030-c49c-44e7-bb48-c7c8d55c606f"
   },
   "outputs": [],
   "source": [
    "dataset_MP[\"Situação\"].value_counts()"
   ]
  },
  {
   "cell_type": "code",
   "execution_count": null,
   "metadata": {
    "executionInfo": {
     "elapsed": 407,
     "status": "ok",
     "timestamp": 1631657603487,
     "user": {
      "displayName": "Alexandre Ramos",
      "photoUrl": "https://lh3.googleusercontent.com/a-/AOh14Gj66Xi4yenMv6W-GYI1ZUdWPSsUqoK307WqcWChHg=s64",
      "userId": "09838267163595269298"
     },
     "user_tz": 180
    },
    "id": "1BY3J124eYRL"
   },
   "outputs": [],
   "source": [
    "dataset_MP.loc[dataset_MP['Situação'].str.contains('Convertida', case=False),'Categoria'] = 'Convertida'\n",
    "dataset_MP.loc[dataset_MP['Situação'].str.contains('Em Tramitação', case=False),'Categoria'] = 'Em Tramitação'\n",
    "dataset_MP.loc[dataset_MP['Situação'].str.contains('Rejeitada', case=False),'Categoria'] = 'Vigência Encerrada'\n",
    "dataset_MP.loc[dataset_MP['Situação'].str.contains('Vigência Encerrada', case=False),'Categoria'] = 'Vigência Encerrada'\n",
    "dataset_MP.loc[(dataset_MP['Situação'].str.contains('Vetada', case=False)|(dataset_MP['Nº'] == 756)),'Categoria'] = 'Vigência Encerrada'\n",
    "dataset_MP.loc[dataset_MP['Situação'].str.contains('Revogada', case=False),'Categoria'] = 'Vigência Encerrada'\n",
    "dataset_MP.loc[(dataset_MP['Situação'].str.contains('Arquivada', case=False)|dataset_MP['Situação'].str.contains('Arquivamento', case=False)),'Categoria'] = 'Vigência Encerrada'\n",
    "dataset_MP.loc[(dataset_MP['Situação'].str.contains('Sem Eficácia', case=False)|dataset_MP['Situação'].str.contains('Suspensão de Eficácia', case=False)|dataset_MP['Situação'].str.contains('Encerramento de tramitação', case=False)),'Categoria'] = 'Vigência Encerrada'\n",
    "dataset_MP.loc[dataset_MP['Situação'].str.contains('Prejudicada', case=False),'Categoria'] = 'Vigência Encerrada'"
   ]
  },
  {
   "cell_type": "code",
   "execution_count": null,
   "metadata": {
    "colab": {
     "base_uri": "https://localhost:8080/",
     "height": 49
    },
    "executionInfo": {
     "elapsed": 12,
     "status": "ok",
     "timestamp": 1631657604051,
     "user": {
      "displayName": "Alexandre Ramos",
      "photoUrl": "https://lh3.googleusercontent.com/a-/AOh14Gj66Xi4yenMv6W-GYI1ZUdWPSsUqoK307WqcWChHg=s64",
      "userId": "09838267163595269298"
     },
     "user_tz": 180
    },
    "id": "Xd1M96MIhU4t",
    "outputId": "42145946-fd40-44f9-e4d1-dc2fdc28525d"
   },
   "outputs": [],
   "source": [
    "dataset_MP.loc[dataset_MP['Categoria'].isna()]"
   ]
  },
  {
   "cell_type": "code",
   "execution_count": null,
   "metadata": {
    "colab": {
     "base_uri": "https://localhost:8080/"
    },
    "executionInfo": {
     "elapsed": 10,
     "status": "ok",
     "timestamp": 1631657605133,
     "user": {
      "displayName": "Alexandre Ramos",
      "photoUrl": "https://lh3.googleusercontent.com/a-/AOh14Gj66Xi4yenMv6W-GYI1ZUdWPSsUqoK307WqcWChHg=s64",
      "userId": "09838267163595269298"
     },
     "user_tz": 180
    },
    "id": "HrK7Xp6Iiw2u",
    "outputId": "1791cad0-851d-46bb-951b-9feea14ba9ff"
   },
   "outputs": [],
   "source": [
    "dataset_MP.Categoria.value_counts()"
   ]
  },
  {
   "cell_type": "markdown",
   "metadata": {
    "id": "eZleeGFOcO_A"
   },
   "source": [
    "## Números por governo"
   ]
  },
  {
   "cell_type": "code",
   "execution_count": null,
   "metadata": {
    "colab": {
     "base_uri": "https://localhost:8080/"
    },
    "executionInfo": {
     "elapsed": 410,
     "status": "ok",
     "timestamp": 1631657315486,
     "user": {
      "displayName": "Alexandre Ramos",
      "photoUrl": "https://lh3.googleusercontent.com/a-/AOh14Gj66Xi4yenMv6W-GYI1ZUdWPSsUqoK307WqcWChHg=s64",
      "userId": "09838267163595269298"
     },
     "user_tz": 180
    },
    "id": "ixVTaOdHYQhU",
    "outputId": "3052a409-1d9b-4742-9143-7ff7cb4ccc0d"
   },
   "outputs": [],
   "source": [
    "dataset_MP['Governo'].value_counts()"
   ]
  },
  {
   "cell_type": "code",
   "execution_count": null,
   "metadata": {
    "executionInfo": {
     "elapsed": 547,
     "status": "ok",
     "timestamp": 1631657316567,
     "user": {
      "displayName": "Alexandre Ramos",
      "photoUrl": "https://lh3.googleusercontent.com/a-/AOh14Gj66Xi4yenMv6W-GYI1ZUdWPSsUqoK307WqcWChHg=s64",
      "userId": "09838267163595269298"
     },
     "user_tz": 180
    },
    "id": "7z2RKp4cYUnZ"
   },
   "outputs": [],
   "source": [
    "selecao = dataset_MP.loc[dataset_MP.Dia_de_Gov <= 1000]\n",
    "selecao['Governo'].value_counts().to_csv(dir_path+'MP_por_gov_ate1000dias.csv')"
   ]
  },
  {
   "cell_type": "code",
   "execution_count": null,
   "metadata": {
    "colab": {
     "base_uri": "https://localhost:8080/"
    },
    "executionInfo": {
     "elapsed": 6,
     "status": "ok",
     "timestamp": 1631657316986,
     "user": {
      "displayName": "Alexandre Ramos",
      "photoUrl": "https://lh3.googleusercontent.com/a-/AOh14Gj66Xi4yenMv6W-GYI1ZUdWPSsUqoK307WqcWChHg=s64",
      "userId": "09838267163595269298"
     },
     "user_tz": 180
    },
    "id": "mHeWC8HYbuDO",
    "outputId": "b99c1a75-61de-46c4-d131-ad47d9e37079"
   },
   "outputs": [],
   "source": [
    "selecao['Governo'].value_counts()"
   ]
  },
  {
   "cell_type": "code",
   "execution_count": null,
   "metadata": {
    "id": "0BKr-HahbwRh"
   },
   "outputs": [],
   "source": []
  },
  {
   "cell_type": "markdown",
   "metadata": {
    "id": "D1V3QKb4i5IR"
   },
   "source": [
    "## Números por Categoria e Governo"
   ]
  },
  {
   "cell_type": "code",
   "execution_count": null,
   "metadata": {
    "executionInfo": {
     "elapsed": 409,
     "status": "ok",
     "timestamp": 1631657611247,
     "user": {
      "displayName": "Alexandre Ramos",
      "photoUrl": "https://lh3.googleusercontent.com/a-/AOh14Gj66Xi4yenMv6W-GYI1ZUdWPSsUqoK307WqcWChHg=s64",
      "userId": "09838267163595269298"
     },
     "user_tz": 180
    },
    "id": "rwpj4fVEi9I7"
   },
   "outputs": [],
   "source": [
    "selecao = dataset_MP.loc[dataset_MP.Dia_de_Gov <= 1000]"
   ]
  },
  {
   "cell_type": "code",
   "execution_count": null,
   "metadata": {
    "executionInfo": {
     "elapsed": 2,
     "status": "ok",
     "timestamp": 1631657611853,
     "user": {
      "displayName": "Alexandre Ramos",
      "photoUrl": "https://lh3.googleusercontent.com/a-/AOh14Gj66Xi4yenMv6W-GYI1ZUdWPSsUqoK307WqcWChHg=s64",
      "userId": "09838267163595269298"
     },
     "user_tz": 180
    },
    "id": "VnZGwuxvi-x0"
   },
   "outputs": [],
   "source": [
    "csv_mp_por_gov_categoria = selecao.groupby(['Governo','Categoria']).size().reset_index()\n",
    "csv_mp_por_gov_categoria.columns = ['Governo','Categoria','Qtd']\n",
    "csv_mp_por_gov_categoria = csv_mp_por_gov_categoria.pivot(index='Governo',columns='Categoria',values='Qtd').fillna(0)\n",
    "csv_mp_por_gov_categoria['Total'] = csv_mp_por_gov_categoria.iloc[:, 0:9].sum(axis=1)\n",
    "csv_mp_por_gov_categoria = csv_mp_por_gov_categoria.sort_values(['Total'], ascending=False)\n",
    "csv_mp_por_gov_categoria.to_csv(dir_path+'MP_gov_categoria.csv')"
   ]
  },
  {
   "cell_type": "code",
   "execution_count": null,
   "metadata": {
    "colab": {
     "base_uri": "https://localhost:8080/",
     "height": 297
    },
    "executionInfo": {
     "elapsed": 420,
     "status": "ok",
     "timestamp": 1631657613811,
     "user": {
      "displayName": "Alexandre Ramos",
      "photoUrl": "https://lh3.googleusercontent.com/a-/AOh14Gj66Xi4yenMv6W-GYI1ZUdWPSsUqoK307WqcWChHg=s64",
      "userId": "09838267163595269298"
     },
     "user_tz": 180
    },
    "id": "PWew-Mk9jMXZ",
    "outputId": "20756984-840a-42ac-f9f2-c0cb1b21a2f1"
   },
   "outputs": [],
   "source": [
    "csv_mp_por_gov_categoria"
   ]
  },
  {
   "cell_type": "code",
   "execution_count": null,
   "metadata": {
    "colab": {
     "base_uri": "https://localhost:8080/",
     "height": 297
    },
    "executionInfo": {
     "elapsed": 527,
     "status": "ok",
     "timestamp": 1631657380497,
     "user": {
      "displayName": "Alexandre Ramos",
      "photoUrl": "https://lh3.googleusercontent.com/a-/AOh14Gj66Xi4yenMv6W-GYI1ZUdWPSsUqoK307WqcWChHg=s64",
      "userId": "09838267163595269298"
     },
     "user_tz": 180
    },
    "id": "Zl09fyr9jlal",
    "outputId": "b1e5f56e-ffdf-467e-9da7-aa7a69d9ef07"
   },
   "outputs": [],
   "source": [
    "csv_mp_por_gov_categoria.iloc[:,0:9]"
   ]
  },
  {
   "cell_type": "code",
   "execution_count": null,
   "metadata": {
    "id": "HXeDGApXlkb6"
   },
   "outputs": [],
   "source": []
  }
 ],
 "metadata": {
  "colab": {
   "authorship_tag": "ABX9TyOqGBWNoOh4f0gj1YRZZyiB",
   "mount_file_id": "1GAdz9sgTSpnqmAR2Zj85d5Fb8h9m9kEl",
   "name": "Análise exploratória - Decretos.ipynb",
   "provenance": []
  },
  "kernelspec": {
   "display_name": "Python 3",
   "language": "python",
   "name": "python3"
  },
  "language_info": {
   "codemirror_mode": {
    "name": "ipython",
    "version": 3
   },
   "file_extension": ".py",
   "mimetype": "text/x-python",
   "name": "python",
   "nbconvert_exporter": "python",
   "pygments_lexer": "ipython3",
   "version": "3.9.5"
  }
 },
 "nbformat": 4,
 "nbformat_minor": 1
}
